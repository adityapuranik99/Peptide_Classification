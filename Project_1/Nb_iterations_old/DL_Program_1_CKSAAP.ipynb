{
 "cells": [
  {
   "cell_type": "code",
   "execution_count": 1,
   "metadata": {},
   "outputs": [],
   "source": [
    "import pandas as pd\n",
    "import numpy as np\n",
    "import matplotlib.pyplot as plt\n",
    "import traceback as tb"
   ]
  },
  {
   "cell_type": "code",
   "execution_count": 2,
   "metadata": {},
   "outputs": [],
   "source": [
    "df = pd.read_csv('train.dat', delimiter='\\t', header=None)"
   ]
  },
  {
   "cell_type": "code",
   "execution_count": 3,
   "metadata": {},
   "outputs": [
    {
     "data": {
      "text/html": [
       "<div>\n",
       "<style scoped>\n",
       "    .dataframe tbody tr th:only-of-type {\n",
       "        vertical-align: middle;\n",
       "    }\n",
       "\n",
       "    .dataframe tbody tr th {\n",
       "        vertical-align: top;\n",
       "    }\n",
       "\n",
       "    .dataframe thead th {\n",
       "        text-align: right;\n",
       "    }\n",
       "</style>\n",
       "<table border=\"1\" class=\"dataframe\">\n",
       "  <thead>\n",
       "    <tr style=\"text-align: right;\">\n",
       "      <th></th>\n",
       "      <th>0</th>\n",
       "      <th>1</th>\n",
       "    </tr>\n",
       "  </thead>\n",
       "  <tbody>\n",
       "    <tr>\n",
       "      <th>0</th>\n",
       "      <td>-1</td>\n",
       "      <td>DVELDLVEISPNALP</td>\n",
       "    </tr>\n",
       "    <tr>\n",
       "      <th>1</th>\n",
       "      <td>-1</td>\n",
       "      <td>KADEELFNKLFFGT</td>\n",
       "    </tr>\n",
       "    <tr>\n",
       "      <th>2</th>\n",
       "      <td>-1</td>\n",
       "      <td>FLVALHLGTAFALLWYFRKRWCALVRGFFASFGGRRNDDAHMM</td>\n",
       "    </tr>\n",
       "    <tr>\n",
       "      <th>3</th>\n",
       "      <td>-1</td>\n",
       "      <td>RDQMRARIADITGVAISRIA</td>\n",
       "    </tr>\n",
       "    <tr>\n",
       "      <th>4</th>\n",
       "      <td>-1</td>\n",
       "      <td>RKRLQLLLL</td>\n",
       "    </tr>\n",
       "  </tbody>\n",
       "</table>\n",
       "</div>"
      ],
      "text/plain": [
       "   0                                            1\n",
       "0 -1                              DVELDLVEISPNALP\n",
       "1 -1                               KADEELFNKLFFGT\n",
       "2 -1  FLVALHLGTAFALLWYFRKRWCALVRGFFASFGGRRNDDAHMM\n",
       "3 -1                         RDQMRARIADITGVAISRIA\n",
       "4 -1                                    RKRLQLLLL"
      ]
     },
     "execution_count": 3,
     "metadata": {},
     "output_type": "execute_result"
    }
   ],
   "source": [
    "df.head()"
   ]
  },
  {
   "cell_type": "code",
   "execution_count": 4,
   "metadata": {},
   "outputs": [],
   "source": [
    "df_results = df[0]"
   ]
  },
  {
   "cell_type": "code",
   "execution_count": 5,
   "metadata": {},
   "outputs": [],
   "source": [
    "df_results.columns = ['Labels']"
   ]
  },
  {
   "cell_type": "code",
   "execution_count": 6,
   "metadata": {},
   "outputs": [
    {
     "data": {
      "text/plain": [
       "0      -1\n",
       "1      -1\n",
       "2      -1\n",
       "3      -1\n",
       "4      -1\n",
       "       ..\n",
       "1561   -1\n",
       "1562    1\n",
       "1563    1\n",
       "1564   -1\n",
       "1565   -1\n",
       "Name: 0, Length: 1566, dtype: int64"
      ]
     },
     "execution_count": 6,
     "metadata": {},
     "output_type": "execute_result"
    }
   ],
   "source": [
    "df_results"
   ]
  },
  {
   "cell_type": "code",
   "execution_count": 7,
   "metadata": {},
   "outputs": [],
   "source": [
    "df_seq = df[[1]]"
   ]
  },
  {
   "cell_type": "code",
   "execution_count": 8,
   "metadata": {},
   "outputs": [],
   "source": [
    "df_seq.columns = ['Sequence']"
   ]
  },
  {
   "cell_type": "code",
   "execution_count": 9,
   "metadata": {},
   "outputs": [
    {
     "data": {
      "text/html": [
       "<div>\n",
       "<style scoped>\n",
       "    .dataframe tbody tr th:only-of-type {\n",
       "        vertical-align: middle;\n",
       "    }\n",
       "\n",
       "    .dataframe tbody tr th {\n",
       "        vertical-align: top;\n",
       "    }\n",
       "\n",
       "    .dataframe thead th {\n",
       "        text-align: right;\n",
       "    }\n",
       "</style>\n",
       "<table border=\"1\" class=\"dataframe\">\n",
       "  <thead>\n",
       "    <tr style=\"text-align: right;\">\n",
       "      <th></th>\n",
       "      <th>Sequence</th>\n",
       "    </tr>\n",
       "  </thead>\n",
       "  <tbody>\n",
       "    <tr>\n",
       "      <th>0</th>\n",
       "      <td>DVELDLVEISPNALP</td>\n",
       "    </tr>\n",
       "    <tr>\n",
       "      <th>1</th>\n",
       "      <td>KADEELFNKLFFGT</td>\n",
       "    </tr>\n",
       "    <tr>\n",
       "      <th>2</th>\n",
       "      <td>FLVALHLGTAFALLWYFRKRWCALVRGFFASFGGRRNDDAHMM</td>\n",
       "    </tr>\n",
       "    <tr>\n",
       "      <th>3</th>\n",
       "      <td>RDQMRARIADITGVAISRIA</td>\n",
       "    </tr>\n",
       "    <tr>\n",
       "      <th>4</th>\n",
       "      <td>RKRLQLLLL</td>\n",
       "    </tr>\n",
       "  </tbody>\n",
       "</table>\n",
       "</div>"
      ],
      "text/plain": [
       "                                      Sequence\n",
       "0                              DVELDLVEISPNALP\n",
       "1                               KADEELFNKLFFGT\n",
       "2  FLVALHLGTAFALLWYFRKRWCALVRGFFASFGGRRNDDAHMM\n",
       "3                         RDQMRARIADITGVAISRIA\n",
       "4                                    RKRLQLLLL"
      ]
     },
     "execution_count": 9,
     "metadata": {},
     "output_type": "execute_result"
    }
   ],
   "source": [
    "df_seq.head()"
   ]
  },
  {
   "cell_type": "code",
   "execution_count": 10,
   "metadata": {},
   "outputs": [],
   "source": [
    "def dna_k_mers_generation(dna_sequence, k_mers_length):\n",
    "    k_mers_list = []\n",
    "    try:\n",
    "        for i in range(len(dna_sequence) - k_mers_length + 1):\n",
    "            k_mer_substring = dna_sequence[i : i + k_mers_length]\n",
    "            k_mers_list.append(k_mer_substring)\n",
    "    except Exception as e:\n",
    "        tb.print_exc()\n",
    "    return k_mers_list"
   ]
  },
  {
   "cell_type": "code",
   "execution_count": 11,
   "metadata": {},
   "outputs": [],
   "source": [
    "# Assuming you have a function to load and preprocess your test dataset\n",
    "# and your trained neural network 'nn' is available\n",
    "\n",
    "# Load your test dataset\n",
    "test_data = pd.read_csv('test.dat', delimiter='\\t', header=None)\n",
    "test_data.columns = ['Sequence']\n"
   ]
  },
  {
   "cell_type": "code",
   "execution_count": 12,
   "metadata": {},
   "outputs": [
    {
     "data": {
      "text/plain": [
       "(1566, 1)"
      ]
     },
     "execution_count": 12,
     "metadata": {},
     "output_type": "execute_result"
    }
   ],
   "source": [
    "df_seq.head()\n",
    "df_seq.shape"
   ]
  },
  {
   "cell_type": "code",
   "execution_count": 13,
   "metadata": {},
   "outputs": [
    {
     "data": {
      "text/plain": [
       "(392, 1)"
      ]
     },
     "execution_count": 13,
     "metadata": {},
     "output_type": "execute_result"
    }
   ],
   "source": [
    "test_data.shape"
   ]
  },
  {
   "cell_type": "code",
   "execution_count": 14,
   "metadata": {},
   "outputs": [],
   "source": [
    "def calculate_amino_acid_frequencies(sequences):\n",
    "    amino_acids = 'ABCDEFGHIJKLMNOPQRSTUVWYZ'\n",
    "    frequencies = np.zeros((len(sequences), len(amino_acids)))\n",
    "\n",
    "    for i, sequence in enumerate(sequences):\n",
    "        for aa in sequence:\n",
    "            if aa in amino_acids:\n",
    "                aa_index = amino_acids.index(aa)\n",
    "                frequencies[i, aa_index] += 1\n",
    "\n",
    "    return frequencies\n",
    "\n",
    "# Example usage:\n",
    "train_sequences = df_seq  # Replace with your actual training sequences\n",
    "train_aa_frequencies = calculate_amino_acid_frequencies(train_sequences['Sequence'])\n",
    "\n",
    "# Convert the frequencies to a numpy array or another suitable format for further processing\n",
    "import numpy as np\n",
    "train_freq_array = np.array(train_aa_frequencies)"
   ]
  },
  {
   "cell_type": "code",
   "execution_count": 15,
   "metadata": {},
   "outputs": [
    {
     "data": {
      "text/plain": [
       "(1566, 25)"
      ]
     },
     "execution_count": 15,
     "metadata": {},
     "output_type": "execute_result"
    }
   ],
   "source": [
    "train_freq_array.shape"
   ]
  },
  {
   "cell_type": "code",
   "execution_count": 16,
   "metadata": {},
   "outputs": [],
   "source": [
    "# from sklearn.feature_extraction.text import CountVectorizer\n",
    "\n",
    "# # Combine training and testing sequences\n",
    "# combined_sequences = pd.concat([df_seq, test_data], axis=0)\n",
    "# combined_sequences.shape\n",
    "\n",
    "# # Initialize CountVectorizer for k-mer features\n",
    "# vectorizer = CountVectorizer(analyzer='char', ngram_range=(1, 1))\n",
    "\n",
    "# # Apply CountVectorizer to the combined sequences\n",
    "# vectorized_data = vectorizer.fit_transform(combined_sequences['Sequence']).toarray()\n",
    "\n",
    "# # Split the vectorized data back into training and testing sets\n",
    "# train_vectorized = vectorized_data[:len(df_seq)]\n",
    "# test_vectorized = vectorized_data[len(df_seq):]\n",
    "\n",
    "# # Verify the shapes of the vectorized datasets\n",
    "# train_vectorized.shape, test_vectorized.shape\n"
   ]
  },
  {
   "cell_type": "code",
   "execution_count": 17,
   "metadata": {},
   "outputs": [],
   "source": [
    "# from sklearn.feature_extraction.text import CountVectorizer\n",
    "\n",
    "# vectorizer = CountVectorizer(analyzer='char', ngram_range=(1, 3))\n",
    "# X = vectorizer.fit_transform(df_seq['Sequence']).toarray()\n",
    "X = train_freq_array"
   ]
  },
  {
   "cell_type": "code",
   "execution_count": 18,
   "metadata": {},
   "outputs": [
    {
     "data": {
      "text/plain": [
       "(1566, 25)"
      ]
     },
     "execution_count": 18,
     "metadata": {},
     "output_type": "execute_result"
    }
   ],
   "source": [
    "X.shape"
   ]
  },
  {
   "cell_type": "code",
   "execution_count": 19,
   "metadata": {},
   "outputs": [],
   "source": [
    "# k_mers_list = []# Range of k-mer lengths (e.g., 2 to 5)\n",
    "# for k in range(2, 6):\n",
    "#     df_seq[f'kmers_{k}'] = df_seq['Sequence'].apply(lambda x: dna_k_mers_generation(x, k))"
   ]
  },
  {
   "cell_type": "code",
   "execution_count": 20,
   "metadata": {},
   "outputs": [
    {
     "data": {
      "text/plain": [
       "(1566,)"
      ]
     },
     "execution_count": 20,
     "metadata": {},
     "output_type": "execute_result"
    }
   ],
   "source": [
    "df_results.shape"
   ]
  },
  {
   "cell_type": "code",
   "execution_count": 21,
   "metadata": {},
   "outputs": [],
   "source": [
    "from imblearn.over_sampling import SMOTE\n",
    "\n",
    "y = df_results\n",
    "\n",
    "smote = SMOTE()\n",
    "X_resampled, y_resampled = smote.fit_resample(X, y)"
   ]
  },
  {
   "cell_type": "code",
   "execution_count": 22,
   "metadata": {},
   "outputs": [],
   "source": [
    "# Check the balance of the classes\n",
    "# print(pd.Series(y_resampled).value_counts()).to_clipboard()"
   ]
  },
  {
   "cell_type": "code",
   "execution_count": 23,
   "metadata": {},
   "outputs": [
    {
     "data": {
      "text/plain": [
       "0   -1\n",
       "1   -1\n",
       "2   -1\n",
       "3   -1\n",
       "4   -1\n",
       "Name: 0, dtype: int64"
      ]
     },
     "execution_count": 23,
     "metadata": {},
     "output_type": "execute_result"
    }
   ],
   "source": [
    "df_results.head()"
   ]
  },
  {
   "cell_type": "code",
   "execution_count": 24,
   "metadata": {},
   "outputs": [
    {
     "data": {
      "text/plain": [
       "0\n",
       "-1    1424\n",
       " 1     142\n",
       "Name: count, dtype: int64"
      ]
     },
     "execution_count": 24,
     "metadata": {},
     "output_type": "execute_result"
    }
   ],
   "source": [
    "df_results.value_counts()"
   ]
  },
  {
   "cell_type": "code",
   "execution_count": 25,
   "metadata": {},
   "outputs": [],
   "source": [
    "df_resampled = pd.DataFrame(X_resampled)\n",
    "# df_resampled.to_clipboard(index=False)"
   ]
  },
  {
   "cell_type": "code",
   "execution_count": 26,
   "metadata": {},
   "outputs": [
    {
     "data": {
      "text/html": [
       "<div>\n",
       "<style scoped>\n",
       "    .dataframe tbody tr th:only-of-type {\n",
       "        vertical-align: middle;\n",
       "    }\n",
       "\n",
       "    .dataframe tbody tr th {\n",
       "        vertical-align: top;\n",
       "    }\n",
       "\n",
       "    .dataframe thead th {\n",
       "        text-align: right;\n",
       "    }\n",
       "</style>\n",
       "<table border=\"1\" class=\"dataframe\">\n",
       "  <thead>\n",
       "    <tr style=\"text-align: right;\">\n",
       "      <th></th>\n",
       "      <th>0</th>\n",
       "      <th>1</th>\n",
       "      <th>2</th>\n",
       "      <th>3</th>\n",
       "      <th>4</th>\n",
       "      <th>5</th>\n",
       "      <th>6</th>\n",
       "      <th>7</th>\n",
       "      <th>8</th>\n",
       "      <th>9</th>\n",
       "      <th>...</th>\n",
       "      <th>15</th>\n",
       "      <th>16</th>\n",
       "      <th>17</th>\n",
       "      <th>18</th>\n",
       "      <th>19</th>\n",
       "      <th>20</th>\n",
       "      <th>21</th>\n",
       "      <th>22</th>\n",
       "      <th>23</th>\n",
       "      <th>24</th>\n",
       "    </tr>\n",
       "  </thead>\n",
       "  <tbody>\n",
       "    <tr>\n",
       "      <th>0</th>\n",
       "      <td>1.0</td>\n",
       "      <td>0.0</td>\n",
       "      <td>0.0</td>\n",
       "      <td>2.0</td>\n",
       "      <td>2.0</td>\n",
       "      <td>0.0</td>\n",
       "      <td>0.0</td>\n",
       "      <td>0.0</td>\n",
       "      <td>1.0</td>\n",
       "      <td>0.0</td>\n",
       "      <td>...</td>\n",
       "      <td>2.0</td>\n",
       "      <td>0.0</td>\n",
       "      <td>0.0</td>\n",
       "      <td>1.0</td>\n",
       "      <td>0.0</td>\n",
       "      <td>0.0</td>\n",
       "      <td>2.0</td>\n",
       "      <td>0.0</td>\n",
       "      <td>0.0</td>\n",
       "      <td>0.0</td>\n",
       "    </tr>\n",
       "    <tr>\n",
       "      <th>1</th>\n",
       "      <td>1.0</td>\n",
       "      <td>0.0</td>\n",
       "      <td>0.0</td>\n",
       "      <td>1.0</td>\n",
       "      <td>2.0</td>\n",
       "      <td>3.0</td>\n",
       "      <td>1.0</td>\n",
       "      <td>0.0</td>\n",
       "      <td>0.0</td>\n",
       "      <td>0.0</td>\n",
       "      <td>...</td>\n",
       "      <td>0.0</td>\n",
       "      <td>0.0</td>\n",
       "      <td>0.0</td>\n",
       "      <td>0.0</td>\n",
       "      <td>1.0</td>\n",
       "      <td>0.0</td>\n",
       "      <td>0.0</td>\n",
       "      <td>0.0</td>\n",
       "      <td>0.0</td>\n",
       "      <td>0.0</td>\n",
       "    </tr>\n",
       "    <tr>\n",
       "      <th>2</th>\n",
       "      <td>6.0</td>\n",
       "      <td>0.0</td>\n",
       "      <td>1.0</td>\n",
       "      <td>2.0</td>\n",
       "      <td>0.0</td>\n",
       "      <td>6.0</td>\n",
       "      <td>4.0</td>\n",
       "      <td>2.0</td>\n",
       "      <td>0.0</td>\n",
       "      <td>0.0</td>\n",
       "      <td>...</td>\n",
       "      <td>0.0</td>\n",
       "      <td>0.0</td>\n",
       "      <td>5.0</td>\n",
       "      <td>1.0</td>\n",
       "      <td>1.0</td>\n",
       "      <td>0.0</td>\n",
       "      <td>2.0</td>\n",
       "      <td>2.0</td>\n",
       "      <td>1.0</td>\n",
       "      <td>0.0</td>\n",
       "    </tr>\n",
       "    <tr>\n",
       "      <th>3</th>\n",
       "      <td>4.0</td>\n",
       "      <td>0.0</td>\n",
       "      <td>0.0</td>\n",
       "      <td>2.0</td>\n",
       "      <td>0.0</td>\n",
       "      <td>0.0</td>\n",
       "      <td>1.0</td>\n",
       "      <td>0.0</td>\n",
       "      <td>4.0</td>\n",
       "      <td>0.0</td>\n",
       "      <td>...</td>\n",
       "      <td>0.0</td>\n",
       "      <td>1.0</td>\n",
       "      <td>4.0</td>\n",
       "      <td>1.0</td>\n",
       "      <td>1.0</td>\n",
       "      <td>0.0</td>\n",
       "      <td>1.0</td>\n",
       "      <td>0.0</td>\n",
       "      <td>0.0</td>\n",
       "      <td>0.0</td>\n",
       "    </tr>\n",
       "    <tr>\n",
       "      <th>4</th>\n",
       "      <td>0.0</td>\n",
       "      <td>0.0</td>\n",
       "      <td>0.0</td>\n",
       "      <td>0.0</td>\n",
       "      <td>0.0</td>\n",
       "      <td>0.0</td>\n",
       "      <td>0.0</td>\n",
       "      <td>0.0</td>\n",
       "      <td>0.0</td>\n",
       "      <td>0.0</td>\n",
       "      <td>...</td>\n",
       "      <td>0.0</td>\n",
       "      <td>1.0</td>\n",
       "      <td>2.0</td>\n",
       "      <td>0.0</td>\n",
       "      <td>0.0</td>\n",
       "      <td>0.0</td>\n",
       "      <td>0.0</td>\n",
       "      <td>0.0</td>\n",
       "      <td>0.0</td>\n",
       "      <td>0.0</td>\n",
       "    </tr>\n",
       "  </tbody>\n",
       "</table>\n",
       "<p>5 rows × 25 columns</p>\n",
       "</div>"
      ],
      "text/plain": [
       "    0    1    2    3    4    5    6    7    8    9   ...   15   16   17   18  \\\n",
       "0  1.0  0.0  0.0  2.0  2.0  0.0  0.0  0.0  1.0  0.0  ...  2.0  0.0  0.0  1.0   \n",
       "1  1.0  0.0  0.0  1.0  2.0  3.0  1.0  0.0  0.0  0.0  ...  0.0  0.0  0.0  0.0   \n",
       "2  6.0  0.0  1.0  2.0  0.0  6.0  4.0  2.0  0.0  0.0  ...  0.0  0.0  5.0  1.0   \n",
       "3  4.0  0.0  0.0  2.0  0.0  0.0  1.0  0.0  4.0  0.0  ...  0.0  1.0  4.0  1.0   \n",
       "4  0.0  0.0  0.0  0.0  0.0  0.0  0.0  0.0  0.0  0.0  ...  0.0  1.0  2.0  0.0   \n",
       "\n",
       "    19   20   21   22   23   24  \n",
       "0  0.0  0.0  2.0  0.0  0.0  0.0  \n",
       "1  1.0  0.0  0.0  0.0  0.0  0.0  \n",
       "2  1.0  0.0  2.0  2.0  1.0  0.0  \n",
       "3  1.0  0.0  1.0  0.0  0.0  0.0  \n",
       "4  0.0  0.0  0.0  0.0  0.0  0.0  \n",
       "\n",
       "[5 rows x 25 columns]"
      ]
     },
     "execution_count": 26,
     "metadata": {},
     "output_type": "execute_result"
    }
   ],
   "source": [
    "df_resampled.head()"
   ]
  },
  {
   "cell_type": "code",
   "execution_count": 27,
   "metadata": {},
   "outputs": [],
   "source": [
    "# df_resampled.to_clipboard()"
   ]
  },
  {
   "cell_type": "code",
   "execution_count": 28,
   "metadata": {},
   "outputs": [],
   "source": [
    "df_resampled.to_csv('features_resampled_dict_count.csv')\n",
    "features_resampled = pd.DataFrame(y_resampled)\n",
    "features_resampled.to_csv('labels_resampled_dict_count.csv')"
   ]
  },
  {
   "cell_type": "code",
   "execution_count": 29,
   "metadata": {},
   "outputs": [
    {
     "data": {
      "text/plain": [
       "(2848, 25)"
      ]
     },
     "execution_count": 29,
     "metadata": {},
     "output_type": "execute_result"
    }
   ],
   "source": [
    "df_resampled.shape"
   ]
  },
  {
   "cell_type": "code",
   "execution_count": 30,
   "metadata": {},
   "outputs": [
    {
     "data": {
      "text/plain": [
       "(2848,)"
      ]
     },
     "execution_count": 30,
     "metadata": {},
     "output_type": "execute_result"
    }
   ],
   "source": [
    "y_resampled.shape"
   ]
  },
  {
   "cell_type": "code",
   "execution_count": 31,
   "metadata": {},
   "outputs": [],
   "source": [
    "features_resampled.columns = ['Labels']"
   ]
  },
  {
   "cell_type": "code",
   "execution_count": 32,
   "metadata": {},
   "outputs": [
    {
     "data": {
      "text/plain": [
       "(2848, 26)"
      ]
     },
     "execution_count": 32,
     "metadata": {},
     "output_type": "execute_result"
    }
   ],
   "source": [
    "## Validation test creation\n",
    "combined_df_resampled = pd.concat([df_resampled, features_resampled], axis= 1)\n",
    "combined_df_resampled.shape"
   ]
  },
  {
   "cell_type": "code",
   "execution_count": 33,
   "metadata": {},
   "outputs": [],
   "source": [
    "from sklearn.model_selection import train_test_split\n",
    "\n",
    "df_resampled_train, df_resampled_val, label_resampled_train, label_resampled_val = train_test_split(df_resampled, features_resampled, test_size= 0.3, random_state=42)"
   ]
  },
  {
   "cell_type": "code",
   "execution_count": 34,
   "metadata": {},
   "outputs": [
    {
     "name": "stdout",
     "output_type": "stream",
     "text": [
      "(1993, 25)\n",
      "(855, 25)\n",
      "(1993, 1)\n",
      "(855, 1)\n"
     ]
    }
   ],
   "source": [
    "print(df_resampled_train.shape)\n",
    "print(df_resampled_val.shape)\n",
    "print(label_resampled_train.shape)\n",
    "print(label_resampled_val.shape)"
   ]
  },
  {
   "cell_type": "code",
   "execution_count": 35,
   "metadata": {},
   "outputs": [
    {
     "data": {
      "text/html": [
       "<div>\n",
       "<style scoped>\n",
       "    .dataframe tbody tr th:only-of-type {\n",
       "        vertical-align: middle;\n",
       "    }\n",
       "\n",
       "    .dataframe tbody tr th {\n",
       "        vertical-align: top;\n",
       "    }\n",
       "\n",
       "    .dataframe thead th {\n",
       "        text-align: right;\n",
       "    }\n",
       "</style>\n",
       "<table border=\"1\" class=\"dataframe\">\n",
       "  <thead>\n",
       "    <tr style=\"text-align: right;\">\n",
       "      <th></th>\n",
       "      <th>Labels</th>\n",
       "    </tr>\n",
       "  </thead>\n",
       "  <tbody>\n",
       "    <tr>\n",
       "      <th>1650</th>\n",
       "      <td>1</td>\n",
       "    </tr>\n",
       "    <tr>\n",
       "      <th>1398</th>\n",
       "      <td>-1</td>\n",
       "    </tr>\n",
       "    <tr>\n",
       "      <th>1972</th>\n",
       "      <td>1</td>\n",
       "    </tr>\n",
       "    <tr>\n",
       "      <th>1725</th>\n",
       "      <td>1</td>\n",
       "    </tr>\n",
       "    <tr>\n",
       "      <th>1128</th>\n",
       "      <td>-1</td>\n",
       "    </tr>\n",
       "    <tr>\n",
       "      <th>...</th>\n",
       "      <td>...</td>\n",
       "    </tr>\n",
       "    <tr>\n",
       "      <th>1638</th>\n",
       "      <td>1</td>\n",
       "    </tr>\n",
       "    <tr>\n",
       "      <th>1095</th>\n",
       "      <td>-1</td>\n",
       "    </tr>\n",
       "    <tr>\n",
       "      <th>1130</th>\n",
       "      <td>-1</td>\n",
       "    </tr>\n",
       "    <tr>\n",
       "      <th>1294</th>\n",
       "      <td>-1</td>\n",
       "    </tr>\n",
       "    <tr>\n",
       "      <th>860</th>\n",
       "      <td>-1</td>\n",
       "    </tr>\n",
       "  </tbody>\n",
       "</table>\n",
       "<p>1993 rows × 1 columns</p>\n",
       "</div>"
      ],
      "text/plain": [
       "      Labels\n",
       "1650       1\n",
       "1398      -1\n",
       "1972       1\n",
       "1725       1\n",
       "1128      -1\n",
       "...      ...\n",
       "1638       1\n",
       "1095      -1\n",
       "1130      -1\n",
       "1294      -1\n",
       "860       -1\n",
       "\n",
       "[1993 rows x 1 columns]"
      ]
     },
     "execution_count": 35,
     "metadata": {},
     "output_type": "execute_result"
    }
   ],
   "source": [
    "label_resampled_train"
   ]
  },
  {
   "cell_type": "code",
   "execution_count": 93,
   "metadata": {},
   "outputs": [
    {
     "name": "stdout",
     "output_type": "stream",
     "text": [
      "[[-0.08977239  0.17679223 -0.54837478  0.11393782  0.17975586 -0.34514989\n",
      "   0.50069943  0.10691784 -0.07805785  0.19917284  0.53832629  0.15999522\n",
      "   0.38811838  0.42002593 -0.04992499  0.21253565  0.33550892  0.18053533\n",
      "  -0.25901699  0.09872019  0.0325961   0.03614878 -0.03866412  0.04312314\n",
      "  -0.03428679]\n",
      " [ 0.17783711 -0.07461085 -0.27135314  0.0747997  -0.15356615 -0.41862692\n",
      "  -0.02994567 -0.27381732  0.42655965 -0.06953568 -0.26973792  0.23050615\n",
      "   0.35682147 -0.30756588  0.10636288  0.22094239 -0.34132924  0.6627394\n",
      "  -0.32155842 -0.01482695  0.16698705  0.02833312 -0.06399635  0.36140186\n",
      "  -0.0374275 ]\n",
      " [ 0.05213034 -0.38403608  0.17572602  0.12153563 -0.18439857  0.1670397\n",
      "   0.26870734  0.06906199 -0.07303531 -0.66417316 -0.04884737  0.05838001\n",
      "  -0.04117475 -0.17939912 -0.15952836  0.5945547  -0.31401169  0.21757653\n",
      "  -0.31305005  0.33006285  0.04816558  0.24285706  0.01289384 -0.16360299\n",
      "  -0.00135796]\n",
      " [-0.16438015 -0.26660998  0.14991275 -0.09910054 -0.00531596  0.01149967\n",
      "  -0.23369234  0.40952482  0.08533333  0.18912631  0.30432815  0.15781266\n",
      "   0.65409662 -0.07521181 -0.16641419  0.35738554  0.07992865  0.24043697\n",
      "  -0.03170116  0.14606243 -0.01673909  0.44685489  0.09343772  0.23709024\n",
      "   0.19151926]\n",
      " [ 0.63239915  0.71658353  0.58611363  0.31933933  0.72989948 -0.38896419\n",
      "   0.12328345 -0.66889115 -0.19793545 -0.28153705  0.06228515  0.52924548\n",
      "  -0.02704998 -0.20204905  0.15781217 -0.01762642 -0.10003205 -0.066943\n",
      "  -0.1484479   0.16068203  0.25779911 -0.02672863  0.07040171 -0.36974378\n",
      "   0.08090316]\n",
      " [ 0.16532331 -0.05925858 -0.13514068 -0.14297334  0.17700543 -0.31116568\n",
      "   0.30162358  0.37253263  0.07404642  0.10640178  0.15039699  0.55095004\n",
      "  -0.54157007  0.18301241 -0.54044992  0.60932679  0.37330746  0.47270205\n",
      "  -0.00613877  0.01756889 -0.26260277 -0.45284842 -0.12951096  0.00997443\n",
      "   0.27418319]\n",
      " [-0.54039802  1.08554347 -0.46899019  0.10910933 -0.0213129   0.12067066\n",
      "  -0.00925304  0.23636852  0.10315037 -0.06853319  0.0891331  -0.14824488\n",
      "  -0.11733442 -0.46952856 -0.49063186 -0.31041089  0.48908621 -0.60907499\n",
      "   0.10735795  0.7368148   0.00359039 -0.32284785 -0.36066498 -0.41749045\n",
      "   0.06306476]\n",
      " [-0.40937326  0.79074404  0.03698541  0.23589022  0.5273526  -0.05011513\n",
      "  -0.18348281 -0.20754871 -0.18359901  0.08918603  0.22558458  0.15088199\n",
      "  -0.37251119 -0.14548481 -0.25956652 -0.35594001 -0.02539363  0.54999672\n",
      "   0.23510746 -0.50617801  0.37299865  0.06248043  0.13815297 -0.13697823\n",
      "   0.61352468]\n",
      " [ 0.09391286  0.36640432  0.20288159  0.19104213 -0.73282275  0.11074952\n",
      "   0.2938582   0.38127515  0.35878555 -0.32710259  0.25501635 -0.18386339\n",
      "   0.34589926 -0.27918016 -0.71889455 -0.01649515 -0.19071436 -0.01106682\n",
      "   0.32703355 -0.39649964 -0.02308222 -0.00512115 -0.4881007  -0.47878178\n",
      "   0.01760676]\n",
      " [ 0.42089281 -0.05196963 -0.60186433 -0.41638797  0.03158555  0.41546894\n",
      "  -0.39279193  0.07964943 -0.10548833 -0.26107735  0.14635896  0.1268249\n",
      "   0.34788261 -0.12251992 -0.62918412 -0.30797308  0.32291437 -0.11553157\n",
      "   0.11876829 -0.53244629 -0.07247248  0.0408955   0.18779293  0.57107578\n",
      "   0.08423944]\n",
      " [-0.3430275  -0.48561213 -0.76216281 -0.38003939  0.07527113  0.12761082\n",
      "  -0.46496273  0.09062459 -0.12510316 -0.04181371 -0.28657537  0.40241383\n",
      "  -0.3302105   0.56783851  0.06638498 -0.09685005 -0.56448746 -0.20147435\n",
      "  -0.42877649 -0.43078628  0.13406083  0.05024784  0.19667843 -0.02455625\n",
      "  -0.25458757]\n",
      " [-0.02772092 -0.05105295  0.29704347  0.21179295  0.16587014 -0.26819637\n",
      "   0.06962537 -0.36675916  0.2707714  -0.18086277 -0.37715601  0.31619014\n",
      "   0.30092328  0.30969848 -0.31209379 -0.35620585  0.42130023 -0.31554022\n",
      "   0.02478849 -0.04833463 -0.24705867  0.09129243  0.15197945 -0.26330281\n",
      "  -0.39203447]\n",
      " [-0.26135417 -0.0213714   0.03193862 -0.13704019 -0.31547637 -0.63748795\n",
      "  -0.61644443  0.24479659  0.67201374 -0.10290523  0.4485695  -0.34687983\n",
      "  -0.53608813 -0.03848083 -0.21115082 -0.04296029  0.40821181 -0.009192\n",
      "  -0.60053215  0.40554737  0.0036697   0.14100108  0.02750135 -0.14210536\n",
      "   0.09112668]\n",
      " [-0.03456748  0.31440068 -0.46426413  0.10657486 -0.03417743 -0.54476773\n",
      "   0.37882255 -0.3013294  -0.03942679  0.03832935  0.23104721 -0.1407152\n",
      "   0.08731146  0.54335013 -0.03098831 -0.22773596  0.32370132 -0.1626214\n",
      "   0.12976868  0.17477707  0.24467992  0.09926906 -0.37926655 -0.31000446\n",
      "  -0.04403456]\n",
      " [ 0.01371701  0.08710941 -0.47320695 -0.17857846 -0.36068331  0.164424\n",
      "  -0.46874039  0.47220263  0.09295506 -0.37268025 -0.20611788 -0.21058057\n",
      "  -0.47645334  0.14398884 -0.27172465 -0.3100335  -0.11600057  0.04010596\n",
      "  -0.08162509 -0.09141519  0.61969019  0.53138888  0.10445606 -0.23430273\n",
      "  -0.32510141]\n",
      " [ 0.35164189  0.34144634  0.04029598  0.577524   -0.03083655 -0.01110002\n",
      "  -0.46524122 -0.02570626 -0.32610153  0.28010506 -0.06997236  0.03779024\n",
      "   0.18145431 -0.14391493  0.19627713 -0.12752015  0.34204871  0.16287192\n",
      "   0.08149427 -0.55673301 -0.50470514  0.04901078 -0.09231395  0.35649882\n",
      "  -0.30391277]]\n",
      "[[ 0.16778563  0.06013737 -0.205861    0.19805481 -0.19016144 -0.2361065\n",
      "  -0.02945231 -0.27757945 -0.14502221 -0.16945233  0.21949873 -0.58590954\n",
      "   0.29051915  0.22053587 -0.19758524  0.29924671]]\n"
     ]
    }
   ],
   "source": [
    "import numpy as np\n",
    "import scipy.special\n",
    "\n",
    "class NeuralNetwork:\n",
    "    \n",
    "    def __init__(self, inputnodes, hiddennodes, outputnodes, learningrate, lambda_reg, class_weights=None):\n",
    "        # Set number of nodes in each input, hidden, output layer\n",
    "        self.inodes = inputnodes\n",
    "        self.hnodes = hiddennodes\n",
    "        self.onodes = outputnodes\n",
    "\n",
    "        # Initialize weights with a normal distribution\n",
    "        self.wih = np.random.normal(0.0, np.sqrt(2.0 / self.inodes), (self.hnodes, self.inodes))\n",
    "        # self.wih = np.random.normal(0.0, pow(self.inodes, -0.5), (self.hnodes, self.inodes))\n",
    "        self.who = np.random.normal(0.0, pow(self.hnodes, -0.5), (self.onodes, self.hnodes))\n",
    "\n",
    "        # Class weights (keys are -1 and 1)\n",
    "        self.class_weights = class_weights if class_weights is not None else {-1: 1, 1: 1}\n",
    "\n",
    "\n",
    "        print(self.wih)\n",
    "        print(self.who)\n",
    "\n",
    "        # Learning ratek\n",
    "        self.lr = learningrate\n",
    "        \n",
    "        # Activation functions\n",
    "        self.activation_function_hidden = lambda x: np.maximum(0, x)  # ReLU for hidden layers\n",
    "        self.activation_function_output = lambda x: scipy.special.expit(x)  # Sigmoid for output layer\n",
    "\n",
    "        # Regularizing parameter\n",
    "        self.lambda_reg = lambda_reg\n",
    "\n",
    "        pass\n",
    "\n",
    "    def sigmoid(self, x):\n",
    "        # Modified sigmoid function with input clipping\n",
    "        return 1 / (1 + np.exp(-np.clip(x, -500, 500)))\n",
    "    \n",
    "\n",
    "    def train(self, inputs_list, targets_list):\n",
    "        # Convert inputs list to 2d array\n",
    "        inputs = np.array(inputs_list, ndmin=2).T\n",
    "        # Adjust targets from -1 to 0, keep 1 as is\n",
    "        targets = np.array([(0 if t == -1 else 1) for t in targets_list], ndmin=2).T\n",
    "\n",
    "        # Forward pass\n",
    "        hidden_inputs = np.dot(self.wih, inputs)\n",
    "        hidden_outputs = self.activation_function_hidden(hidden_inputs)\n",
    "        \n",
    "        final_inputs = np.dot(self.who, hidden_outputs)\n",
    "        final_outputs = self.sigmoid(final_inputs)\n",
    "\n",
    "        # Error calculation\n",
    "        output_errors = targets - final_outputs\n",
    "        weighted_errors = np.where(targets == 1, output_errors * self.class_weights[1], output_errors * self.class_weights[-1])\n",
    "        hidden_errors = np.dot(self.who.T, output_errors)\n",
    "\n",
    "        # Gradient for output layer\n",
    "        output_gradient = weighted_errors * final_outputs * (1.0 - final_outputs)\n",
    "\n",
    "        # Gradient clipping for output layer\n",
    "        max_gradient = 1.0  # Set your desired maximum gradient value\n",
    "        output_gradient = np.clip(output_gradient, -max_gradient, max_gradient)\n",
    "        \n",
    "\n",
    "\n",
    "        # Update output layer weights\n",
    "        # self.who += self.lr * (np.dot(output_gradient, np.transpose(hidden_outputs)) + self.lambda_reg * self.who)\n",
    "        self.who += self.lr * (np.dot(output_gradient, np.transpose(hidden_outputs)) - self.lambda_reg * self.who)\n",
    "\n",
    "        # Gradient for hidden layer (considering ReLU derivative)\n",
    "        hidden_gradient = hidden_errors * (hidden_outputs > 0)\n",
    "        # Gradient clipping for hidden layer\n",
    "        hidden_gradient = np.clip(hidden_gradient, -max_gradient, max_gradient)\n",
    "\n",
    "        # Update hidden layer weights\n",
    "        self.wih += self.lr * (np.dot(hidden_gradient, np.transpose(inputs)) - self.lambda_reg * self.wih)\n",
    "        \n",
    "        pass\n",
    "\n",
    "    def query(self, inputs_list):\n",
    "        # Convert inputs list to 2d array\n",
    "        inputs = np.array(inputs_list, ndmin=2).T\n",
    "\n",
    "        # Forward pass\n",
    "        hidden_inputs = np.dot(self.wih, inputs)\n",
    "        hidden_outputs = self.activation_function_hidden(hidden_inputs)\n",
    "        \n",
    "        final_inputs = np.dot(self.who, hidden_outputs)\n",
    "        final_outputs = self.sigmoid(final_inputs)\n",
    "        \n",
    "        return final_outputs\n",
    "\n",
    "# Example: Creating a Neural Network\n",
    "input_nodes = 25\n",
    "hidden_nodes = 16   # Adjust as needed\n",
    "output_nodes = 1\n",
    "learning_rate = 0.08\n",
    "lambda_reg = 0.000\n",
    "class_weights = {-1: 1.0, 1: 1.3}\n",
    "\n",
    "nn = NeuralNetwork(input_nodes, hidden_nodes, output_nodes, learning_rate, lambda_reg, class_weights)\n"
   ]
  },
  {
   "cell_type": "code",
   "execution_count": 94,
   "metadata": {},
   "outputs": [],
   "source": [
    "def mean_squared_error(targets, predictions):\n",
    "    return np.mean((targets - predictions) ** 2)"
   ]
  },
  {
   "cell_type": "code",
   "execution_count": 95,
   "metadata": {},
   "outputs": [
    {
     "data": {
      "text/plain": [
       "array([[0.03253605]])"
      ]
     },
     "execution_count": 95,
     "metadata": {},
     "output_type": "execute_result"
    }
   ],
   "source": [
    "predictions = nn.query(df_resampled_train.iloc[1].values)\n",
    "\n",
    "predictions"
   ]
  },
  {
   "cell_type": "code",
   "execution_count": 96,
   "metadata": {},
   "outputs": [
    {
     "name": "stdout",
     "output_type": "stream",
     "text": [
      "Epoch 1/100, Loss: 0.39739086803813345\n",
      "Epoch 2/100, Loss: 0.34922227797290517\n",
      "Epoch 3/100, Loss: 0.3070747616658304\n",
      "Epoch 4/100, Loss: 0.30506773707977924\n",
      "Epoch 5/100, Loss: 0.28299046663321625\n",
      "Epoch 6/100, Loss: 0.2227797290516809\n",
      "Epoch 7/100, Loss: 0.18665328650275967\n",
      "Epoch 8/100, Loss: 0.16457601605619668\n",
      "Epoch 9/100, Loss: 0.15253386853988962\n",
      "Epoch 10/100, Loss: 0.15052684395383845\n",
      "Epoch 11/100, Loss: 0.11038635223281486\n",
      "Epoch 12/100, Loss: 0.11841445057701956\n",
      "Epoch 13/100, Loss: 0.10837932764676367\n",
      "Epoch 14/100, Loss: 0.10837932764676367\n",
      "Epoch 15/100, Loss: 0.09031610637230306\n",
      "Epoch 16/100, Loss: 0.10235825388861014\n",
      "Epoch 17/100, Loss: 0.06623181133968892\n",
      "Epoch 18/100, Loss: 0.054189663823381834\n",
      "Epoch 19/100, Loss: 0.0963371801304566\n",
      "Epoch 20/100, Loss: 0.06221776216758655\n",
      "Epoch 21/100, Loss: 0.03612644254892122\n",
      "Epoch 22/100, Loss: 0.032112393376818864\n",
      "Epoch 23/100, Loss: 0.02609131961866533\n",
      "Epoch 24/100, Loss: 0.02207727044656297\n",
      "Epoch 25/100, Loss: 0.016056196688409432\n",
      "Epoch 26/100, Loss: 0.012042147516307075\n",
      "Epoch 27/100, Loss: 0.012042147516307075\n",
      "Epoch 28/100, Loss: 0.006021073758153537\n",
      "Epoch 29/100, Loss: 0.004014049172102358\n",
      "Epoch 30/100, Loss: 0.004014049172102358\n",
      "Epoch 31/100, Loss: 0.008028098344204716\n",
      "Epoch 32/100, Loss: 0.002007024586051179\n",
      "Epoch 33/100, Loss: 0.004014049172102358\n",
      "Epoch 34/100, Loss: 0.002007024586051179\n",
      "Epoch 35/100, Loss: 0.002007024586051179\n",
      "Epoch 36/100, Loss: 0.0\n",
      "Epoch 37/100, Loss: 0.0\n",
      "Epoch 38/100, Loss: 0.0\n",
      "Epoch 39/100, Loss: 0.002007024586051179\n",
      "Epoch 40/100, Loss: 0.002007024586051179\n",
      "Epoch 41/100, Loss: 0.0\n",
      "Epoch 42/100, Loss: 0.0\n",
      "Epoch 43/100, Loss: 0.002007024586051179\n",
      "Epoch 44/100, Loss: 0.0\n",
      "Epoch 45/100, Loss: 0.0\n",
      "Epoch 46/100, Loss: 0.0\n",
      "Epoch 47/100, Loss: 0.0\n",
      "Epoch 48/100, Loss: 0.0\n",
      "Epoch 49/100, Loss: 0.0\n",
      "Epoch 50/100, Loss: 0.0\n",
      "Epoch 51/100, Loss: 0.0\n",
      "Epoch 52/100, Loss: 0.0\n",
      "Epoch 53/100, Loss: 0.0\n",
      "Epoch 54/100, Loss: 0.0\n",
      "Epoch 55/100, Loss: 0.0\n",
      "Epoch 56/100, Loss: 0.0\n",
      "Epoch 57/100, Loss: 0.0\n",
      "Epoch 58/100, Loss: 0.0\n",
      "Epoch 59/100, Loss: 0.0\n",
      "Epoch 60/100, Loss: 0.0\n",
      "Epoch 61/100, Loss: 0.0\n",
      "Epoch 62/100, Loss: 0.0\n",
      "Epoch 63/100, Loss: 0.0\n",
      "Epoch 64/100, Loss: 0.0\n",
      "Epoch 65/100, Loss: 0.0\n",
      "Epoch 66/100, Loss: 0.0\n",
      "Epoch 67/100, Loss: 0.0\n",
      "Epoch 68/100, Loss: 0.0\n",
      "Epoch 69/100, Loss: 0.0\n",
      "Epoch 70/100, Loss: 0.0\n",
      "Epoch 71/100, Loss: 0.0\n",
      "Epoch 72/100, Loss: 0.0\n",
      "Epoch 73/100, Loss: 0.0\n",
      "Epoch 74/100, Loss: 0.0\n",
      "Epoch 75/100, Loss: 0.0\n",
      "Epoch 76/100, Loss: 0.0\n",
      "Epoch 77/100, Loss: 0.0\n",
      "Epoch 78/100, Loss: 0.0\n",
      "Epoch 79/100, Loss: 0.0\n",
      "Epoch 80/100, Loss: 0.0\n",
      "Epoch 81/100, Loss: 0.0\n",
      "Epoch 82/100, Loss: 0.0\n",
      "Epoch 83/100, Loss: 0.0\n",
      "Epoch 84/100, Loss: 0.0\n",
      "Epoch 85/100, Loss: 0.0\n",
      "Epoch 86/100, Loss: 0.0\n",
      "Epoch 87/100, Loss: 0.0\n",
      "Epoch 88/100, Loss: 0.0\n",
      "Epoch 89/100, Loss: 0.0\n",
      "Epoch 90/100, Loss: 0.0\n",
      "Epoch 91/100, Loss: 0.0\n",
      "Epoch 92/100, Loss: 0.0\n",
      "Epoch 93/100, Loss: 0.0\n",
      "Epoch 94/100, Loss: 0.0\n",
      "Epoch 95/100, Loss: 0.0\n",
      "Epoch 96/100, Loss: 0.0\n",
      "Epoch 97/100, Loss: 0.0\n",
      "Epoch 98/100, Loss: 0.0\n",
      "Epoch 99/100, Loss: 0.0\n",
      "Epoch 100/100, Loss: 0.0\n"
     ]
    }
   ],
   "source": [
    "epochs = 100\n",
    "losses = []\n",
    "\n",
    "for epoch in range(epochs):\n",
    "    epoch_losses = []\n",
    "    for i in range(len(df_resampled_train)):\n",
    "        inputs = df_resampled_train.iloc[i].values\n",
    "        targets = label_resampled_train.iloc[i].values\n",
    "\n",
    "        output = nn.query(inputs)\n",
    "        # predictions = np.array(predictions)\n",
    "\n",
    "        # Convert sigmoid output to -1 or 1\n",
    "        predicted_label = 1 if output[0] >= 0.8 else -1\n",
    "\n",
    "        nn.train(inputs, targets)\n",
    "\n",
    "        sample_loss = mean_squared_error(targets, predicted_label)\n",
    "        epoch_losses.append(sample_loss)\n",
    "\n",
    "        nn.train(inputs, targets)\n",
    "\n",
    "    epoch_loss = np.mean(epoch_losses)\n",
    "    losses.append(epoch_loss)\n",
    "\n",
    "    # Print the loss for this epoch (optional)\n",
    "    print(f\"Epoch {epoch+1}/{epochs}, Loss: {epoch_loss}\")\n",
    "\n",
    "    # # Log the weights\n",
    "    # print(f\"Weights between input and hidden layer (Mean, Std): {np.mean(nn.wih)}, {np.std(nn.wih)}\")\n",
    "    # print(f\"Weights between hidden and output layer (Mean, Std): {np.mean(nn.who)}, {np.std(nn.who)}\")\n",
    "\n"
   ]
  },
  {
   "cell_type": "code",
   "execution_count": 97,
   "metadata": {},
   "outputs": [
    {
     "data": {
      "image/png": "[encoded data removed]",
      "text/plain": [
       "<Figure size 1000x600 with 1 Axes>"
      ]
     },
     "metadata": {},
     "output_type": "display_data"
    }
   ],
   "source": [
    "import matplotlib.pyplot as plt\n",
    "\n",
    "# Plot the training loss\n",
    "plt.figure(figsize=(10, 6))\n",
    "plt.plot(range(1, epochs + 1), losses, label='Training Loss')\n",
    "plt.xlabel('Epochs')\n",
    "plt.ylabel('Loss')\n",
    "plt.title('Training Loss Over Epochs')\n",
    "plt.legend()\n",
    "plt.grid(True)\n",
    "plt.show()"
   ]
  },
  {
   "cell_type": "code",
   "execution_count": 98,
   "metadata": {},
   "outputs": [
    {
     "name": "stdout",
     "output_type": "stream",
     "text": [
      "Labels\n",
      " 1        997\n",
      "-1        996\n",
      "Name: count, dtype: int64\n"
     ]
    }
   ],
   "source": [
    "# print(df_resampled_train.value_counts())\n",
    "print(label_resampled_train.value_counts())"
   ]
  },
  {
   "cell_type": "code",
   "execution_count": 99,
   "metadata": {},
   "outputs": [
    {
     "data": {
      "text/plain": [
       "1"
      ]
     },
     "execution_count": 99,
     "metadata": {},
     "output_type": "execute_result"
    }
   ],
   "source": [
    "label_resampled_train.iloc[0,0]"
   ]
  },
  {
   "cell_type": "code",
   "execution_count": 100,
   "metadata": {},
   "outputs": [],
   "source": [
    "def calculate_mcc(y_true, y_pred):\n",
    "    tp = np.sum((y_true == 1) & (y_pred == 1))\n",
    "    tn = np.sum((y_true == -1) & (y_pred == -1))\n",
    "    fp = np.sum((y_true == -1) & (y_pred == 1))\n",
    "    fn = np.sum((y_true == 1) & (y_pred == -1))\n",
    "\n",
    "    numerator = (tp * tn) - (fp * fn)\n",
    "    denominator = np.sqrt((tp + fp) * (tp + fn) * (tn + fp) * (tn + fn))\n",
    "    return numerator / (denominator + np.finfo(float).eps)"
   ]
  },
  {
   "cell_type": "code",
   "execution_count": 135,
   "metadata": {},
   "outputs": [],
   "source": [
    "def evaluate_model(nn, X_val, y_val):\n",
    "    predictions = []\n",
    "\n",
    "    for i in range(len(X_val)):\n",
    "        inputs = X_val.iloc[i].values  # Convert DataFrame row to NumPy array\n",
    "        output = nn.query(inputs)\n",
    "        predicted_label = 1 if output[0] >= 0.8 else -1\n",
    "        predictions.append(predicted_label)\n",
    "\n",
    "    predictions = np.array(predictions)\n",
    "    print(pd.DataFrame(predictions).value_counts())\n",
    "\n",
    "    if isinstance(y_val, (pd.DataFrame, pd.Series)):\n",
    "        y_val = y_val.values.flatten()\n",
    "    mcc_score = calculate_mcc(y_val, predictions)\n",
    "    return mcc_score, predictions\n",
    "\n",
    "# # Calculate MCC for the validation set\n",
    "# mcc_validation, val_predictions = evaluate_model(nn, df_resampled_val, label_resampled_val)\n",
    "# print(f\"MCC on Validation Set: {mcc_validation}\")"
   ]
  },
  {
   "cell_type": "code",
   "execution_count": 139,
   "metadata": {},
   "outputs": [
    {
     "name": "stdout",
     "output_type": "stream",
     "text": [
      " 1    436\n",
      "-1    419\n",
      "Name: count, dtype: int64\n",
      "MCC on Validation Set: 0.9791648613863829\n",
      "(855,)\n",
      "(855,)\n"
     ]
    },
    {
     "data": {
      "image/png": "[encoded data removed]",
      "text/plain": [
       "<Figure size 600x600 with 1 Axes>"
      ]
     },
     "metadata": {},
     "output_type": "display_data"
    }
   ],
   "source": [
    "from sklearn.metrics import confusion_matrix\n",
    "import matplotlib.pyplot as plt\n",
    "import seaborn as sns\n",
    "\n",
    "def plot_confusion_matrix(cm, title):\n",
    "    plt.figure(figsize=(6, 6))\n",
    "    sns.heatmap(cm, annot=True, fmt='g', cmap='Blues', cbar=False)\n",
    "    plt.xlabel('Predicted Label')\n",
    "    plt.ylabel('True Label')\n",
    "    plt.title(title)\n",
    "    plt.show()\n",
    "\n",
    "# Calculate predictions using the evaluate_model function\n",
    "mcc_validation, val_predictions = evaluate_model(nn, df_resampled_val, label_resampled_val)\n",
    "print(f\"MCC on Validation Set: {mcc_validation}\")\n",
    "\n",
    "print(label_resampled_val.shape)\n",
    "print(val_predictions.shape)\n",
    "\n",
    "# Convert actual target values to the appropriate format\n",
    "if isinstance(label_resampled_val, (pd.DataFrame, pd.Series)):\n",
    "    label_resampled_val = label_resampled_val.values.flatten()\n",
    "\n",
    "# Create the confusion matrix\n",
    "cm = confusion_matrix(label_resampled_val, val_predictions)\n",
    "\n",
    "# Plot the confusion matrix\n",
    "plot_confusion_matrix(cm, 'Confusion Matrix for Validation Set')\n"
   ]
  },
  {
   "cell_type": "code",
   "execution_count": 102,
   "metadata": {},
   "outputs": [
    {
     "data": {
      "text/html": [
       "<div>\n",
       "<style scoped>\n",
       "    .dataframe tbody tr th:only-of-type {\n",
       "        vertical-align: middle;\n",
       "    }\n",
       "\n",
       "    .dataframe tbody tr th {\n",
       "        vertical-align: top;\n",
       "    }\n",
       "\n",
       "    .dataframe thead th {\n",
       "        text-align: right;\n",
       "    }\n",
       "</style>\n",
       "<table border=\"1\" class=\"dataframe\">\n",
       "  <thead>\n",
       "    <tr style=\"text-align: right;\">\n",
       "      <th></th>\n",
       "      <th>0</th>\n",
       "      <th>1</th>\n",
       "      <th>2</th>\n",
       "      <th>3</th>\n",
       "      <th>4</th>\n",
       "      <th>5</th>\n",
       "      <th>6</th>\n",
       "      <th>7</th>\n",
       "      <th>8</th>\n",
       "      <th>9</th>\n",
       "      <th>...</th>\n",
       "      <th>15</th>\n",
       "      <th>16</th>\n",
       "      <th>17</th>\n",
       "      <th>18</th>\n",
       "      <th>19</th>\n",
       "      <th>20</th>\n",
       "      <th>21</th>\n",
       "      <th>22</th>\n",
       "      <th>23</th>\n",
       "      <th>24</th>\n",
       "    </tr>\n",
       "  </thead>\n",
       "  <tbody>\n",
       "    <tr>\n",
       "      <th>1576</th>\n",
       "      <td>1.804878</td>\n",
       "      <td>0.0</td>\n",
       "      <td>0.000000</td>\n",
       "      <td>0.0</td>\n",
       "      <td>0.000000</td>\n",
       "      <td>0.0</td>\n",
       "      <td>0.000000</td>\n",
       "      <td>0.0</td>\n",
       "      <td>1.195122</td>\n",
       "      <td>0.0</td>\n",
       "      <td>...</td>\n",
       "      <td>0.00000</td>\n",
       "      <td>0.000000</td>\n",
       "      <td>4.000000</td>\n",
       "      <td>0.00000</td>\n",
       "      <td>0.0</td>\n",
       "      <td>0.0</td>\n",
       "      <td>3.000000</td>\n",
       "      <td>1.000000</td>\n",
       "      <td>0.00000</td>\n",
       "      <td>0.0</td>\n",
       "    </tr>\n",
       "    <tr>\n",
       "      <th>324</th>\n",
       "      <td>0.000000</td>\n",
       "      <td>0.0</td>\n",
       "      <td>0.000000</td>\n",
       "      <td>0.0</td>\n",
       "      <td>0.000000</td>\n",
       "      <td>0.0</td>\n",
       "      <td>1.000000</td>\n",
       "      <td>0.0</td>\n",
       "      <td>0.000000</td>\n",
       "      <td>0.0</td>\n",
       "      <td>...</td>\n",
       "      <td>0.00000</td>\n",
       "      <td>0.000000</td>\n",
       "      <td>0.000000</td>\n",
       "      <td>0.00000</td>\n",
       "      <td>0.0</td>\n",
       "      <td>0.0</td>\n",
       "      <td>1.000000</td>\n",
       "      <td>1.000000</td>\n",
       "      <td>1.00000</td>\n",
       "      <td>0.0</td>\n",
       "    </tr>\n",
       "    <tr>\n",
       "      <th>2123</th>\n",
       "      <td>0.897279</td>\n",
       "      <td>0.0</td>\n",
       "      <td>0.102721</td>\n",
       "      <td>0.0</td>\n",
       "      <td>0.102721</td>\n",
       "      <td>0.0</td>\n",
       "      <td>0.102721</td>\n",
       "      <td>0.0</td>\n",
       "      <td>0.897279</td>\n",
       "      <td>0.0</td>\n",
       "      <td>...</td>\n",
       "      <td>0.00000</td>\n",
       "      <td>0.102721</td>\n",
       "      <td>2.794559</td>\n",
       "      <td>0.00000</td>\n",
       "      <td>0.0</td>\n",
       "      <td>0.0</td>\n",
       "      <td>1.897279</td>\n",
       "      <td>0.000000</td>\n",
       "      <td>0.00000</td>\n",
       "      <td>0.0</td>\n",
       "    </tr>\n",
       "    <tr>\n",
       "      <th>2514</th>\n",
       "      <td>0.000000</td>\n",
       "      <td>0.0</td>\n",
       "      <td>0.000000</td>\n",
       "      <td>0.0</td>\n",
       "      <td>0.000000</td>\n",
       "      <td>0.0</td>\n",
       "      <td>1.000000</td>\n",
       "      <td>0.0</td>\n",
       "      <td>0.000000</td>\n",
       "      <td>0.0</td>\n",
       "      <td>...</td>\n",
       "      <td>0.48643</td>\n",
       "      <td>0.486430</td>\n",
       "      <td>1.540711</td>\n",
       "      <td>0.51357</td>\n",
       "      <td>0.0</td>\n",
       "      <td>0.0</td>\n",
       "      <td>0.486430</td>\n",
       "      <td>4.972859</td>\n",
       "      <td>0.48643</td>\n",
       "      <td>0.0</td>\n",
       "    </tr>\n",
       "    <tr>\n",
       "      <th>2175</th>\n",
       "      <td>0.000000</td>\n",
       "      <td>0.0</td>\n",
       "      <td>0.000000</td>\n",
       "      <td>0.0</td>\n",
       "      <td>0.000000</td>\n",
       "      <td>0.0</td>\n",
       "      <td>0.000000</td>\n",
       "      <td>0.0</td>\n",
       "      <td>2.000000</td>\n",
       "      <td>0.0</td>\n",
       "      <td>...</td>\n",
       "      <td>0.00000</td>\n",
       "      <td>1.000000</td>\n",
       "      <td>3.588774</td>\n",
       "      <td>0.00000</td>\n",
       "      <td>0.0</td>\n",
       "      <td>0.0</td>\n",
       "      <td>2.588774</td>\n",
       "      <td>2.000000</td>\n",
       "      <td>0.00000</td>\n",
       "      <td>0.0</td>\n",
       "    </tr>\n",
       "  </tbody>\n",
       "</table>\n",
       "<p>5 rows × 25 columns</p>\n",
       "</div>"
      ],
      "text/plain": [
       "            0    1         2    3         4    5         6    7         8   \\\n",
       "1576  1.804878  0.0  0.000000  0.0  0.000000  0.0  0.000000  0.0  1.195122   \n",
       "324   0.000000  0.0  0.000000  0.0  0.000000  0.0  1.000000  0.0  0.000000   \n",
       "2123  0.897279  0.0  0.102721  0.0  0.102721  0.0  0.102721  0.0  0.897279   \n",
       "2514  0.000000  0.0  0.000000  0.0  0.000000  0.0  1.000000  0.0  0.000000   \n",
       "2175  0.000000  0.0  0.000000  0.0  0.000000  0.0  0.000000  0.0  2.000000   \n",
       "\n",
       "       9   ...       15        16        17       18   19   20        21  \\\n",
       "1576  0.0  ...  0.00000  0.000000  4.000000  0.00000  0.0  0.0  3.000000   \n",
       "324   0.0  ...  0.00000  0.000000  0.000000  0.00000  0.0  0.0  1.000000   \n",
       "2123  0.0  ...  0.00000  0.102721  2.794559  0.00000  0.0  0.0  1.897279   \n",
       "2514  0.0  ...  0.48643  0.486430  1.540711  0.51357  0.0  0.0  0.486430   \n",
       "2175  0.0  ...  0.00000  1.000000  3.588774  0.00000  0.0  0.0  2.588774   \n",
       "\n",
       "            22       23   24  \n",
       "1576  1.000000  0.00000  0.0  \n",
       "324   1.000000  1.00000  0.0  \n",
       "2123  0.000000  0.00000  0.0  \n",
       "2514  4.972859  0.48643  0.0  \n",
       "2175  2.000000  0.00000  0.0  \n",
       "\n",
       "[5 rows x 25 columns]"
      ]
     },
     "execution_count": 102,
     "metadata": {},
     "output_type": "execute_result"
    }
   ],
   "source": [
    "df_resampled_val.head()"
   ]
  },
  {
   "cell_type": "code",
   "execution_count": 103,
   "metadata": {},
   "outputs": [],
   "source": [
    "test_aa_frequencies = calculate_amino_acid_frequencies(test_data['Sequence'])\n",
    "test_freq_array = np.array(test_aa_frequencies)"
   ]
  },
  {
   "cell_type": "code",
   "execution_count": 104,
   "metadata": {},
   "outputs": [
    {
     "data": {
      "text/plain": [
       "array([[4., 0., 1., ..., 0., 1., 0.],\n",
       "       [4., 0., 0., ..., 0., 1., 0.],\n",
       "       [0., 0., 0., ..., 0., 0., 0.],\n",
       "       ...,\n",
       "       [7., 0., 1., ..., 0., 0., 0.],\n",
       "       [2., 0., 0., ..., 0., 1., 0.],\n",
       "       [4., 0., 1., ..., 0., 0., 0.]])"
      ]
     },
     "execution_count": 104,
     "metadata": {},
     "output_type": "execute_result"
    }
   ],
   "source": [
    "test_freq_array"
   ]
  },
  {
   "cell_type": "code",
   "execution_count": 105,
   "metadata": {},
   "outputs": [
    {
     "data": {
      "text/html": [
       "<div>\n",
       "<style scoped>\n",
       "    .dataframe tbody tr th:only-of-type {\n",
       "        vertical-align: middle;\n",
       "    }\n",
       "\n",
       "    .dataframe tbody tr th {\n",
       "        vertical-align: top;\n",
       "    }\n",
       "\n",
       "    .dataframe thead th {\n",
       "        text-align: right;\n",
       "    }\n",
       "</style>\n",
       "<table border=\"1\" class=\"dataframe\">\n",
       "  <thead>\n",
       "    <tr style=\"text-align: right;\">\n",
       "      <th></th>\n",
       "      <th>0</th>\n",
       "      <th>1</th>\n",
       "      <th>2</th>\n",
       "      <th>3</th>\n",
       "      <th>4</th>\n",
       "      <th>5</th>\n",
       "      <th>6</th>\n",
       "      <th>7</th>\n",
       "      <th>8</th>\n",
       "      <th>9</th>\n",
       "      <th>...</th>\n",
       "      <th>15</th>\n",
       "      <th>16</th>\n",
       "      <th>17</th>\n",
       "      <th>18</th>\n",
       "      <th>19</th>\n",
       "      <th>20</th>\n",
       "      <th>21</th>\n",
       "      <th>22</th>\n",
       "      <th>23</th>\n",
       "      <th>24</th>\n",
       "    </tr>\n",
       "  </thead>\n",
       "  <tbody>\n",
       "    <tr>\n",
       "      <th>0</th>\n",
       "      <td>4.0</td>\n",
       "      <td>0.0</td>\n",
       "      <td>1.0</td>\n",
       "      <td>1.0</td>\n",
       "      <td>3.0</td>\n",
       "      <td>1.0</td>\n",
       "      <td>1.0</td>\n",
       "      <td>1.0</td>\n",
       "      <td>1.0</td>\n",
       "      <td>0.0</td>\n",
       "      <td>...</td>\n",
       "      <td>1.0</td>\n",
       "      <td>1.0</td>\n",
       "      <td>1.0</td>\n",
       "      <td>2.0</td>\n",
       "      <td>2.0</td>\n",
       "      <td>0.0</td>\n",
       "      <td>1.0</td>\n",
       "      <td>0.0</td>\n",
       "      <td>1.0</td>\n",
       "      <td>0.0</td>\n",
       "    </tr>\n",
       "    <tr>\n",
       "      <th>1</th>\n",
       "      <td>4.0</td>\n",
       "      <td>0.0</td>\n",
       "      <td>0.0</td>\n",
       "      <td>4.0</td>\n",
       "      <td>3.0</td>\n",
       "      <td>1.0</td>\n",
       "      <td>3.0</td>\n",
       "      <td>0.0</td>\n",
       "      <td>1.0</td>\n",
       "      <td>0.0</td>\n",
       "      <td>...</td>\n",
       "      <td>2.0</td>\n",
       "      <td>1.0</td>\n",
       "      <td>2.0</td>\n",
       "      <td>1.0</td>\n",
       "      <td>3.0</td>\n",
       "      <td>0.0</td>\n",
       "      <td>1.0</td>\n",
       "      <td>0.0</td>\n",
       "      <td>1.0</td>\n",
       "      <td>0.0</td>\n",
       "    </tr>\n",
       "    <tr>\n",
       "      <th>2</th>\n",
       "      <td>0.0</td>\n",
       "      <td>0.0</td>\n",
       "      <td>0.0</td>\n",
       "      <td>1.0</td>\n",
       "      <td>1.0</td>\n",
       "      <td>1.0</td>\n",
       "      <td>0.0</td>\n",
       "      <td>0.0</td>\n",
       "      <td>2.0</td>\n",
       "      <td>0.0</td>\n",
       "      <td>...</td>\n",
       "      <td>1.0</td>\n",
       "      <td>1.0</td>\n",
       "      <td>4.0</td>\n",
       "      <td>1.0</td>\n",
       "      <td>1.0</td>\n",
       "      <td>0.0</td>\n",
       "      <td>2.0</td>\n",
       "      <td>0.0</td>\n",
       "      <td>0.0</td>\n",
       "      <td>0.0</td>\n",
       "    </tr>\n",
       "    <tr>\n",
       "      <th>3</th>\n",
       "      <td>3.0</td>\n",
       "      <td>0.0</td>\n",
       "      <td>0.0</td>\n",
       "      <td>0.0</td>\n",
       "      <td>1.0</td>\n",
       "      <td>0.0</td>\n",
       "      <td>1.0</td>\n",
       "      <td>0.0</td>\n",
       "      <td>0.0</td>\n",
       "      <td>0.0</td>\n",
       "      <td>...</td>\n",
       "      <td>1.0</td>\n",
       "      <td>1.0</td>\n",
       "      <td>2.0</td>\n",
       "      <td>1.0</td>\n",
       "      <td>0.0</td>\n",
       "      <td>0.0</td>\n",
       "      <td>1.0</td>\n",
       "      <td>1.0</td>\n",
       "      <td>1.0</td>\n",
       "      <td>0.0</td>\n",
       "    </tr>\n",
       "    <tr>\n",
       "      <th>4</th>\n",
       "      <td>4.0</td>\n",
       "      <td>0.0</td>\n",
       "      <td>0.0</td>\n",
       "      <td>1.0</td>\n",
       "      <td>2.0</td>\n",
       "      <td>2.0</td>\n",
       "      <td>2.0</td>\n",
       "      <td>0.0</td>\n",
       "      <td>1.0</td>\n",
       "      <td>0.0</td>\n",
       "      <td>...</td>\n",
       "      <td>0.0</td>\n",
       "      <td>2.0</td>\n",
       "      <td>4.0</td>\n",
       "      <td>1.0</td>\n",
       "      <td>0.0</td>\n",
       "      <td>0.0</td>\n",
       "      <td>0.0</td>\n",
       "      <td>0.0</td>\n",
       "      <td>0.0</td>\n",
       "      <td>0.0</td>\n",
       "    </tr>\n",
       "  </tbody>\n",
       "</table>\n",
       "<p>5 rows × 25 columns</p>\n",
       "</div>"
      ],
      "text/plain": [
       "    0    1    2    3    4    5    6    7    8    9   ...   15   16   17   18  \\\n",
       "0  4.0  0.0  1.0  1.0  3.0  1.0  1.0  1.0  1.0  0.0  ...  1.0  1.0  1.0  2.0   \n",
       "1  4.0  0.0  0.0  4.0  3.0  1.0  3.0  0.0  1.0  0.0  ...  2.0  1.0  2.0  1.0   \n",
       "2  0.0  0.0  0.0  1.0  1.0  1.0  0.0  0.0  2.0  0.0  ...  1.0  1.0  4.0  1.0   \n",
       "3  3.0  0.0  0.0  0.0  1.0  0.0  1.0  0.0  0.0  0.0  ...  1.0  1.0  2.0  1.0   \n",
       "4  4.0  0.0  0.0  1.0  2.0  2.0  2.0  0.0  1.0  0.0  ...  0.0  2.0  4.0  1.0   \n",
       "\n",
       "    19   20   21   22   23   24  \n",
       "0  2.0  0.0  1.0  0.0  1.0  0.0  \n",
       "1  3.0  0.0  1.0  0.0  1.0  0.0  \n",
       "2  1.0  0.0  2.0  0.0  0.0  0.0  \n",
       "3  0.0  0.0  1.0  1.0  1.0  0.0  \n",
       "4  0.0  0.0  0.0  0.0  0.0  0.0  \n",
       "\n",
       "[5 rows x 25 columns]"
      ]
     },
     "execution_count": 105,
     "metadata": {},
     "output_type": "execute_result"
    }
   ],
   "source": [
    "test_vectorized_df = pd.DataFrame(test_freq_array)\n",
    "test_vectorized_df.head()"
   ]
  },
  {
   "cell_type": "code",
   "execution_count": 113,
   "metadata": {},
   "outputs": [
    {
     "name": "stdout",
     "output_type": "stream",
     "text": [
      "<class 'numpy.ndarray'>\n"
     ]
    }
   ],
   "source": [
    "def predict_model(nn, X_test):\n",
    "    predictions = []\n",
    "\n",
    "    for i in range(len(X_test)):\n",
    "        inputs = X_test.iloc[i].values  # Convert DataFrame row to NumPy array\n",
    "        output = nn.query(inputs)\n",
    "        predicted_label = 1 if output[0] >= 0.9 else -1\n",
    "        predictions.append(predicted_label)\n",
    "\n",
    "    predictions = np.array(predictions)\n",
    "    return predictions\n",
    "\n",
    "# Calculate MCC for the validation set\n",
    "predictions = predict_model(nn, test_vectorized_df)\n",
    "print(type(predictions))"
   ]
  },
  {
   "cell_type": "code",
   "execution_count": 119,
   "metadata": {},
   "outputs": [],
   "source": [
    "np.savetxt('format_16_0.08_0.9.dat', predictions, fmt='%d')\n",
    "# predictions_df = pd.DataFrame(predictions)\n",
    "# predictions_df.to_csv('format_16_0.08_0.9.csv', index=False)"
   ]
  },
  {
   "cell_type": "code",
   "execution_count": 127,
   "metadata": {},
   "outputs": [],
   "source": [
    "# def plotCf(a,b,t):\n",
    "#     cf =confusion_matrix(a,b)\n",
    "#     plt.imshow(cf,cmap=plt.cm.Blues,interpolation='nearest')\n",
    "#     plt.colorbar()\n",
    "#     plt.title(t)\n",
    "#     plt.xlabel('Predicted')\n",
    "#     plt.ylabel('Actual')\n",
    "#     tick_marks = np.arange(len(set(a))) # length of classes\n",
    "#     class_labels = ['0','1']\n",
    "#     plt.xticks(tick_marks,class_labels)\n",
    "#     plt.yticks(tick_marks,class_labels)\n",
    "#     thresh = cf.max() / 2.\n",
    "#     for i,j in itertools.product(range(cf.shape[0]),range(cf.shape[1])):\n",
    "#         plt.text(j,i,format(cf[i,j],'d'),horizontalalignment='center',color='white' if cf[i,j] >thresh else 'black')\n",
    "#     plt.show()"
   ]
  },
  {
   "cell_type": "code",
   "execution_count": null,
   "metadata": {},
   "outputs": [],
   "source": []
  }
 ],
 "metadata": {
  "kernelspec": {
   "display_name": "dl_a",
   "language": "python",
   "name": "python3"
  },
  "language_info": {
   "codemirror_mode": {
    "name": "ipython",
    "version": 3
   },
   "file_extension": ".py",
   "mimetype": "text/x-python",
   "name": "python",
   "nbconvert_exporter": "python",
   "pygments_lexer": "ipython3",
   "version": "3.11.7"
  }
 },
 "nbformat": 4,
 "nbformat_minor": 2
}

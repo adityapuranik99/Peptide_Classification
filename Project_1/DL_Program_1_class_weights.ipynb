{
 "cells": [
  {
   "cell_type": "code",
   "execution_count": 1,
   "metadata": {},
   "outputs": [],
   "source": [
    "import pandas as pd\n",
    "import numpy as np\n",
    "import matplotlib.pyplot as plt\n",
    "import traceback as tb"
   ]
  },
  {
   "cell_type": "code",
   "execution_count": 2,
   "metadata": {},
   "outputs": [],
   "source": [
    "df = pd.read_csv('train.dat', delimiter='\\t', header=None)"
   ]
  },
  {
   "cell_type": "code",
   "execution_count": 3,
   "metadata": {},
   "outputs": [
    {
     "data": {
      "text/html": [
       "<div>\n",
       "<style scoped>\n",
       "    .dataframe tbody tr th:only-of-type {\n",
       "        vertical-align: middle;\n",
       "    }\n",
       "\n",
       "    .dataframe tbody tr th {\n",
       "        vertical-align: top;\n",
       "    }\n",
       "\n",
       "    .dataframe thead th {\n",
       "        text-align: right;\n",
       "    }\n",
       "</style>\n",
       "<table border=\"1\" class=\"dataframe\">\n",
       "  <thead>\n",
       "    <tr style=\"text-align: right;\">\n",
       "      <th></th>\n",
       "      <th>0</th>\n",
       "      <th>1</th>\n",
       "    </tr>\n",
       "  </thead>\n",
       "  <tbody>\n",
       "    <tr>\n",
       "      <th>0</th>\n",
       "      <td>-1</td>\n",
       "      <td>DVELDLVEISPNALP</td>\n",
       "    </tr>\n",
       "    <tr>\n",
       "      <th>1</th>\n",
       "      <td>-1</td>\n",
       "      <td>KADEELFNKLFFGT</td>\n",
       "    </tr>\n",
       "    <tr>\n",
       "      <th>2</th>\n",
       "      <td>-1</td>\n",
       "      <td>FLVALHLGTAFALLWYFRKRWCALVRGFFASFGGRRNDDAHMM</td>\n",
       "    </tr>\n",
       "    <tr>\n",
       "      <th>3</th>\n",
       "      <td>-1</td>\n",
       "      <td>RDQMRARIADITGVAISRIA</td>\n",
       "    </tr>\n",
       "    <tr>\n",
       "      <th>4</th>\n",
       "      <td>-1</td>\n",
       "      <td>RKRLQLLLL</td>\n",
       "    </tr>\n",
       "  </tbody>\n",
       "</table>\n",
       "</div>"
      ],
      "text/plain": [
       "   0                                            1\n",
       "0 -1                              DVELDLVEISPNALP\n",
       "1 -1                               KADEELFNKLFFGT\n",
       "2 -1  FLVALHLGTAFALLWYFRKRWCALVRGFFASFGGRRNDDAHMM\n",
       "3 -1                         RDQMRARIADITGVAISRIA\n",
       "4 -1                                    RKRLQLLLL"
      ]
     },
     "execution_count": 3,
     "metadata": {},
     "output_type": "execute_result"
    }
   ],
   "source": [
    "df.head()"
   ]
  },
  {
   "cell_type": "code",
   "execution_count": 4,
   "metadata": {},
   "outputs": [],
   "source": [
    "df_results = df[0]"
   ]
  },
  {
   "cell_type": "code",
   "execution_count": 5,
   "metadata": {},
   "outputs": [],
   "source": [
    "df_results.columns = ['Labels']"
   ]
  },
  {
   "cell_type": "code",
   "execution_count": 6,
   "metadata": {},
   "outputs": [
    {
     "data": {
      "text/plain": [
       "0      -1\n",
       "1      -1\n",
       "2      -1\n",
       "3      -1\n",
       "4      -1\n",
       "       ..\n",
       "1561   -1\n",
       "1562    1\n",
       "1563    1\n",
       "1564   -1\n",
       "1565   -1\n",
       "Name: 0, Length: 1566, dtype: int64"
      ]
     },
     "execution_count": 6,
     "metadata": {},
     "output_type": "execute_result"
    }
   ],
   "source": [
    "df_results"
   ]
  },
  {
   "cell_type": "code",
   "execution_count": 7,
   "metadata": {},
   "outputs": [],
   "source": [
    "df_seq = df[[1]]"
   ]
  },
  {
   "cell_type": "code",
   "execution_count": 8,
   "metadata": {},
   "outputs": [],
   "source": [
    "df_seq.columns = ['Sequence']"
   ]
  },
  {
   "cell_type": "code",
   "execution_count": 9,
   "metadata": {},
   "outputs": [
    {
     "data": {
      "text/html": [
       "<div>\n",
       "<style scoped>\n",
       "    .dataframe tbody tr th:only-of-type {\n",
       "        vertical-align: middle;\n",
       "    }\n",
       "\n",
       "    .dataframe tbody tr th {\n",
       "        vertical-align: top;\n",
       "    }\n",
       "\n",
       "    .dataframe thead th {\n",
       "        text-align: right;\n",
       "    }\n",
       "</style>\n",
       "<table border=\"1\" class=\"dataframe\">\n",
       "  <thead>\n",
       "    <tr style=\"text-align: right;\">\n",
       "      <th></th>\n",
       "      <th>Sequence</th>\n",
       "    </tr>\n",
       "  </thead>\n",
       "  <tbody>\n",
       "    <tr>\n",
       "      <th>0</th>\n",
       "      <td>DVELDLVEISPNALP</td>\n",
       "    </tr>\n",
       "    <tr>\n",
       "      <th>1</th>\n",
       "      <td>KADEELFNKLFFGT</td>\n",
       "    </tr>\n",
       "    <tr>\n",
       "      <th>2</th>\n",
       "      <td>FLVALHLGTAFALLWYFRKRWCALVRGFFASFGGRRNDDAHMM</td>\n",
       "    </tr>\n",
       "    <tr>\n",
       "      <th>3</th>\n",
       "      <td>RDQMRARIADITGVAISRIA</td>\n",
       "    </tr>\n",
       "    <tr>\n",
       "      <th>4</th>\n",
       "      <td>RKRLQLLLL</td>\n",
       "    </tr>\n",
       "  </tbody>\n",
       "</table>\n",
       "</div>"
      ],
      "text/plain": [
       "                                      Sequence\n",
       "0                              DVELDLVEISPNALP\n",
       "1                               KADEELFNKLFFGT\n",
       "2  FLVALHLGTAFALLWYFRKRWCALVRGFFASFGGRRNDDAHMM\n",
       "3                         RDQMRARIADITGVAISRIA\n",
       "4                                    RKRLQLLLL"
      ]
     },
     "execution_count": 9,
     "metadata": {},
     "output_type": "execute_result"
    }
   ],
   "source": [
    "df_seq.head()"
   ]
  },
  {
   "cell_type": "code",
   "execution_count": 10,
   "metadata": {},
   "outputs": [],
   "source": [
    "def dna_k_mers_generation(dna_sequence, k_mers_length):\n",
    "    k_mers_list = []\n",
    "    try:\n",
    "        for i in range(len(dna_sequence) - k_mers_length + 1):\n",
    "            k_mer_substring = dna_sequence[i : i + k_mers_length]\n",
    "            k_mers_list.append(k_mer_substring)\n",
    "    except Exception as e:\n",
    "        tb.print_exc()\n",
    "    return k_mers_list"
   ]
  },
  {
   "cell_type": "code",
   "execution_count": 11,
   "metadata": {},
   "outputs": [],
   "source": [
    "# Assuming you have a function to load and preprocess your test dataset\n",
    "# and your trained neural network 'nn' is available\n",
    "\n",
    "# Load your test dataset\n",
    "test_data = pd.read_csv('test.dat', delimiter='\\t', header=None)\n",
    "test_data.columns = ['Sequence']\n"
   ]
  },
  {
   "cell_type": "code",
   "execution_count": 12,
   "metadata": {},
   "outputs": [
    {
     "data": {
      "text/plain": [
       "(1566, 1)"
      ]
     },
     "execution_count": 12,
     "metadata": {},
     "output_type": "execute_result"
    }
   ],
   "source": [
    "df_seq.head()\n",
    "df_seq.shape"
   ]
  },
  {
   "cell_type": "code",
   "execution_count": 13,
   "metadata": {},
   "outputs": [
    {
     "data": {
      "text/plain": [
       "(392, 1)"
      ]
     },
     "execution_count": 13,
     "metadata": {},
     "output_type": "execute_result"
    }
   ],
   "source": [
    "test_data.shape"
   ]
  },
  {
   "cell_type": "code",
   "execution_count": 14,
   "metadata": {},
   "outputs": [],
   "source": [
    "def calculate_amino_acid_frequencies(sequences):\n",
    "    amino_acids = 'ABCDEFGHIJKLMNOPQRSTUVWYZ'\n",
    "    frequencies = np.zeros((len(sequences), len(amino_acids)))\n",
    "\n",
    "    for i, sequence in enumerate(sequences):\n",
    "        for aa in sequence:\n",
    "            if aa in amino_acids:\n",
    "                aa_index = amino_acids.index(aa)\n",
    "                frequencies[i, aa_index] += 1\n",
    "\n",
    "    return frequencies\n",
    "\n",
    "# Example usage:\n",
    "train_sequences = df_seq  # Replace with your actual training sequences\n",
    "train_aa_frequencies = calculate_amino_acid_frequencies(train_sequences['Sequence'])\n",
    "\n",
    "# Convert the frequencies to a numpy array or another suitable format for further processing\n",
    "import numpy as np\n",
    "train_freq_array = np.array(train_aa_frequencies)"
   ]
  },
  {
   "cell_type": "code",
   "execution_count": 15,
   "metadata": {},
   "outputs": [
    {
     "data": {
      "text/plain": [
       "(1566, 25)"
      ]
     },
     "execution_count": 15,
     "metadata": {},
     "output_type": "execute_result"
    }
   ],
   "source": [
    "train_freq_array.shape"
   ]
  },
  {
   "cell_type": "code",
   "execution_count": 16,
   "metadata": {},
   "outputs": [],
   "source": [
    "# from sklearn.feature_extraction.text import CountVectorizer\n",
    "\n",
    "# # Combine training and testing sequences\n",
    "# combined_sequences = pd.concat([df_seq, test_data], axis=0)\n",
    "# combined_sequences.shape\n",
    "\n",
    "# # Initialize CountVectorizer for k-mer features\n",
    "# vectorizer = CountVectorizer(analyzer='char', ngram_range=(1, 1))\n",
    "\n",
    "# # Apply CountVectorizer to the combined sequences\n",
    "# vectorized_data = vectorizer.fit_transform(combined_sequences['Sequence']).toarray()\n",
    "\n",
    "# # Split the vectorized data back into training and testing sets\n",
    "# train_vectorized = vectorized_data[:len(df_seq)]\n",
    "# test_vectorized = vectorized_data[len(df_seq):]\n",
    "\n",
    "# # Verify the shapes of the vectorized datasets\n",
    "# train_vectorized.shape, test_vectorized.shape\n"
   ]
  },
  {
   "cell_type": "code",
   "execution_count": 17,
   "metadata": {},
   "outputs": [],
   "source": [
    "# from sklearn.feature_extraction.text import CountVectorizer\n",
    "\n",
    "# vectorizer = CountVectorizer(analyzer='char', ngram_range=(1, 3))\n",
    "# X = vectorizer.fit_transform(df_seq['Sequence']).toarray()\n",
    "X = train_freq_array"
   ]
  },
  {
   "cell_type": "code",
   "execution_count": 18,
   "metadata": {},
   "outputs": [
    {
     "data": {
      "text/plain": [
       "(1566, 25)"
      ]
     },
     "execution_count": 18,
     "metadata": {},
     "output_type": "execute_result"
    }
   ],
   "source": [
    "X.shape"
   ]
  },
  {
   "cell_type": "code",
   "execution_count": 19,
   "metadata": {},
   "outputs": [],
   "source": [
    "# k_mers_list = []# Range of k-mer lengths (e.g., 2 to 5)\n",
    "# for k in range(2, 6):\n",
    "#     df_seq[f'kmers_{k}'] = df_seq['Sequence'].apply(lambda x: dna_k_mers_generation(x, k))"
   ]
  },
  {
   "cell_type": "code",
   "execution_count": 20,
   "metadata": {},
   "outputs": [
    {
     "data": {
      "text/plain": [
       "(1566,)"
      ]
     },
     "execution_count": 20,
     "metadata": {},
     "output_type": "execute_result"
    }
   ],
   "source": [
    "df_results.shape"
   ]
  },
  {
   "cell_type": "code",
   "execution_count": 21,
   "metadata": {},
   "outputs": [],
   "source": [
    "from imblearn.over_sampling import SMOTE\n",
    "\n",
    "y = df_results\n",
    "\n",
    "smote = SMOTE()\n",
    "X_resampled, y_resampled = smote.fit_resample(X, y)"
   ]
  },
  {
   "cell_type": "code",
   "execution_count": 22,
   "metadata": {},
   "outputs": [],
   "source": [
    "# Check the balance of the classes\n",
    "# print(pd.Series(y_resampled).value_counts()).to_clipboard()"
   ]
  },
  {
   "cell_type": "code",
   "execution_count": 23,
   "metadata": {},
   "outputs": [
    {
     "data": {
      "text/plain": [
       "0   -1\n",
       "1   -1\n",
       "2   -1\n",
       "3   -1\n",
       "4   -1\n",
       "Name: 0, dtype: int64"
      ]
     },
     "execution_count": 23,
     "metadata": {},
     "output_type": "execute_result"
    }
   ],
   "source": [
    "df_results.head()"
   ]
  },
  {
   "cell_type": "code",
   "execution_count": 24,
   "metadata": {},
   "outputs": [
    {
     "data": {
      "text/plain": [
       "0\n",
       "-1    1424\n",
       " 1     142\n",
       "Name: count, dtype: int64"
      ]
     },
     "execution_count": 24,
     "metadata": {},
     "output_type": "execute_result"
    }
   ],
   "source": [
    "df_results.value_counts()"
   ]
  },
  {
   "cell_type": "code",
   "execution_count": 25,
   "metadata": {},
   "outputs": [],
   "source": [
    "df_resampled = pd.DataFrame(X_resampled)\n",
    "# df_resampled.to_clipboard(index=False)"
   ]
  },
  {
   "cell_type": "code",
   "execution_count": 26,
   "metadata": {},
   "outputs": [
    {
     "data": {
      "text/html": [
       "<div>\n",
       "<style scoped>\n",
       "    .dataframe tbody tr th:only-of-type {\n",
       "        vertical-align: middle;\n",
       "    }\n",
       "\n",
       "    .dataframe tbody tr th {\n",
       "        vertical-align: top;\n",
       "    }\n",
       "\n",
       "    .dataframe thead th {\n",
       "        text-align: right;\n",
       "    }\n",
       "</style>\n",
       "<table border=\"1\" class=\"dataframe\">\n",
       "  <thead>\n",
       "    <tr style=\"text-align: right;\">\n",
       "      <th></th>\n",
       "      <th>0</th>\n",
       "      <th>1</th>\n",
       "      <th>2</th>\n",
       "      <th>3</th>\n",
       "      <th>4</th>\n",
       "      <th>5</th>\n",
       "      <th>6</th>\n",
       "      <th>7</th>\n",
       "      <th>8</th>\n",
       "      <th>9</th>\n",
       "      <th>...</th>\n",
       "      <th>15</th>\n",
       "      <th>16</th>\n",
       "      <th>17</th>\n",
       "      <th>18</th>\n",
       "      <th>19</th>\n",
       "      <th>20</th>\n",
       "      <th>21</th>\n",
       "      <th>22</th>\n",
       "      <th>23</th>\n",
       "      <th>24</th>\n",
       "    </tr>\n",
       "  </thead>\n",
       "  <tbody>\n",
       "    <tr>\n",
       "      <th>0</th>\n",
       "      <td>1.0</td>\n",
       "      <td>0.0</td>\n",
       "      <td>0.0</td>\n",
       "      <td>2.0</td>\n",
       "      <td>2.0</td>\n",
       "      <td>0.0</td>\n",
       "      <td>0.0</td>\n",
       "      <td>0.0</td>\n",
       "      <td>1.0</td>\n",
       "      <td>0.0</td>\n",
       "      <td>...</td>\n",
       "      <td>2.0</td>\n",
       "      <td>0.0</td>\n",
       "      <td>0.0</td>\n",
       "      <td>1.0</td>\n",
       "      <td>0.0</td>\n",
       "      <td>0.0</td>\n",
       "      <td>2.0</td>\n",
       "      <td>0.0</td>\n",
       "      <td>0.0</td>\n",
       "      <td>0.0</td>\n",
       "    </tr>\n",
       "    <tr>\n",
       "      <th>1</th>\n",
       "      <td>1.0</td>\n",
       "      <td>0.0</td>\n",
       "      <td>0.0</td>\n",
       "      <td>1.0</td>\n",
       "      <td>2.0</td>\n",
       "      <td>3.0</td>\n",
       "      <td>1.0</td>\n",
       "      <td>0.0</td>\n",
       "      <td>0.0</td>\n",
       "      <td>0.0</td>\n",
       "      <td>...</td>\n",
       "      <td>0.0</td>\n",
       "      <td>0.0</td>\n",
       "      <td>0.0</td>\n",
       "      <td>0.0</td>\n",
       "      <td>1.0</td>\n",
       "      <td>0.0</td>\n",
       "      <td>0.0</td>\n",
       "      <td>0.0</td>\n",
       "      <td>0.0</td>\n",
       "      <td>0.0</td>\n",
       "    </tr>\n",
       "    <tr>\n",
       "      <th>2</th>\n",
       "      <td>6.0</td>\n",
       "      <td>0.0</td>\n",
       "      <td>1.0</td>\n",
       "      <td>2.0</td>\n",
       "      <td>0.0</td>\n",
       "      <td>6.0</td>\n",
       "      <td>4.0</td>\n",
       "      <td>2.0</td>\n",
       "      <td>0.0</td>\n",
       "      <td>0.0</td>\n",
       "      <td>...</td>\n",
       "      <td>0.0</td>\n",
       "      <td>0.0</td>\n",
       "      <td>5.0</td>\n",
       "      <td>1.0</td>\n",
       "      <td>1.0</td>\n",
       "      <td>0.0</td>\n",
       "      <td>2.0</td>\n",
       "      <td>2.0</td>\n",
       "      <td>1.0</td>\n",
       "      <td>0.0</td>\n",
       "    </tr>\n",
       "    <tr>\n",
       "      <th>3</th>\n",
       "      <td>4.0</td>\n",
       "      <td>0.0</td>\n",
       "      <td>0.0</td>\n",
       "      <td>2.0</td>\n",
       "      <td>0.0</td>\n",
       "      <td>0.0</td>\n",
       "      <td>1.0</td>\n",
       "      <td>0.0</td>\n",
       "      <td>4.0</td>\n",
       "      <td>0.0</td>\n",
       "      <td>...</td>\n",
       "      <td>0.0</td>\n",
       "      <td>1.0</td>\n",
       "      <td>4.0</td>\n",
       "      <td>1.0</td>\n",
       "      <td>1.0</td>\n",
       "      <td>0.0</td>\n",
       "      <td>1.0</td>\n",
       "      <td>0.0</td>\n",
       "      <td>0.0</td>\n",
       "      <td>0.0</td>\n",
       "    </tr>\n",
       "    <tr>\n",
       "      <th>4</th>\n",
       "      <td>0.0</td>\n",
       "      <td>0.0</td>\n",
       "      <td>0.0</td>\n",
       "      <td>0.0</td>\n",
       "      <td>0.0</td>\n",
       "      <td>0.0</td>\n",
       "      <td>0.0</td>\n",
       "      <td>0.0</td>\n",
       "      <td>0.0</td>\n",
       "      <td>0.0</td>\n",
       "      <td>...</td>\n",
       "      <td>0.0</td>\n",
       "      <td>1.0</td>\n",
       "      <td>2.0</td>\n",
       "      <td>0.0</td>\n",
       "      <td>0.0</td>\n",
       "      <td>0.0</td>\n",
       "      <td>0.0</td>\n",
       "      <td>0.0</td>\n",
       "      <td>0.0</td>\n",
       "      <td>0.0</td>\n",
       "    </tr>\n",
       "  </tbody>\n",
       "</table>\n",
       "<p>5 rows × 25 columns</p>\n",
       "</div>"
      ],
      "text/plain": [
       "    0    1    2    3    4    5    6    7    8    9   ...   15   16   17   18  \\\n",
       "0  1.0  0.0  0.0  2.0  2.0  0.0  0.0  0.0  1.0  0.0  ...  2.0  0.0  0.0  1.0   \n",
       "1  1.0  0.0  0.0  1.0  2.0  3.0  1.0  0.0  0.0  0.0  ...  0.0  0.0  0.0  0.0   \n",
       "2  6.0  0.0  1.0  2.0  0.0  6.0  4.0  2.0  0.0  0.0  ...  0.0  0.0  5.0  1.0   \n",
       "3  4.0  0.0  0.0  2.0  0.0  0.0  1.0  0.0  4.0  0.0  ...  0.0  1.0  4.0  1.0   \n",
       "4  0.0  0.0  0.0  0.0  0.0  0.0  0.0  0.0  0.0  0.0  ...  0.0  1.0  2.0  0.0   \n",
       "\n",
       "    19   20   21   22   23   24  \n",
       "0  0.0  0.0  2.0  0.0  0.0  0.0  \n",
       "1  1.0  0.0  0.0  0.0  0.0  0.0  \n",
       "2  1.0  0.0  2.0  2.0  1.0  0.0  \n",
       "3  1.0  0.0  1.0  0.0  0.0  0.0  \n",
       "4  0.0  0.0  0.0  0.0  0.0  0.0  \n",
       "\n",
       "[5 rows x 25 columns]"
      ]
     },
     "execution_count": 26,
     "metadata": {},
     "output_type": "execute_result"
    }
   ],
   "source": [
    "df_resampled.head()"
   ]
  },
  {
   "cell_type": "code",
   "execution_count": 27,
   "metadata": {},
   "outputs": [],
   "source": [
    "# df_resampled.to_clipboard()"
   ]
  },
  {
   "cell_type": "code",
   "execution_count": 28,
   "metadata": {},
   "outputs": [],
   "source": [
    "df_resampled.to_csv('features_resampled_dict_count.csv')\n",
    "features_resampled = pd.DataFrame(y_resampled)\n",
    "features_resampled.to_csv('labels_resampled_dict_count.csv')"
   ]
  },
  {
   "cell_type": "code",
   "execution_count": 29,
   "metadata": {},
   "outputs": [
    {
     "data": {
      "text/plain": [
       "(2848, 25)"
      ]
     },
     "execution_count": 29,
     "metadata": {},
     "output_type": "execute_result"
    }
   ],
   "source": [
    "df_resampled.shape"
   ]
  },
  {
   "cell_type": "code",
   "execution_count": 30,
   "metadata": {},
   "outputs": [
    {
     "data": {
      "text/plain": [
       "(2848,)"
      ]
     },
     "execution_count": 30,
     "metadata": {},
     "output_type": "execute_result"
    }
   ],
   "source": [
    "y_resampled.shape"
   ]
  },
  {
   "cell_type": "code",
   "execution_count": 31,
   "metadata": {},
   "outputs": [],
   "source": [
    "features_resampled.columns = ['Labels']"
   ]
  },
  {
   "cell_type": "code",
   "execution_count": 32,
   "metadata": {},
   "outputs": [
    {
     "data": {
      "text/plain": [
       "(2848, 26)"
      ]
     },
     "execution_count": 32,
     "metadata": {},
     "output_type": "execute_result"
    }
   ],
   "source": [
    "## Validation test creation\n",
    "combined_df_resampled = pd.concat([df_resampled, features_resampled], axis= 1)\n",
    "combined_df_resampled.shape"
   ]
  },
  {
   "cell_type": "code",
   "execution_count": 33,
   "metadata": {},
   "outputs": [],
   "source": [
    "from sklearn.model_selection import train_test_split\n",
    "\n",
    "df_resampled_train, df_resampled_val, label_resampled_train, label_resampled_val = train_test_split(df_resampled, features_resampled, test_size= 0.3, random_state=42)"
   ]
  },
  {
   "cell_type": "code",
   "execution_count": 34,
   "metadata": {},
   "outputs": [
    {
     "name": "stdout",
     "output_type": "stream",
     "text": [
      "(1993, 25)\n",
      "(855, 25)\n",
      "(1993, 1)\n",
      "(855, 1)\n"
     ]
    }
   ],
   "source": [
    "print(df_resampled_train.shape)\n",
    "print(df_resampled_val.shape)\n",
    "print(label_resampled_train.shape)\n",
    "print(label_resampled_val.shape)"
   ]
  },
  {
   "cell_type": "code",
   "execution_count": 35,
   "metadata": {},
   "outputs": [
    {
     "data": {
      "text/html": [
       "<div>\n",
       "<style scoped>\n",
       "    .dataframe tbody tr th:only-of-type {\n",
       "        vertical-align: middle;\n",
       "    }\n",
       "\n",
       "    .dataframe tbody tr th {\n",
       "        vertical-align: top;\n",
       "    }\n",
       "\n",
       "    .dataframe thead th {\n",
       "        text-align: right;\n",
       "    }\n",
       "</style>\n",
       "<table border=\"1\" class=\"dataframe\">\n",
       "  <thead>\n",
       "    <tr style=\"text-align: right;\">\n",
       "      <th></th>\n",
       "      <th>Labels</th>\n",
       "    </tr>\n",
       "  </thead>\n",
       "  <tbody>\n",
       "    <tr>\n",
       "      <th>1650</th>\n",
       "      <td>1</td>\n",
       "    </tr>\n",
       "    <tr>\n",
       "      <th>1398</th>\n",
       "      <td>-1</td>\n",
       "    </tr>\n",
       "    <tr>\n",
       "      <th>1972</th>\n",
       "      <td>1</td>\n",
       "    </tr>\n",
       "    <tr>\n",
       "      <th>1725</th>\n",
       "      <td>1</td>\n",
       "    </tr>\n",
       "    <tr>\n",
       "      <th>1128</th>\n",
       "      <td>-1</td>\n",
       "    </tr>\n",
       "    <tr>\n",
       "      <th>...</th>\n",
       "      <td>...</td>\n",
       "    </tr>\n",
       "    <tr>\n",
       "      <th>1638</th>\n",
       "      <td>1</td>\n",
       "    </tr>\n",
       "    <tr>\n",
       "      <th>1095</th>\n",
       "      <td>-1</td>\n",
       "    </tr>\n",
       "    <tr>\n",
       "      <th>1130</th>\n",
       "      <td>-1</td>\n",
       "    </tr>\n",
       "    <tr>\n",
       "      <th>1294</th>\n",
       "      <td>-1</td>\n",
       "    </tr>\n",
       "    <tr>\n",
       "      <th>860</th>\n",
       "      <td>-1</td>\n",
       "    </tr>\n",
       "  </tbody>\n",
       "</table>\n",
       "<p>1993 rows × 1 columns</p>\n",
       "</div>"
      ],
      "text/plain": [
       "      Labels\n",
       "1650       1\n",
       "1398      -1\n",
       "1972       1\n",
       "1725       1\n",
       "1128      -1\n",
       "...      ...\n",
       "1638       1\n",
       "1095      -1\n",
       "1130      -1\n",
       "1294      -1\n",
       "860       -1\n",
       "\n",
       "[1993 rows x 1 columns]"
      ]
     },
     "execution_count": 35,
     "metadata": {},
     "output_type": "execute_result"
    }
   ],
   "source": [
    "label_resampled_train"
   ]
  },
  {
   "cell_type": "code",
   "execution_count": 36,
   "metadata": {},
   "outputs": [
    {
     "name": "stdout",
     "output_type": "stream",
     "text": [
      "[[-3.31965893e-01  3.77032234e-01  1.22537930e-01 -2.51979727e-01\n",
      "   1.02976457e-01  1.94008222e-01 -1.05683789e-01 -1.65237022e-01\n",
      "  -2.36201441e-02 -4.48623311e-02 -7.78834129e-01 -4.26142323e-02\n",
      "  -3.34080916e-01 -1.06642881e-01 -1.91843132e-01 -4.05540888e-01\n",
      "  -6.93222257e-01 -3.81995464e-01  1.80801875e-01 -2.74875817e-01\n",
      "  -8.86140987e-02  2.43589858e-01  1.02272062e-01  1.33556928e-01\n",
      "   4.50782395e-02]\n",
      " [-1.38857269e-01  1.23917320e-01  1.04537564e-01 -5.95434532e-01\n",
      "  -1.09669060e-01  1.48071392e-01  3.14448468e-01 -2.22997254e-01\n",
      "  -2.73386312e-01  2.36146970e-01  6.40796732e-02  3.99456727e-02\n",
      "   8.12042313e-02  3.54112954e-01 -2.11010433e-02 -4.16524319e-01\n",
      "   3.13705857e-01 -6.45060835e-03 -2.18920339e-02  2.50176827e-02\n",
      "   3.95092624e-02  5.18762426e-02  5.07202801e-02 -1.01135108e-01\n",
      "   3.33891541e-01]\n",
      " [ 5.64801424e-02 -5.38764372e-01 -1.35549402e-01  8.28610031e-02\n",
      "   3.55734362e-01  6.68541157e-02  7.36873397e-01  1.88437191e-02\n",
      "   3.89562753e-01  4.57610060e-01 -2.68428806e-01  2.64630532e-01\n",
      "   9.15426785e-01 -2.77279939e-01  1.06596395e-01  3.22528431e-01\n",
      "   4.83872887e-02  1.42478003e-01 -2.00561786e-01 -2.48012638e-02\n",
      "  -7.38411306e-01 -1.26632413e-01  9.95708824e-02 -3.71082652e-01\n",
      "   2.68477741e-01]\n",
      " [ 2.67886993e-01  2.60894602e-01 -1.42238162e-01 -4.11516703e-01\n",
      "  -2.42143866e-02  2.08085552e-01  1.17130232e-01  2.56934616e-01\n",
      "   2.64272619e-01  3.87057039e-01 -5.72612112e-01  8.60446962e-02\n",
      "   6.60032299e-02  1.50956571e-02  1.64956964e-01  4.13051129e-01\n",
      "   3.20279380e-01  4.28761446e-01 -3.20231544e-03 -4.67726863e-01\n",
      "  -1.83954416e-01 -2.98796429e-02  6.52621778e-01  2.45516389e-01\n",
      "   2.93019053e-01]\n",
      " [ 2.55333022e-01 -4.18970171e-02 -6.67062973e-02  2.50040255e-01\n",
      "  -5.29328090e-01 -9.45961910e-02  4.21674295e-01  2.49759607e-01\n",
      "   3.10618545e-01  2.55250826e-01 -3.31279446e-02  3.11942614e-01\n",
      "   2.90347311e-02  4.36794534e-01  1.06688438e-01 -1.10733449e-01\n",
      "   1.91306558e-02  1.42074522e-01 -3.94674707e-02 -4.10767199e-01\n",
      "   1.21606562e-02 -3.14656796e-01 -2.38789692e-01  1.01622025e-01\n",
      "   3.44249757e-01]\n",
      " [-7.52476909e-02 -1.81342702e-01 -1.29145004e-01 -1.08127959e-01\n",
      "  -8.99867174e-02  6.62070354e-02  2.47430229e-01  2.15057810e-01\n",
      "   2.60985573e-01 -2.13216987e-02  1.93646595e-01 -3.66105318e-01\n",
      "   2.51027743e-01 -3.44569449e-01  3.10845526e-01  3.05807616e-01\n",
      "   3.52974625e-01 -2.01384321e-01 -1.34731607e-01  2.97733659e-01\n",
      "   4.04081594e-01  2.48537185e-01  3.19412989e-01 -3.77042036e-02\n",
      "   4.40027962e-01]\n",
      " [-2.82930363e-01 -2.20604199e-01 -4.34907746e-02  1.22009376e-01\n",
      "   9.59741544e-02 -4.00151356e-01 -1.85522804e-01  2.18285604e-01\n",
      "   4.02565912e-01  1.61090933e-01  1.92528447e-02 -3.92377651e-01\n",
      "  -2.82285051e-01 -3.28907274e-01 -8.72881750e-03  8.65225477e-02\n",
      "   2.19984164e-01 -8.54668551e-02 -1.03697229e-01 -9.88162556e-02\n",
      "  -2.99282622e-01  6.88363079e-02  3.45523101e-01 -1.26658085e-01\n",
      "  -2.21541295e-01]\n",
      " [ 1.97914849e-01 -2.47218858e-01  7.48496932e-01 -2.68636116e-02\n",
      "   1.03245117e-01 -2.23362696e-01 -2.36543845e-01 -3.13000069e-01\n",
      "   7.01528878e-02  1.95260449e-01 -1.76837196e-01  3.40117662e-01\n",
      "   8.64508820e-02 -5.09333092e-01 -3.73280608e-02  7.48835794e-02\n",
      "  -7.00092381e-02 -2.13807095e-01  4.19003151e-01  1.55617882e-01\n",
      "  -3.13029918e-01 -2.06127929e-01 -5.16306707e-02  5.96581001e-01\n",
      "  -9.55607921e-02]\n",
      " [-2.46681002e-01 -3.48526076e-01 -4.88122898e-01 -2.88291376e-01\n",
      "   1.99587553e-01  1.63011861e-02  1.30900089e-01 -2.55723412e-01\n",
      "  -4.86885475e-01 -2.02321929e-01 -5.97042712e-01  3.18360335e-01\n",
      "  -2.65441996e-02 -4.09725921e-01 -8.68297115e-02 -2.82150500e-01\n",
      "  -6.09960047e-02  4.17397163e-02  1.08086931e-01 -2.87842854e-01\n",
      "   3.47883947e-01  9.30051946e-02 -5.87235076e-01 -3.10002323e-01\n",
      "   2.45957459e-01]\n",
      " [-4.39897111e-01  2.66077434e-01 -2.70899538e-01 -4.51812708e-01\n",
      "   1.34583242e-01 -4.13638353e-01 -1.97840049e-02 -9.03638217e-01\n",
      "  -4.83834329e-01  1.01270965e-01  4.01529360e-01 -1.19801069e-01\n",
      "   1.21668764e-01  3.55188481e-02 -5.98300435e-01  1.61090277e-01\n",
      "   2.19297121e-01  1.84386994e-01 -3.72670675e-01 -7.52089644e-02\n",
      "  -1.40560104e-01 -1.46976056e-01 -1.29730609e-01 -1.68304142e-01\n",
      "   1.65554134e-01]\n",
      " [ 2.51777498e-01 -9.28265953e-03  2.45780751e-01  3.28341003e-02\n",
      "   1.93757992e-01 -3.03706005e-01  1.38263270e-01  7.95393024e-02\n",
      "  -9.61256707e-02 -2.22359988e-01 -9.20462476e-02  1.39645918e-01\n",
      "  -2.27000390e-02  5.96611998e-02 -2.45349304e-01  2.11888492e-02\n",
      "   1.41021750e-02 -3.65779222e-02 -3.49028136e-01 -5.33419347e-02\n",
      "   1.08239567e-01 -3.46874282e-02 -5.29145397e-01 -6.17843141e-01\n",
      "   1.37401336e-02]\n",
      " [ 3.66537106e-01  2.02906944e-01 -1.44507601e-01  1.98007104e-02\n",
      "   1.37696725e-01  1.62762351e-01  1.17732193e-01 -8.01673660e-02\n",
      "  -1.91998111e-01  2.93903619e-01  6.60131116e-02  1.09313811e-01\n",
      "   2.16796763e-01 -1.82408113e-01 -2.86255609e-01  2.75688767e-01\n",
      "  -1.89739114e-01 -5.44429662e-02 -3.12103915e-01 -2.98232398e-01\n",
      "   1.45160077e-01  1.43143845e-01  5.25643507e-02  2.94242615e-01\n",
      "  -1.13934947e-01]\n",
      " [-6.31310331e-02 -5.41820706e-01 -5.01184677e-02 -2.10491556e-01\n",
      "  -2.17681574e-01 -3.06274248e-01  1.65571252e-01  3.30810304e-01\n",
      "   7.65379508e-02  8.59987444e-03 -8.10889283e-02  1.32134487e-01\n",
      "   3.58930171e-01  3.49943202e-01  3.93477448e-01 -5.04883528e-01\n",
      "  -6.96126602e-02 -8.42930150e-01 -4.48825435e-02  4.92400081e-01\n",
      "  -2.10024358e-01 -1.11551694e-01 -4.97990529e-01  4.34707283e-01\n",
      "   1.55996824e-02]\n",
      " [ 8.24380111e-02  3.19044985e-01 -1.10781838e-01 -7.71025754e-02\n",
      "  -2.89956714e-03 -7.83294916e-02  1.59787028e-01  3.79798889e-02\n",
      "  -2.44002878e-01  1.52314339e-02  8.12633593e-02 -2.00013551e-01\n",
      "   3.57676113e-01 -3.19641186e-02  1.00312691e-01  7.70280233e-02\n",
      "  -2.64992020e-01 -4.34527008e-01  3.25227852e-01 -2.28675349e-01\n",
      "  -1.60362139e-01  3.51572618e-01 -2.34356639e-01 -1.57521848e-01\n",
      "   3.43594766e-01]\n",
      " [-3.96031698e-04 -1.26131571e-01  1.11638662e-01 -1.58789492e-01\n",
      "  -1.91295226e-01  8.79564650e-03 -3.51165369e-01  1.84992459e-01\n",
      "  -1.31478749e-01 -1.10946634e-02  1.22665085e-01 -1.39516522e-01\n",
      "   2.46327785e-01 -3.00850567e-01  6.71747693e-01 -4.71416329e-02\n",
      "  -2.79789903e-01 -1.24362563e-01 -4.32239173e-01  1.21438474e-01\n",
      "   3.64699629e-01  4.04764052e-02  1.75482536e-01  1.46040771e-01\n",
      "   2.61568366e-01]\n",
      " [-4.82943107e-01  2.03776965e-01 -2.66116990e-01 -3.75370985e-01\n",
      "  -5.17454470e-01  2.90171817e-01 -1.25222448e-01  4.58822691e-01\n",
      "   1.50478491e-01 -2.37471188e-01 -3.84827787e-01  3.66436774e-01\n",
      "   1.03502968e-01  8.01409189e-02  4.97544652e-02 -3.73149947e-02\n",
      "   3.94263076e-01 -3.79448797e-01  1.22852902e-01  6.16767434e-02\n",
      "   1.03938605e-01 -3.81158471e-01 -1.65026362e-01  3.72353099e-01\n",
      "  -8.56287625e-02]]\n",
      "[[-0.19687526 -0.11622383  0.2214667   0.39830328 -0.15121486  0.38466478\n",
      "  -0.06469353 -0.33012723 -0.01075801  0.14642931 -0.26149179 -0.44311623\n",
      "   0.07812905 -0.0625581   0.12922327 -0.12208121]]\n"
     ]
    }
   ],
   "source": [
    "import numpy as np\n",
    "import scipy.special\n",
    "\n",
    "class NeuralNetwork:\n",
    "    \n",
    "    def __init__(self, inputnodes, hiddennodes, outputnodes, learningrate, lambda_reg, class_weights=None):\n",
    "        # Set number of nodes in each input, hidden, output layer\n",
    "        self.inodes = inputnodes\n",
    "        self.hnodes = hiddennodes\n",
    "        self.onodes = outputnodes\n",
    "\n",
    "        # Initialize weights with a normal distribution\n",
    "        self.wih = np.random.normal(0.0, np.sqrt(2.0 / self.inodes), (self.hnodes, self.inodes))\n",
    "        # self.wih = np.random.normal(0.0, pow(self.inodes, -0.5), (self.hnodes, self.inodes))\n",
    "        self.who = np.random.normal(0.0, pow(self.hnodes, -0.5), (self.onodes, self.hnodes))\n",
    "\n",
    "        # Class weights (keys are -1 and 1)\n",
    "        self.class_weights = class_weights if class_weights is not None else {-1: 1, 1: 1}\n",
    "\n",
    "\n",
    "        print(self.wih)\n",
    "        print(self.who)\n",
    "\n",
    "        # Learning ratek\n",
    "        self.lr = learningrate\n",
    "        \n",
    "        # Activation functions\n",
    "        self.activation_function_hidden = lambda x: np.maximum(0, x)  # ReLU for hidden layers\n",
    "        self.activation_function_output = lambda x: scipy.special.expit(x)  # Sigmoid for output layer\n",
    "\n",
    "        # Regularizing parameter\n",
    "        self.lambda_reg = lambda_reg\n",
    "\n",
    "        pass\n",
    "\n",
    "    def sigmoid(self, x):\n",
    "        # Modified sigmoid function with input clipping\n",
    "        return 1 / (1 + np.exp(-np.clip(x, -500, 500)))\n",
    "    \n",
    "\n",
    "    def train(self, inputs_list, targets_list):\n",
    "        # Convert inputs list to 2d array\n",
    "        inputs = np.array(inputs_list, ndmin=2).T\n",
    "        # Adjust targets from -1 to 0, keep 1 as is\n",
    "        targets = np.array([(0 if t == -1 else 1) for t in targets_list], ndmin=2).T\n",
    "\n",
    "        # Forward pass\n",
    "        hidden_inputs = np.dot(self.wih, inputs)\n",
    "        hidden_outputs = self.activation_function_hidden(hidden_inputs)\n",
    "        \n",
    "        final_inputs = np.dot(self.who, hidden_outputs)\n",
    "        final_outputs = self.sigmoid(final_inputs)\n",
    "\n",
    "        # Error calculation\n",
    "        output_errors = targets - final_outputs\n",
    "        weighted_errors = np.where(targets == 1, output_errors * self.class_weights[1], output_errors * self.class_weights[-1])\n",
    "        hidden_errors = np.dot(self.who.T, output_errors)\n",
    "\n",
    "        # Gradient for output layer\n",
    "        output_gradient = weighted_errors * final_outputs * (1.0 - final_outputs)\n",
    "\n",
    "        # Gradient clipping for output layer\n",
    "        max_gradient = 1.0  # Set your desired maximum gradient value\n",
    "        output_gradient = np.clip(output_gradient, -max_gradient, max_gradient)\n",
    "        \n",
    "\n",
    "\n",
    "        # Update output layer weights\n",
    "        # self.who += self.lr * (np.dot(output_gradient, np.transpose(hidden_outputs)) + self.lambda_reg * self.who)\n",
    "        self.who += self.lr * (np.dot(output_gradient, np.transpose(hidden_outputs)) - self.lambda_reg * self.who)\n",
    "\n",
    "        # Gradient for hidden layer (considering ReLU derivative)\n",
    "        hidden_gradient = hidden_errors * (hidden_outputs > 0)\n",
    "        # Gradient clipping for hidden layer\n",
    "        hidden_gradient = np.clip(hidden_gradient, -max_gradient, max_gradient)\n",
    "\n",
    "        # Update hidden layer weights\n",
    "        self.wih += self.lr * (np.dot(hidden_gradient, np.transpose(inputs)) - self.lambda_reg * self.wih)\n",
    "        \n",
    "        pass\n",
    "\n",
    "    def query(self, inputs_list):\n",
    "        # Convert inputs list to 2d array\n",
    "        inputs = np.array(inputs_list, ndmin=2).T\n",
    "\n",
    "        # Forward pass\n",
    "        hidden_inputs = np.dot(self.wih, inputs)\n",
    "        hidden_outputs = self.activation_function_hidden(hidden_inputs)\n",
    "        \n",
    "        final_inputs = np.dot(self.who, hidden_outputs)\n",
    "        final_outputs = self.sigmoid(final_inputs)\n",
    "        \n",
    "        return final_outputs\n",
    "\n",
    "# Example: Creating a Neural Network\n",
    "input_nodes = 25\n",
    "hidden_nodes = 16   # Adjust as needed\n",
    "output_nodes = 1\n",
    "learning_rate = 0.08\n",
    "lambda_reg = 0.000\n",
    "class_weights = {-1: 1.1, 1: 1.4}\n",
    "\n",
    "nn = NeuralNetwork(input_nodes, hidden_nodes, output_nodes, learning_rate, lambda_reg, class_weights)\n"
   ]
  },
  {
   "cell_type": "code",
   "execution_count": 37,
   "metadata": {},
   "outputs": [],
   "source": [
    "def mean_squared_error(targets, predictions):\n",
    "    return np.mean((targets - predictions) ** 2)"
   ]
  },
  {
   "cell_type": "code",
   "execution_count": 38,
   "metadata": {},
   "outputs": [
    {
     "data": {
      "text/plain": [
       "array([[0.88795234]])"
      ]
     },
     "execution_count": 38,
     "metadata": {},
     "output_type": "execute_result"
    }
   ],
   "source": [
    "predictions = nn.query(df_resampled_train.iloc[1].values)\n",
    "\n",
    "predictions"
   ]
  },
  {
   "cell_type": "code",
   "execution_count": 39,
   "metadata": {},
   "outputs": [
    {
     "name": "stdout",
     "output_type": "stream",
     "text": [
      "Epoch 1/100, Loss: 0.3612644254892122\n",
      "Epoch 2/100, Loss: 0.2950326141495233\n",
      "Epoch 3/100, Loss: 0.23682890115403912\n",
      "Epoch 4/100, Loss: 0.20672353236327146\n",
      "Epoch 5/100, Loss: 0.16457601605619668\n",
      "Epoch 6/100, Loss: 0.13246362267937783\n",
      "Epoch 7/100, Loss: 0.11640742599096839\n",
      "Epoch 8/100, Loss: 0.11038635223281486\n",
      "Epoch 9/100, Loss: 0.08028098344204716\n",
      "Epoch 10/100, Loss: 0.06221776216758655\n",
      "Epoch 11/100, Loss: 0.04616156547917712\n",
      "Epoch 12/100, Loss: 0.0481685900652283\n",
      "Epoch 13/100, Loss: 0.050175614651279475\n",
      "Epoch 14/100, Loss: 0.03411941796287005\n",
      "Epoch 15/100, Loss: 0.02408429503261415\n",
      "Epoch 16/100, Loss: 0.012042147516307075\n",
      "Epoch 17/100, Loss: 0.010035122930255895\n",
      "Epoch 18/100, Loss: 0.012042147516307075\n",
      "Epoch 19/100, Loss: 0.012042147516307075\n",
      "Epoch 20/100, Loss: 0.004014049172102358\n",
      "Epoch 21/100, Loss: 0.010035122930255895\n",
      "Epoch 22/100, Loss: 0.004014049172102358\n",
      "Epoch 23/100, Loss: 0.004014049172102358\n",
      "Epoch 24/100, Loss: 0.002007024586051179\n",
      "Epoch 25/100, Loss: 0.0\n",
      "Epoch 26/100, Loss: 0.0\n",
      "Epoch 27/100, Loss: 0.0\n",
      "Epoch 28/100, Loss: 0.006021073758153537\n",
      "Epoch 29/100, Loss: 0.0\n",
      "Epoch 30/100, Loss: 0.0\n",
      "Epoch 31/100, Loss: 0.0\n",
      "Epoch 32/100, Loss: 0.0\n",
      "Epoch 33/100, Loss: 0.0\n",
      "Epoch 34/100, Loss: 0.0\n",
      "Epoch 35/100, Loss: 0.0\n",
      "Epoch 36/100, Loss: 0.0\n",
      "Epoch 37/100, Loss: 0.0\n",
      "Epoch 38/100, Loss: 0.0\n",
      "Epoch 39/100, Loss: 0.0\n",
      "Epoch 40/100, Loss: 0.0\n",
      "Epoch 41/100, Loss: 0.0\n",
      "Epoch 42/100, Loss: 0.0\n",
      "Epoch 43/100, Loss: 0.0\n",
      "Epoch 44/100, Loss: 0.0\n",
      "Epoch 45/100, Loss: 0.0\n",
      "Epoch 46/100, Loss: 0.0\n",
      "Epoch 47/100, Loss: 0.0\n",
      "Epoch 48/100, Loss: 0.0\n",
      "Epoch 49/100, Loss: 0.0\n",
      "Epoch 50/100, Loss: 0.0\n",
      "Epoch 51/100, Loss: 0.0\n",
      "Epoch 52/100, Loss: 0.0\n",
      "Epoch 53/100, Loss: 0.0\n",
      "Epoch 54/100, Loss: 0.0\n",
      "Epoch 55/100, Loss: 0.0\n",
      "Epoch 56/100, Loss: 0.0\n",
      "Epoch 57/100, Loss: 0.0\n",
      "Epoch 58/100, Loss: 0.0\n",
      "Epoch 59/100, Loss: 0.0\n",
      "Epoch 60/100, Loss: 0.0\n",
      "Epoch 61/100, Loss: 0.0\n",
      "Epoch 62/100, Loss: 0.0\n",
      "Epoch 63/100, Loss: 0.0\n",
      "Epoch 64/100, Loss: 0.0\n",
      "Epoch 65/100, Loss: 0.0\n",
      "Epoch 66/100, Loss: 0.0\n",
      "Epoch 67/100, Loss: 0.0\n",
      "Epoch 68/100, Loss: 0.0\n",
      "Epoch 69/100, Loss: 0.0\n",
      "Epoch 70/100, Loss: 0.0\n",
      "Epoch 71/100, Loss: 0.0\n",
      "Epoch 72/100, Loss: 0.0\n",
      "Epoch 73/100, Loss: 0.0\n",
      "Epoch 74/100, Loss: 0.0\n",
      "Epoch 75/100, Loss: 0.0\n",
      "Epoch 76/100, Loss: 0.0\n",
      "Epoch 77/100, Loss: 0.0\n",
      "Epoch 78/100, Loss: 0.0\n",
      "Epoch 79/100, Loss: 0.0\n",
      "Epoch 80/100, Loss: 0.0\n",
      "Epoch 81/100, Loss: 0.0\n",
      "Epoch 82/100, Loss: 0.0\n",
      "Epoch 83/100, Loss: 0.0\n",
      "Epoch 84/100, Loss: 0.0\n",
      "Epoch 85/100, Loss: 0.0\n",
      "Epoch 86/100, Loss: 0.0\n",
      "Epoch 87/100, Loss: 0.0\n",
      "Epoch 88/100, Loss: 0.0\n",
      "Epoch 89/100, Loss: 0.0\n",
      "Epoch 90/100, Loss: 0.0\n",
      "Epoch 91/100, Loss: 0.0\n",
      "Epoch 92/100, Loss: 0.0\n",
      "Epoch 93/100, Loss: 0.0\n",
      "Epoch 94/100, Loss: 0.0\n",
      "Epoch 95/100, Loss: 0.0\n",
      "Epoch 96/100, Loss: 0.0\n",
      "Epoch 97/100, Loss: 0.0\n",
      "Epoch 98/100, Loss: 0.0\n",
      "Epoch 99/100, Loss: 0.0\n",
      "Epoch 100/100, Loss: 0.0\n"
     ]
    }
   ],
   "source": [
    "epochs = 100\n",
    "losses = []\n",
    "\n",
    "for epoch in range(epochs):\n",
    "    epoch_losses = []\n",
    "    for i in range(len(df_resampled_train)):\n",
    "        inputs = df_resampled_train.iloc[i].values\n",
    "        targets = label_resampled_train.iloc[i].values\n",
    "\n",
    "        output = nn.query(inputs)\n",
    "        # predictions = np.array(predictions)\n",
    "\n",
    "        # Convert sigmoid output to -1 or 1\n",
    "        predicted_label = 1 if output[0] >= 0.8 else -1\n",
    "\n",
    "        nn.train(inputs, targets)\n",
    "\n",
    "        sample_loss = mean_squared_error(targets, predicted_label)\n",
    "        epoch_losses.append(sample_loss)\n",
    "\n",
    "        nn.train(inputs, targets)\n",
    "\n",
    "    epoch_loss = np.mean(epoch_losses)\n",
    "    losses.append(epoch_loss)\n",
    "\n",
    "    # Print the loss for this epoch (optional)\n",
    "    print(f\"Epoch {epoch+1}/{epochs}, Loss: {epoch_loss}\")\n",
    "\n",
    "    # # Log the weights\n",
    "    # print(f\"Weights between input and hidden layer (Mean, Std): {np.mean(nn.wih)}, {np.std(nn.wih)}\")\n",
    "    # print(f\"Weights between hidden and output layer (Mean, Std): {np.mean(nn.who)}, {np.std(nn.who)}\")\n",
    "\n"
   ]
  },
  {
   "cell_type": "code",
   "execution_count": 40,
   "metadata": {},
   "outputs": [
    {
     "data": {
      "image/png": "[encoded data removed]",
      "text/plain": [
       "<Figure size 1000x600 with 1 Axes>"
      ]
     },
     "metadata": {},
     "output_type": "display_data"
    }
   ],
   "source": [
    "import matplotlib.pyplot as plt\n",
    "\n",
    "# Plot the training loss\n",
    "plt.figure(figsize=(10, 6))\n",
    "plt.plot(range(1, epochs + 1), losses, label='Training Loss')\n",
    "plt.xlabel('Epochs')\n",
    "plt.ylabel('Loss')\n",
    "plt.title('Training Loss Over Epochs')\n",
    "plt.legend()\n",
    "plt.grid(True)\n",
    "plt.show()"
   ]
  },
  {
   "cell_type": "code",
   "execution_count": 41,
   "metadata": {},
   "outputs": [
    {
     "name": "stdout",
     "output_type": "stream",
     "text": [
      "Labels\n",
      " 1        997\n",
      "-1        996\n",
      "Name: count, dtype: int64\n"
     ]
    }
   ],
   "source": [
    "# print(df_resampled_train.value_counts())\n",
    "print(label_resampled_train.value_counts())"
   ]
  },
  {
   "cell_type": "code",
   "execution_count": 42,
   "metadata": {},
   "outputs": [
    {
     "data": {
      "text/plain": [
       "1"
      ]
     },
     "execution_count": 42,
     "metadata": {},
     "output_type": "execute_result"
    }
   ],
   "source": [
    "label_resampled_train.iloc[0,0]"
   ]
  },
  {
   "cell_type": "code",
   "execution_count": 43,
   "metadata": {},
   "outputs": [],
   "source": [
    "def calculate_mcc(y_true, y_pred):\n",
    "    tp = np.sum((y_true == 1) & (y_pred == 1))\n",
    "    tn = np.sum((y_true == -1) & (y_pred == -1))\n",
    "    fp = np.sum((y_true == -1) & (y_pred == 1))\n",
    "    fn = np.sum((y_true == 1) & (y_pred == -1))\n",
    "\n",
    "    numerator = (tp * tn) - (fp * fn)\n",
    "    denominator = np.sqrt((tp + fp) * (tp + fn) * (tn + fp) * (tn + fn))\n",
    "    return numerator / (denominator + np.finfo(float).eps)"
   ]
  },
  {
   "cell_type": "code",
   "execution_count": 44,
   "metadata": {},
   "outputs": [],
   "source": [
    "def evaluate_model(nn, X_val, y_val):\n",
    "    predictions = []\n",
    "\n",
    "    for i in range(len(X_val)):\n",
    "        inputs = X_val.iloc[i].values  # Convert DataFrame row to NumPy array\n",
    "        output = nn.query(inputs)\n",
    "        predicted_label = 1 if output[0] >= 0.8 else -1\n",
    "        predictions.append(predicted_label)\n",
    "\n",
    "    predictions = np.array(predictions)\n",
    "    print(pd.DataFrame(predictions).value_counts())\n",
    "\n",
    "    if isinstance(y_val, (pd.DataFrame, pd.Series)):\n",
    "        y_val = y_val.values.flatten()\n",
    "    mcc_score = calculate_mcc(y_val, predictions)\n",
    "    return mcc_score, predictions\n",
    "\n",
    "# # Calculate MCC for the validation set\n",
    "# mcc_validation, val_predictions = evaluate_model(nn, df_resampled_val, label_resampled_val)\n",
    "# print(f\"MCC on Validation Set: {mcc_validation}\")"
   ]
  },
  {
   "cell_type": "code",
   "execution_count": 45,
   "metadata": {},
   "outputs": [
    {
     "name": "stdout",
     "output_type": "stream",
     "text": [
      " 1    430\n",
      "-1    425\n",
      "Name: count, dtype: int64\n",
      "MCC on Validation Set: 0.9930069548759868\n",
      "(855, 1)\n",
      "(855,)\n"
     ]
    },
    {
     "data": {
      "image/png": "[encoded data removed]",
      "text/plain": [
       "<Figure size 600x600 with 1 Axes>"
      ]
     },
     "metadata": {},
     "output_type": "display_data"
    }
   ],
   "source": [
    "from sklearn.metrics import confusion_matrix\n",
    "import matplotlib.pyplot as plt\n",
    "import seaborn as sns\n",
    "\n",
    "def plot_confusion_matrix(cm, title):\n",
    "    plt.figure(figsize=(6, 6))\n",
    "    sns.heatmap(cm, annot=True, fmt='g', cmap='Blues', cbar=False)\n",
    "    plt.xlabel('Predicted Label')\n",
    "    plt.ylabel('True Label')\n",
    "    plt.title(title)\n",
    "    plt.show()\n",
    "\n",
    "# Calculate predictions using the evaluate_model function\n",
    "mcc_validation, val_predictions = evaluate_model(nn, df_resampled_val, label_resampled_val)\n",
    "print(f\"MCC on Validation Set: {mcc_validation}\")\n",
    "\n",
    "print(label_resampled_val.shape)\n",
    "print(val_predictions.shape)\n",
    "\n",
    "# Convert actual target values to the appropriate format\n",
    "if isinstance(label_resampled_val, (pd.DataFrame, pd.Series)):\n",
    "    label_resampled_val = label_resampled_val.values.flatten()\n",
    "\n",
    "# Create the confusion matrix\n",
    "cm = confusion_matrix(label_resampled_val, val_predictions)\n",
    "\n",
    "# Plot the confusion matrix\n",
    "plot_confusion_matrix(cm, 'Confusion Matrix for Validation Set')\n"
   ]
  },
  {
   "cell_type": "code",
   "execution_count": 46,
   "metadata": {},
   "outputs": [
    {
     "data": {
      "text/html": [
       "<div>\n",
       "<style scoped>\n",
       "    .dataframe tbody tr th:only-of-type {\n",
       "        vertical-align: middle;\n",
       "    }\n",
       "\n",
       "    .dataframe tbody tr th {\n",
       "        vertical-align: top;\n",
       "    }\n",
       "\n",
       "    .dataframe thead th {\n",
       "        text-align: right;\n",
       "    }\n",
       "</style>\n",
       "<table border=\"1\" class=\"dataframe\">\n",
       "  <thead>\n",
       "    <tr style=\"text-align: right;\">\n",
       "      <th></th>\n",
       "      <th>0</th>\n",
       "      <th>1</th>\n",
       "      <th>2</th>\n",
       "      <th>3</th>\n",
       "      <th>4</th>\n",
       "      <th>5</th>\n",
       "      <th>6</th>\n",
       "      <th>7</th>\n",
       "      <th>8</th>\n",
       "      <th>9</th>\n",
       "      <th>...</th>\n",
       "      <th>15</th>\n",
       "      <th>16</th>\n",
       "      <th>17</th>\n",
       "      <th>18</th>\n",
       "      <th>19</th>\n",
       "      <th>20</th>\n",
       "      <th>21</th>\n",
       "      <th>22</th>\n",
       "      <th>23</th>\n",
       "      <th>24</th>\n",
       "    </tr>\n",
       "  </thead>\n",
       "  <tbody>\n",
       "    <tr>\n",
       "      <th>1576</th>\n",
       "      <td>0.520057</td>\n",
       "      <td>0.0</td>\n",
       "      <td>0.0</td>\n",
       "      <td>0.479943</td>\n",
       "      <td>0.959886</td>\n",
       "      <td>3.520057</td>\n",
       "      <td>3.560171</td>\n",
       "      <td>0.520057</td>\n",
       "      <td>4.040114</td>\n",
       "      <td>0.0</td>\n",
       "      <td>...</td>\n",
       "      <td>0.0</td>\n",
       "      <td>1.000000</td>\n",
       "      <td>3.520057</td>\n",
       "      <td>1.000000</td>\n",
       "      <td>1.040114</td>\n",
       "      <td>0.0</td>\n",
       "      <td>0.479943</td>\n",
       "      <td>0.0</td>\n",
       "      <td>0.520057</td>\n",
       "      <td>0.0</td>\n",
       "    </tr>\n",
       "    <tr>\n",
       "      <th>324</th>\n",
       "      <td>0.000000</td>\n",
       "      <td>0.0</td>\n",
       "      <td>0.0</td>\n",
       "      <td>0.000000</td>\n",
       "      <td>0.000000</td>\n",
       "      <td>0.000000</td>\n",
       "      <td>1.000000</td>\n",
       "      <td>0.000000</td>\n",
       "      <td>0.000000</td>\n",
       "      <td>0.0</td>\n",
       "      <td>...</td>\n",
       "      <td>0.0</td>\n",
       "      <td>0.000000</td>\n",
       "      <td>0.000000</td>\n",
       "      <td>0.000000</td>\n",
       "      <td>0.000000</td>\n",
       "      <td>0.0</td>\n",
       "      <td>1.000000</td>\n",
       "      <td>1.0</td>\n",
       "      <td>1.000000</td>\n",
       "      <td>0.0</td>\n",
       "    </tr>\n",
       "    <tr>\n",
       "      <th>2123</th>\n",
       "      <td>1.000000</td>\n",
       "      <td>0.0</td>\n",
       "      <td>0.0</td>\n",
       "      <td>1.000000</td>\n",
       "      <td>0.245223</td>\n",
       "      <td>1.000000</td>\n",
       "      <td>2.264332</td>\n",
       "      <td>0.000000</td>\n",
       "      <td>1.509555</td>\n",
       "      <td>0.0</td>\n",
       "      <td>...</td>\n",
       "      <td>0.0</td>\n",
       "      <td>0.000000</td>\n",
       "      <td>0.000000</td>\n",
       "      <td>1.245223</td>\n",
       "      <td>0.000000</td>\n",
       "      <td>0.0</td>\n",
       "      <td>2.509555</td>\n",
       "      <td>0.0</td>\n",
       "      <td>0.000000</td>\n",
       "      <td>0.0</td>\n",
       "    </tr>\n",
       "    <tr>\n",
       "      <th>2514</th>\n",
       "      <td>0.000000</td>\n",
       "      <td>0.0</td>\n",
       "      <td>0.0</td>\n",
       "      <td>0.000000</td>\n",
       "      <td>0.000000</td>\n",
       "      <td>0.000000</td>\n",
       "      <td>0.000000</td>\n",
       "      <td>0.000000</td>\n",
       "      <td>0.000000</td>\n",
       "      <td>0.0</td>\n",
       "      <td>...</td>\n",
       "      <td>0.0</td>\n",
       "      <td>0.000000</td>\n",
       "      <td>0.000000</td>\n",
       "      <td>0.000000</td>\n",
       "      <td>0.000000</td>\n",
       "      <td>0.0</td>\n",
       "      <td>0.000000</td>\n",
       "      <td>0.0</td>\n",
       "      <td>0.000000</td>\n",
       "      <td>0.0</td>\n",
       "    </tr>\n",
       "    <tr>\n",
       "      <th>2175</th>\n",
       "      <td>1.511107</td>\n",
       "      <td>0.0</td>\n",
       "      <td>0.0</td>\n",
       "      <td>0.000000</td>\n",
       "      <td>0.000000</td>\n",
       "      <td>0.000000</td>\n",
       "      <td>0.000000</td>\n",
       "      <td>0.000000</td>\n",
       "      <td>1.488893</td>\n",
       "      <td>0.0</td>\n",
       "      <td>...</td>\n",
       "      <td>0.0</td>\n",
       "      <td>0.488893</td>\n",
       "      <td>4.000000</td>\n",
       "      <td>0.000000</td>\n",
       "      <td>0.000000</td>\n",
       "      <td>0.0</td>\n",
       "      <td>3.000000</td>\n",
       "      <td>1.0</td>\n",
       "      <td>0.000000</td>\n",
       "      <td>0.0</td>\n",
       "    </tr>\n",
       "  </tbody>\n",
       "</table>\n",
       "<p>5 rows × 25 columns</p>\n",
       "</div>"
      ],
      "text/plain": [
       "            0    1    2         3         4         5         6         7   \\\n",
       "1576  0.520057  0.0  0.0  0.479943  0.959886  3.520057  3.560171  0.520057   \n",
       "324   0.000000  0.0  0.0  0.000000  0.000000  0.000000  1.000000  0.000000   \n",
       "2123  1.000000  0.0  0.0  1.000000  0.245223  1.000000  2.264332  0.000000   \n",
       "2514  0.000000  0.0  0.0  0.000000  0.000000  0.000000  0.000000  0.000000   \n",
       "2175  1.511107  0.0  0.0  0.000000  0.000000  0.000000  0.000000  0.000000   \n",
       "\n",
       "            8    9   ...   15        16        17        18        19   20  \\\n",
       "1576  4.040114  0.0  ...  0.0  1.000000  3.520057  1.000000  1.040114  0.0   \n",
       "324   0.000000  0.0  ...  0.0  0.000000  0.000000  0.000000  0.000000  0.0   \n",
       "2123  1.509555  0.0  ...  0.0  0.000000  0.000000  1.245223  0.000000  0.0   \n",
       "2514  0.000000  0.0  ...  0.0  0.000000  0.000000  0.000000  0.000000  0.0   \n",
       "2175  1.488893  0.0  ...  0.0  0.488893  4.000000  0.000000  0.000000  0.0   \n",
       "\n",
       "            21   22        23   24  \n",
       "1576  0.479943  0.0  0.520057  0.0  \n",
       "324   1.000000  1.0  1.000000  0.0  \n",
       "2123  2.509555  0.0  0.000000  0.0  \n",
       "2514  0.000000  0.0  0.000000  0.0  \n",
       "2175  3.000000  1.0  0.000000  0.0  \n",
       "\n",
       "[5 rows x 25 columns]"
      ]
     },
     "execution_count": 46,
     "metadata": {},
     "output_type": "execute_result"
    }
   ],
   "source": [
    "df_resampled_val.head()"
   ]
  },
  {
   "cell_type": "code",
   "execution_count": 47,
   "metadata": {},
   "outputs": [],
   "source": [
    "test_aa_frequencies = calculate_amino_acid_frequencies(test_data['Sequence'])\n",
    "test_freq_array = np.array(test_aa_frequencies)"
   ]
  },
  {
   "cell_type": "code",
   "execution_count": 48,
   "metadata": {},
   "outputs": [
    {
     "data": {
      "text/plain": [
       "array([[4., 0., 1., ..., 0., 1., 0.],\n",
       "       [4., 0., 0., ..., 0., 1., 0.],\n",
       "       [0., 0., 0., ..., 0., 0., 0.],\n",
       "       ...,\n",
       "       [7., 0., 1., ..., 0., 0., 0.],\n",
       "       [2., 0., 0., ..., 0., 1., 0.],\n",
       "       [4., 0., 1., ..., 0., 0., 0.]])"
      ]
     },
     "execution_count": 48,
     "metadata": {},
     "output_type": "execute_result"
    }
   ],
   "source": [
    "test_freq_array"
   ]
  },
  {
   "cell_type": "code",
   "execution_count": 49,
   "metadata": {},
   "outputs": [
    {
     "data": {
      "text/html": [
       "<div>\n",
       "<style scoped>\n",
       "    .dataframe tbody tr th:only-of-type {\n",
       "        vertical-align: middle;\n",
       "    }\n",
       "\n",
       "    .dataframe tbody tr th {\n",
       "        vertical-align: top;\n",
       "    }\n",
       "\n",
       "    .dataframe thead th {\n",
       "        text-align: right;\n",
       "    }\n",
       "</style>\n",
       "<table border=\"1\" class=\"dataframe\">\n",
       "  <thead>\n",
       "    <tr style=\"text-align: right;\">\n",
       "      <th></th>\n",
       "      <th>0</th>\n",
       "      <th>1</th>\n",
       "      <th>2</th>\n",
       "      <th>3</th>\n",
       "      <th>4</th>\n",
       "      <th>5</th>\n",
       "      <th>6</th>\n",
       "      <th>7</th>\n",
       "      <th>8</th>\n",
       "      <th>9</th>\n",
       "      <th>...</th>\n",
       "      <th>15</th>\n",
       "      <th>16</th>\n",
       "      <th>17</th>\n",
       "      <th>18</th>\n",
       "      <th>19</th>\n",
       "      <th>20</th>\n",
       "      <th>21</th>\n",
       "      <th>22</th>\n",
       "      <th>23</th>\n",
       "      <th>24</th>\n",
       "    </tr>\n",
       "  </thead>\n",
       "  <tbody>\n",
       "    <tr>\n",
       "      <th>0</th>\n",
       "      <td>4.0</td>\n",
       "      <td>0.0</td>\n",
       "      <td>1.0</td>\n",
       "      <td>1.0</td>\n",
       "      <td>3.0</td>\n",
       "      <td>1.0</td>\n",
       "      <td>1.0</td>\n",
       "      <td>1.0</td>\n",
       "      <td>1.0</td>\n",
       "      <td>0.0</td>\n",
       "      <td>...</td>\n",
       "      <td>1.0</td>\n",
       "      <td>1.0</td>\n",
       "      <td>1.0</td>\n",
       "      <td>2.0</td>\n",
       "      <td>2.0</td>\n",
       "      <td>0.0</td>\n",
       "      <td>1.0</td>\n",
       "      <td>0.0</td>\n",
       "      <td>1.0</td>\n",
       "      <td>0.0</td>\n",
       "    </tr>\n",
       "    <tr>\n",
       "      <th>1</th>\n",
       "      <td>4.0</td>\n",
       "      <td>0.0</td>\n",
       "      <td>0.0</td>\n",
       "      <td>4.0</td>\n",
       "      <td>3.0</td>\n",
       "      <td>1.0</td>\n",
       "      <td>3.0</td>\n",
       "      <td>0.0</td>\n",
       "      <td>1.0</td>\n",
       "      <td>0.0</td>\n",
       "      <td>...</td>\n",
       "      <td>2.0</td>\n",
       "      <td>1.0</td>\n",
       "      <td>2.0</td>\n",
       "      <td>1.0</td>\n",
       "      <td>3.0</td>\n",
       "      <td>0.0</td>\n",
       "      <td>1.0</td>\n",
       "      <td>0.0</td>\n",
       "      <td>1.0</td>\n",
       "      <td>0.0</td>\n",
       "    </tr>\n",
       "    <tr>\n",
       "      <th>2</th>\n",
       "      <td>0.0</td>\n",
       "      <td>0.0</td>\n",
       "      <td>0.0</td>\n",
       "      <td>1.0</td>\n",
       "      <td>1.0</td>\n",
       "      <td>1.0</td>\n",
       "      <td>0.0</td>\n",
       "      <td>0.0</td>\n",
       "      <td>2.0</td>\n",
       "      <td>0.0</td>\n",
       "      <td>...</td>\n",
       "      <td>1.0</td>\n",
       "      <td>1.0</td>\n",
       "      <td>4.0</td>\n",
       "      <td>1.0</td>\n",
       "      <td>1.0</td>\n",
       "      <td>0.0</td>\n",
       "      <td>2.0</td>\n",
       "      <td>0.0</td>\n",
       "      <td>0.0</td>\n",
       "      <td>0.0</td>\n",
       "    </tr>\n",
       "    <tr>\n",
       "      <th>3</th>\n",
       "      <td>3.0</td>\n",
       "      <td>0.0</td>\n",
       "      <td>0.0</td>\n",
       "      <td>0.0</td>\n",
       "      <td>1.0</td>\n",
       "      <td>0.0</td>\n",
       "      <td>1.0</td>\n",
       "      <td>0.0</td>\n",
       "      <td>0.0</td>\n",
       "      <td>0.0</td>\n",
       "      <td>...</td>\n",
       "      <td>1.0</td>\n",
       "      <td>1.0</td>\n",
       "      <td>2.0</td>\n",
       "      <td>1.0</td>\n",
       "      <td>0.0</td>\n",
       "      <td>0.0</td>\n",
       "      <td>1.0</td>\n",
       "      <td>1.0</td>\n",
       "      <td>1.0</td>\n",
       "      <td>0.0</td>\n",
       "    </tr>\n",
       "    <tr>\n",
       "      <th>4</th>\n",
       "      <td>4.0</td>\n",
       "      <td>0.0</td>\n",
       "      <td>0.0</td>\n",
       "      <td>1.0</td>\n",
       "      <td>2.0</td>\n",
       "      <td>2.0</td>\n",
       "      <td>2.0</td>\n",
       "      <td>0.0</td>\n",
       "      <td>1.0</td>\n",
       "      <td>0.0</td>\n",
       "      <td>...</td>\n",
       "      <td>0.0</td>\n",
       "      <td>2.0</td>\n",
       "      <td>4.0</td>\n",
       "      <td>1.0</td>\n",
       "      <td>0.0</td>\n",
       "      <td>0.0</td>\n",
       "      <td>0.0</td>\n",
       "      <td>0.0</td>\n",
       "      <td>0.0</td>\n",
       "      <td>0.0</td>\n",
       "    </tr>\n",
       "  </tbody>\n",
       "</table>\n",
       "<p>5 rows × 25 columns</p>\n",
       "</div>"
      ],
      "text/plain": [
       "    0    1    2    3    4    5    6    7    8    9   ...   15   16   17   18  \\\n",
       "0  4.0  0.0  1.0  1.0  3.0  1.0  1.0  1.0  1.0  0.0  ...  1.0  1.0  1.0  2.0   \n",
       "1  4.0  0.0  0.0  4.0  3.0  1.0  3.0  0.0  1.0  0.0  ...  2.0  1.0  2.0  1.0   \n",
       "2  0.0  0.0  0.0  1.0  1.0  1.0  0.0  0.0  2.0  0.0  ...  1.0  1.0  4.0  1.0   \n",
       "3  3.0  0.0  0.0  0.0  1.0  0.0  1.0  0.0  0.0  0.0  ...  1.0  1.0  2.0  1.0   \n",
       "4  4.0  0.0  0.0  1.0  2.0  2.0  2.0  0.0  1.0  0.0  ...  0.0  2.0  4.0  1.0   \n",
       "\n",
       "    19   20   21   22   23   24  \n",
       "0  2.0  0.0  1.0  0.0  1.0  0.0  \n",
       "1  3.0  0.0  1.0  0.0  1.0  0.0  \n",
       "2  1.0  0.0  2.0  0.0  0.0  0.0  \n",
       "3  0.0  0.0  1.0  1.0  1.0  0.0  \n",
       "4  0.0  0.0  0.0  0.0  0.0  0.0  \n",
       "\n",
       "[5 rows x 25 columns]"
      ]
     },
     "execution_count": 49,
     "metadata": {},
     "output_type": "execute_result"
    }
   ],
   "source": [
    "test_vectorized_df = pd.DataFrame(test_freq_array)\n",
    "test_vectorized_df.head()"
   ]
  },
  {
   "cell_type": "code",
   "execution_count": 50,
   "metadata": {},
   "outputs": [
    {
     "name": "stdout",
     "output_type": "stream",
     "text": [
      "<class 'numpy.ndarray'>\n"
     ]
    }
   ],
   "source": [
    "def predict_model(nn, X_test):\n",
    "    predictions = []\n",
    "\n",
    "    for i in range(len(X_test)):\n",
    "        inputs = X_test.iloc[i].values  # Convert DataFrame row to NumPy array\n",
    "        output = nn.query(inputs)\n",
    "        predicted_label = 1 if output[0] >= 0.9 else -1\n",
    "        predictions.append(predicted_label)\n",
    "\n",
    "    predictions = np.array(predictions)\n",
    "    return predictions\n",
    "\n",
    "# Calculate MCC for the validation set\n",
    "predictions = predict_model(nn, test_vectorized_df)\n",
    "print(type(predictions))"
   ]
  },
  {
   "cell_type": "code",
   "execution_count": 51,
   "metadata": {},
   "outputs": [],
   "source": [
    "np.savetxt('format_16_0.08_0.9_1.1_1.4.dat', predictions, fmt='%d')\n",
    "# predictions_df = pd.DataFrame(predictions)\n",
    "# predictions_df.to_csv('format_16_0.08_0.9.csv', index=False)"
   ]
  },
  {
   "cell_type": "code",
   "execution_count": 127,
   "metadata": {},
   "outputs": [],
   "source": [
    "# def plotCf(a,b,t):\n",
    "#     cf =confusion_matrix(a,b)\n",
    "#     plt.imshow(cf,cmap=plt.cm.Blues,interpolation='nearest')\n",
    "#     plt.colorbar()\n",
    "#     plt.title(t)\n",
    "#     plt.xlabel('Predicted')\n",
    "#     plt.ylabel('Actual')\n",
    "#     tick_marks = np.arange(len(set(a))) # length of classes\n",
    "#     class_labels = ['0','1']\n",
    "#     plt.xticks(tick_marks,class_labels)\n",
    "#     plt.yticks(tick_marks,class_labels)\n",
    "#     thresh = cf.max() / 2.\n",
    "#     for i,j in itertools.product(range(cf.shape[0]),range(cf.shape[1])):\n",
    "#         plt.text(j,i,format(cf[i,j],'d'),horizontalalignment='center',color='white' if cf[i,j] >thresh else 'black')\n",
    "#     plt.show()"
   ]
  },
  {
   "cell_type": "code",
   "execution_count": null,
   "metadata": {},
   "outputs": [],
   "source": []
  }
 ],
 "metadata": {
  "kernelspec": {
   "display_name": "dl_a",
   "language": "python",
   "name": "python3"
  },
  "language_info": {
   "codemirror_mode": {
    "name": "ipython",
    "version": 3
   },
   "file_extension": ".py",
   "mimetype": "text/x-python",
   "name": "python",
   "nbconvert_exporter": "python",
   "pygments_lexer": "ipython3",
   "version": "3.11.7"
  }
 },
 "nbformat": 4,
 "nbformat_minor": 2
}

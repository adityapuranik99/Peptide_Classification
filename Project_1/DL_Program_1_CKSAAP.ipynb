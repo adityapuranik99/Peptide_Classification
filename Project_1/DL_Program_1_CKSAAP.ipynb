{
 "cells": [
  {
   "cell_type": "code",
   "execution_count": 1,
   "metadata": {},
   "outputs": [],
   "source": [
    "import pandas as pd\n",
    "import numpy as np\n",
    "import matplotlib.pyplot as plt\n",
    "import traceback as tb"
   ]
  },
  {
   "cell_type": "code",
   "execution_count": 2,
   "metadata": {},
   "outputs": [],
   "source": [
    "df = pd.read_csv('train.dat', delimiter='\\t', header=None)"
   ]
  },
  {
   "cell_type": "code",
   "execution_count": 3,
   "metadata": {},
   "outputs": [
    {
     "data": {
      "text/html": [
       "<div>\n",
       "<style scoped>\n",
       "    .dataframe tbody tr th:only-of-type {\n",
       "        vertical-align: middle;\n",
       "    }\n",
       "\n",
       "    .dataframe tbody tr th {\n",
       "        vertical-align: top;\n",
       "    }\n",
       "\n",
       "    .dataframe thead th {\n",
       "        text-align: right;\n",
       "    }\n",
       "</style>\n",
       "<table border=\"1\" class=\"dataframe\">\n",
       "  <thead>\n",
       "    <tr style=\"text-align: right;\">\n",
       "      <th></th>\n",
       "      <th>0</th>\n",
       "      <th>1</th>\n",
       "    </tr>\n",
       "  </thead>\n",
       "  <tbody>\n",
       "    <tr>\n",
       "      <th>0</th>\n",
       "      <td>-1</td>\n",
       "      <td>DVELDLVEISPNALP</td>\n",
       "    </tr>\n",
       "    <tr>\n",
       "      <th>1</th>\n",
       "      <td>-1</td>\n",
       "      <td>KADEELFNKLFFGT</td>\n",
       "    </tr>\n",
       "    <tr>\n",
       "      <th>2</th>\n",
       "      <td>-1</td>\n",
       "      <td>FLVALHLGTAFALLWYFRKRWCALVRGFFASFGGRRNDDAHMM</td>\n",
       "    </tr>\n",
       "    <tr>\n",
       "      <th>3</th>\n",
       "      <td>-1</td>\n",
       "      <td>RDQMRARIADITGVAISRIA</td>\n",
       "    </tr>\n",
       "    <tr>\n",
       "      <th>4</th>\n",
       "      <td>-1</td>\n",
       "      <td>RKRLQLLLL</td>\n",
       "    </tr>\n",
       "  </tbody>\n",
       "</table>\n",
       "</div>"
      ],
      "text/plain": [
       "   0                                            1\n",
       "0 -1                              DVELDLVEISPNALP\n",
       "1 -1                               KADEELFNKLFFGT\n",
       "2 -1  FLVALHLGTAFALLWYFRKRWCALVRGFFASFGGRRNDDAHMM\n",
       "3 -1                         RDQMRARIADITGVAISRIA\n",
       "4 -1                                    RKRLQLLLL"
      ]
     },
     "execution_count": 3,
     "metadata": {},
     "output_type": "execute_result"
    }
   ],
   "source": [
    "df.head()"
   ]
  },
  {
   "cell_type": "code",
   "execution_count": 4,
   "metadata": {},
   "outputs": [],
   "source": [
    "df_results = df[0]"
   ]
  },
  {
   "cell_type": "code",
   "execution_count": 5,
   "metadata": {},
   "outputs": [],
   "source": [
    "df_results.columns = ['Labels']"
   ]
  },
  {
   "cell_type": "code",
   "execution_count": 6,
   "metadata": {},
   "outputs": [
    {
     "data": {
      "text/plain": [
       "0      -1\n",
       "1      -1\n",
       "2      -1\n",
       "3      -1\n",
       "4      -1\n",
       "       ..\n",
       "1561   -1\n",
       "1562    1\n",
       "1563    1\n",
       "1564   -1\n",
       "1565   -1\n",
       "Name: 0, Length: 1566, dtype: int64"
      ]
     },
     "execution_count": 6,
     "metadata": {},
     "output_type": "execute_result"
    }
   ],
   "source": [
    "df_results"
   ]
  },
  {
   "cell_type": "code",
   "execution_count": 7,
   "metadata": {},
   "outputs": [],
   "source": [
    "df_seq = df[[1]]"
   ]
  },
  {
   "cell_type": "code",
   "execution_count": 8,
   "metadata": {},
   "outputs": [],
   "source": [
    "df_seq.columns = ['Sequence']"
   ]
  },
  {
   "cell_type": "code",
   "execution_count": 9,
   "metadata": {},
   "outputs": [
    {
     "data": {
      "text/html": [
       "<div>\n",
       "<style scoped>\n",
       "    .dataframe tbody tr th:only-of-type {\n",
       "        vertical-align: middle;\n",
       "    }\n",
       "\n",
       "    .dataframe tbody tr th {\n",
       "        vertical-align: top;\n",
       "    }\n",
       "\n",
       "    .dataframe thead th {\n",
       "        text-align: right;\n",
       "    }\n",
       "</style>\n",
       "<table border=\"1\" class=\"dataframe\">\n",
       "  <thead>\n",
       "    <tr style=\"text-align: right;\">\n",
       "      <th></th>\n",
       "      <th>Sequence</th>\n",
       "    </tr>\n",
       "  </thead>\n",
       "  <tbody>\n",
       "    <tr>\n",
       "      <th>0</th>\n",
       "      <td>DVELDLVEISPNALP</td>\n",
       "    </tr>\n",
       "    <tr>\n",
       "      <th>1</th>\n",
       "      <td>KADEELFNKLFFGT</td>\n",
       "    </tr>\n",
       "    <tr>\n",
       "      <th>2</th>\n",
       "      <td>FLVALHLGTAFALLWYFRKRWCALVRGFFASFGGRRNDDAHMM</td>\n",
       "    </tr>\n",
       "    <tr>\n",
       "      <th>3</th>\n",
       "      <td>RDQMRARIADITGVAISRIA</td>\n",
       "    </tr>\n",
       "    <tr>\n",
       "      <th>4</th>\n",
       "      <td>RKRLQLLLL</td>\n",
       "    </tr>\n",
       "  </tbody>\n",
       "</table>\n",
       "</div>"
      ],
      "text/plain": [
       "                                      Sequence\n",
       "0                              DVELDLVEISPNALP\n",
       "1                               KADEELFNKLFFGT\n",
       "2  FLVALHLGTAFALLWYFRKRWCALVRGFFASFGGRRNDDAHMM\n",
       "3                         RDQMRARIADITGVAISRIA\n",
       "4                                    RKRLQLLLL"
      ]
     },
     "execution_count": 9,
     "metadata": {},
     "output_type": "execute_result"
    }
   ],
   "source": [
    "df_seq.head()"
   ]
  },
  {
   "cell_type": "code",
   "execution_count": 10,
   "metadata": {},
   "outputs": [],
   "source": [
    "def dna_k_mers_generation(dna_sequence, k_mers_length):\n",
    "    k_mers_list = []\n",
    "    try:\n",
    "        for i in range(len(dna_sequence) - k_mers_length + 1):\n",
    "            k_mer_substring = dna_sequence[i : i + k_mers_length]\n",
    "            k_mers_list.append(k_mer_substring)\n",
    "    except Exception as e:\n",
    "        tb.print_exc()\n",
    "    return k_mers_list"
   ]
  },
  {
   "cell_type": "code",
   "execution_count": 11,
   "metadata": {},
   "outputs": [],
   "source": [
    "# Assuming you have a function to load and preprocess your test dataset\n",
    "# and your trained neural network 'nn' is available\n",
    "\n",
    "# Load your test dataset\n",
    "test_data = pd.read_csv('test.dat', delimiter='\\t', header=None)\n",
    "test_data.columns = ['Sequence']\n"
   ]
  },
  {
   "cell_type": "code",
   "execution_count": 12,
   "metadata": {},
   "outputs": [
    {
     "data": {
      "text/plain": [
       "(1566, 1)"
      ]
     },
     "execution_count": 12,
     "metadata": {},
     "output_type": "execute_result"
    }
   ],
   "source": [
    "df_seq.head()\n",
    "df_seq.shape"
   ]
  },
  {
   "cell_type": "code",
   "execution_count": 13,
   "metadata": {},
   "outputs": [
    {
     "data": {
      "text/plain": [
       "(392, 1)"
      ]
     },
     "execution_count": 13,
     "metadata": {},
     "output_type": "execute_result"
    }
   ],
   "source": [
    "test_data.shape"
   ]
  },
  {
   "cell_type": "code",
   "execution_count": 14,
   "metadata": {},
   "outputs": [],
   "source": [
    "def calculate_amino_acid_frequencies(sequences):\n",
    "    amino_acids = 'ABCDEFGHIJKLMNOPQRSTUVWXY'\n",
    "    frequencies = np.zeros((len(sequences), len(amino_acids)))\n",
    "\n",
    "    for i, sequence in enumerate(sequences):\n",
    "        for aa in sequence:\n",
    "            if aa in amino_acids:\n",
    "                aa_index = amino_acids.index(aa)\n",
    "                frequencies[i, aa_index] += 1\n",
    "\n",
    "    return frequencies\n",
    "\n",
    "# Example usage:\n",
    "train_sequences = df_seq  # Replace with your actual training sequences\n",
    "train_aa_frequencies = calculate_amino_acid_frequencies(train_sequences['Sequence'])\n",
    "\n",
    "# Convert the frequencies to a numpy array or another suitable format for further processing\n",
    "import numpy as np\n",
    "train_freq_array = np.array(train_aa_frequencies)"
   ]
  },
  {
   "cell_type": "code",
   "execution_count": 15,
   "metadata": {},
   "outputs": [
    {
     "data": {
      "text/plain": [
       "(1566, 25)"
      ]
     },
     "execution_count": 15,
     "metadata": {},
     "output_type": "execute_result"
    }
   ],
   "source": [
    "train_freq_array.shape"
   ]
  },
  {
   "cell_type": "code",
   "execution_count": 16,
   "metadata": {},
   "outputs": [],
   "source": [
    "# from sklearn.feature_extraction.text import CountVectorizer\n",
    "\n",
    "# # Combine training and testing sequences\n",
    "# combined_sequences = pd.concat([df_seq, test_data], axis=0)\n",
    "# combined_sequences.shape\n",
    "\n",
    "# # Initialize CountVectorizer for k-mer features\n",
    "# vectorizer = CountVectorizer(analyzer='char', ngram_range=(1, 1))\n",
    "\n",
    "# # Apply CountVectorizer to the combined sequences\n",
    "# vectorized_data = vectorizer.fit_transform(combined_sequences['Sequence']).toarray()\n",
    "\n",
    "# # Split the vectorized data back into training and testing sets\n",
    "# train_vectorized = vectorized_data[:len(df_seq)]\n",
    "# test_vectorized = vectorized_data[len(df_seq):]\n",
    "\n",
    "# # Verify the shapes of the vectorized datasets\n",
    "# train_vectorized.shape, test_vectorized.shape\n"
   ]
  },
  {
   "cell_type": "code",
   "execution_count": 17,
   "metadata": {},
   "outputs": [],
   "source": [
    "# from sklearn.feature_extraction.text import CountVectorizer\n",
    "\n",
    "# vectorizer = CountVectorizer(analyzer='char', ngram_range=(1, 3))\n",
    "# X = vectorizer.fit_transform(df_seq['Sequence']).toarray()\n",
    "X = train_freq_array"
   ]
  },
  {
   "cell_type": "code",
   "execution_count": 18,
   "metadata": {},
   "outputs": [
    {
     "data": {
      "text/plain": [
       "(1566, 25)"
      ]
     },
     "execution_count": 18,
     "metadata": {},
     "output_type": "execute_result"
    }
   ],
   "source": [
    "X.shape"
   ]
  },
  {
   "cell_type": "code",
   "execution_count": 19,
   "metadata": {},
   "outputs": [],
   "source": [
    "# k_mers_list = []# Range of k-mer lengths (e.g., 2 to 5)\n",
    "# for k in range(2, 6):\n",
    "#     df_seq[f'kmers_{k}'] = df_seq['Sequence'].apply(lambda x: dna_k_mers_generation(x, k))"
   ]
  },
  {
   "cell_type": "code",
   "execution_count": 20,
   "metadata": {},
   "outputs": [
    {
     "data": {
      "text/plain": [
       "(1566,)"
      ]
     },
     "execution_count": 20,
     "metadata": {},
     "output_type": "execute_result"
    }
   ],
   "source": [
    "df_results.shape"
   ]
  },
  {
   "cell_type": "code",
   "execution_count": 21,
   "metadata": {},
   "outputs": [],
   "source": [
    "from imblearn.over_sampling import SMOTE\n",
    "\n",
    "y = df_results\n",
    "\n",
    "smote = SMOTE()\n",
    "X_resampled, y_resampled = smote.fit_resample(X, y)"
   ]
  },
  {
   "cell_type": "code",
   "execution_count": 22,
   "metadata": {},
   "outputs": [],
   "source": [
    "# Check the balance of the classes\n",
    "# print(pd.Series(y_resampled).value_counts()).to_clipboard()"
   ]
  },
  {
   "cell_type": "code",
   "execution_count": 23,
   "metadata": {},
   "outputs": [
    {
     "data": {
      "text/plain": [
       "0   -1\n",
       "1   -1\n",
       "2   -1\n",
       "3   -1\n",
       "4   -1\n",
       "Name: 0, dtype: int64"
      ]
     },
     "execution_count": 23,
     "metadata": {},
     "output_type": "execute_result"
    }
   ],
   "source": [
    "df_results.head()"
   ]
  },
  {
   "cell_type": "code",
   "execution_count": 24,
   "metadata": {},
   "outputs": [
    {
     "data": {
      "text/plain": [
       "0\n",
       "-1    1424\n",
       " 1     142\n",
       "Name: count, dtype: int64"
      ]
     },
     "execution_count": 24,
     "metadata": {},
     "output_type": "execute_result"
    }
   ],
   "source": [
    "df_results.value_counts()"
   ]
  },
  {
   "cell_type": "code",
   "execution_count": 25,
   "metadata": {},
   "outputs": [],
   "source": [
    "df_resampled = pd.DataFrame(X_resampled)\n",
    "# df_resampled.to_clipboard(index=False)"
   ]
  },
  {
   "cell_type": "code",
   "execution_count": 26,
   "metadata": {},
   "outputs": [
    {
     "data": {
      "text/html": [
       "<div>\n",
       "<style scoped>\n",
       "    .dataframe tbody tr th:only-of-type {\n",
       "        vertical-align: middle;\n",
       "    }\n",
       "\n",
       "    .dataframe tbody tr th {\n",
       "        vertical-align: top;\n",
       "    }\n",
       "\n",
       "    .dataframe thead th {\n",
       "        text-align: right;\n",
       "    }\n",
       "</style>\n",
       "<table border=\"1\" class=\"dataframe\">\n",
       "  <thead>\n",
       "    <tr style=\"text-align: right;\">\n",
       "      <th></th>\n",
       "      <th>0</th>\n",
       "      <th>1</th>\n",
       "      <th>2</th>\n",
       "      <th>3</th>\n",
       "      <th>4</th>\n",
       "      <th>5</th>\n",
       "      <th>6</th>\n",
       "      <th>7</th>\n",
       "      <th>8</th>\n",
       "      <th>9</th>\n",
       "      <th>...</th>\n",
       "      <th>15</th>\n",
       "      <th>16</th>\n",
       "      <th>17</th>\n",
       "      <th>18</th>\n",
       "      <th>19</th>\n",
       "      <th>20</th>\n",
       "      <th>21</th>\n",
       "      <th>22</th>\n",
       "      <th>23</th>\n",
       "      <th>24</th>\n",
       "    </tr>\n",
       "  </thead>\n",
       "  <tbody>\n",
       "    <tr>\n",
       "      <th>0</th>\n",
       "      <td>1.0</td>\n",
       "      <td>0.0</td>\n",
       "      <td>0.0</td>\n",
       "      <td>2.0</td>\n",
       "      <td>2.0</td>\n",
       "      <td>0.0</td>\n",
       "      <td>0.0</td>\n",
       "      <td>0.0</td>\n",
       "      <td>1.0</td>\n",
       "      <td>0.0</td>\n",
       "      <td>...</td>\n",
       "      <td>2.0</td>\n",
       "      <td>0.0</td>\n",
       "      <td>0.0</td>\n",
       "      <td>1.0</td>\n",
       "      <td>0.0</td>\n",
       "      <td>0.0</td>\n",
       "      <td>2.0</td>\n",
       "      <td>0.0</td>\n",
       "      <td>0.0</td>\n",
       "      <td>0.0</td>\n",
       "    </tr>\n",
       "    <tr>\n",
       "      <th>1</th>\n",
       "      <td>1.0</td>\n",
       "      <td>0.0</td>\n",
       "      <td>0.0</td>\n",
       "      <td>1.0</td>\n",
       "      <td>2.0</td>\n",
       "      <td>3.0</td>\n",
       "      <td>1.0</td>\n",
       "      <td>0.0</td>\n",
       "      <td>0.0</td>\n",
       "      <td>0.0</td>\n",
       "      <td>...</td>\n",
       "      <td>0.0</td>\n",
       "      <td>0.0</td>\n",
       "      <td>0.0</td>\n",
       "      <td>0.0</td>\n",
       "      <td>1.0</td>\n",
       "      <td>0.0</td>\n",
       "      <td>0.0</td>\n",
       "      <td>0.0</td>\n",
       "      <td>0.0</td>\n",
       "      <td>0.0</td>\n",
       "    </tr>\n",
       "    <tr>\n",
       "      <th>2</th>\n",
       "      <td>6.0</td>\n",
       "      <td>0.0</td>\n",
       "      <td>1.0</td>\n",
       "      <td>2.0</td>\n",
       "      <td>0.0</td>\n",
       "      <td>6.0</td>\n",
       "      <td>4.0</td>\n",
       "      <td>2.0</td>\n",
       "      <td>0.0</td>\n",
       "      <td>0.0</td>\n",
       "      <td>...</td>\n",
       "      <td>0.0</td>\n",
       "      <td>0.0</td>\n",
       "      <td>5.0</td>\n",
       "      <td>1.0</td>\n",
       "      <td>1.0</td>\n",
       "      <td>0.0</td>\n",
       "      <td>2.0</td>\n",
       "      <td>2.0</td>\n",
       "      <td>0.0</td>\n",
       "      <td>1.0</td>\n",
       "    </tr>\n",
       "    <tr>\n",
       "      <th>3</th>\n",
       "      <td>4.0</td>\n",
       "      <td>0.0</td>\n",
       "      <td>0.0</td>\n",
       "      <td>2.0</td>\n",
       "      <td>0.0</td>\n",
       "      <td>0.0</td>\n",
       "      <td>1.0</td>\n",
       "      <td>0.0</td>\n",
       "      <td>4.0</td>\n",
       "      <td>0.0</td>\n",
       "      <td>...</td>\n",
       "      <td>0.0</td>\n",
       "      <td>1.0</td>\n",
       "      <td>4.0</td>\n",
       "      <td>1.0</td>\n",
       "      <td>1.0</td>\n",
       "      <td>0.0</td>\n",
       "      <td>1.0</td>\n",
       "      <td>0.0</td>\n",
       "      <td>0.0</td>\n",
       "      <td>0.0</td>\n",
       "    </tr>\n",
       "    <tr>\n",
       "      <th>4</th>\n",
       "      <td>0.0</td>\n",
       "      <td>0.0</td>\n",
       "      <td>0.0</td>\n",
       "      <td>0.0</td>\n",
       "      <td>0.0</td>\n",
       "      <td>0.0</td>\n",
       "      <td>0.0</td>\n",
       "      <td>0.0</td>\n",
       "      <td>0.0</td>\n",
       "      <td>0.0</td>\n",
       "      <td>...</td>\n",
       "      <td>0.0</td>\n",
       "      <td>1.0</td>\n",
       "      <td>2.0</td>\n",
       "      <td>0.0</td>\n",
       "      <td>0.0</td>\n",
       "      <td>0.0</td>\n",
       "      <td>0.0</td>\n",
       "      <td>0.0</td>\n",
       "      <td>0.0</td>\n",
       "      <td>0.0</td>\n",
       "    </tr>\n",
       "  </tbody>\n",
       "</table>\n",
       "<p>5 rows × 25 columns</p>\n",
       "</div>"
      ],
      "text/plain": [
       "    0    1    2    3    4    5    6    7    8    9   ...   15   16   17   18  \\\n",
       "0  1.0  0.0  0.0  2.0  2.0  0.0  0.0  0.0  1.0  0.0  ...  2.0  0.0  0.0  1.0   \n",
       "1  1.0  0.0  0.0  1.0  2.0  3.0  1.0  0.0  0.0  0.0  ...  0.0  0.0  0.0  0.0   \n",
       "2  6.0  0.0  1.0  2.0  0.0  6.0  4.0  2.0  0.0  0.0  ...  0.0  0.0  5.0  1.0   \n",
       "3  4.0  0.0  0.0  2.0  0.0  0.0  1.0  0.0  4.0  0.0  ...  0.0  1.0  4.0  1.0   \n",
       "4  0.0  0.0  0.0  0.0  0.0  0.0  0.0  0.0  0.0  0.0  ...  0.0  1.0  2.0  0.0   \n",
       "\n",
       "    19   20   21   22   23   24  \n",
       "0  0.0  0.0  2.0  0.0  0.0  0.0  \n",
       "1  1.0  0.0  0.0  0.0  0.0  0.0  \n",
       "2  1.0  0.0  2.0  2.0  0.0  1.0  \n",
       "3  1.0  0.0  1.0  0.0  0.0  0.0  \n",
       "4  0.0  0.0  0.0  0.0  0.0  0.0  \n",
       "\n",
       "[5 rows x 25 columns]"
      ]
     },
     "execution_count": 26,
     "metadata": {},
     "output_type": "execute_result"
    }
   ],
   "source": [
    "df_resampled.head()"
   ]
  },
  {
   "cell_type": "code",
   "execution_count": 27,
   "metadata": {},
   "outputs": [],
   "source": [
    "# df_resampled.to_clipboard()"
   ]
  },
  {
   "cell_type": "code",
   "execution_count": 28,
   "metadata": {},
   "outputs": [],
   "source": [
    "df_resampled.to_csv('features_resampled_dict_count.csv')\n",
    "features_resampled = pd.DataFrame(y_resampled)\n",
    "features_resampled.to_csv('labels_resampled_dict_count.csv')"
   ]
  },
  {
   "cell_type": "code",
   "execution_count": 29,
   "metadata": {},
   "outputs": [
    {
     "data": {
      "text/plain": [
       "(2848, 25)"
      ]
     },
     "execution_count": 29,
     "metadata": {},
     "output_type": "execute_result"
    }
   ],
   "source": [
    "df_resampled.shape"
   ]
  },
  {
   "cell_type": "code",
   "execution_count": 30,
   "metadata": {},
   "outputs": [
    {
     "data": {
      "text/plain": [
       "(2848,)"
      ]
     },
     "execution_count": 30,
     "metadata": {},
     "output_type": "execute_result"
    }
   ],
   "source": [
    "y_resampled.shape"
   ]
  },
  {
   "cell_type": "code",
   "execution_count": 31,
   "metadata": {},
   "outputs": [],
   "source": [
    "features_resampled.columns = ['Labels']"
   ]
  },
  {
   "cell_type": "code",
   "execution_count": 32,
   "metadata": {},
   "outputs": [
    {
     "data": {
      "text/plain": [
       "(2848, 26)"
      ]
     },
     "execution_count": 32,
     "metadata": {},
     "output_type": "execute_result"
    }
   ],
   "source": [
    "## Validation test creation\n",
    "combined_df_resampled = pd.concat([df_resampled, features_resampled], axis= 1)\n",
    "combined_df_resampled.shape"
   ]
  },
  {
   "cell_type": "code",
   "execution_count": 33,
   "metadata": {},
   "outputs": [],
   "source": [
    "from sklearn.model_selection import train_test_split\n",
    "\n",
    "df_resampled_train, df_resampled_val, label_resampled_train, label_resampled_val = train_test_split(df_resampled, features_resampled, test_size= 0.25, random_state=21)"
   ]
  },
  {
   "cell_type": "code",
   "execution_count": 34,
   "metadata": {},
   "outputs": [
    {
     "name": "stdout",
     "output_type": "stream",
     "text": [
      "(2136, 25)\n",
      "(712, 25)\n",
      "(2136, 1)\n",
      "(712, 1)\n"
     ]
    }
   ],
   "source": [
    "print(df_resampled_train.shape)\n",
    "print(df_resampled_val.shape)\n",
    "print(label_resampled_train.shape)\n",
    "print(label_resampled_val.shape)"
   ]
  },
  {
   "cell_type": "code",
   "execution_count": 35,
   "metadata": {},
   "outputs": [
    {
     "data": {
      "text/html": [
       "<div>\n",
       "<style scoped>\n",
       "    .dataframe tbody tr th:only-of-type {\n",
       "        vertical-align: middle;\n",
       "    }\n",
       "\n",
       "    .dataframe tbody tr th {\n",
       "        vertical-align: top;\n",
       "    }\n",
       "\n",
       "    .dataframe thead th {\n",
       "        text-align: right;\n",
       "    }\n",
       "</style>\n",
       "<table border=\"1\" class=\"dataframe\">\n",
       "  <thead>\n",
       "    <tr style=\"text-align: right;\">\n",
       "      <th></th>\n",
       "      <th>Labels</th>\n",
       "    </tr>\n",
       "  </thead>\n",
       "  <tbody>\n",
       "    <tr>\n",
       "      <th>1643</th>\n",
       "      <td>1</td>\n",
       "    </tr>\n",
       "    <tr>\n",
       "      <th>582</th>\n",
       "      <td>-1</td>\n",
       "    </tr>\n",
       "    <tr>\n",
       "      <th>1018</th>\n",
       "      <td>-1</td>\n",
       "    </tr>\n",
       "    <tr>\n",
       "      <th>2086</th>\n",
       "      <td>1</td>\n",
       "    </tr>\n",
       "    <tr>\n",
       "      <th>842</th>\n",
       "      <td>-1</td>\n",
       "    </tr>\n",
       "    <tr>\n",
       "      <th>...</th>\n",
       "      <td>...</td>\n",
       "    </tr>\n",
       "    <tr>\n",
       "      <th>2416</th>\n",
       "      <td>1</td>\n",
       "    </tr>\n",
       "    <tr>\n",
       "      <th>48</th>\n",
       "      <td>-1</td>\n",
       "    </tr>\n",
       "    <tr>\n",
       "      <th>772</th>\n",
       "      <td>1</td>\n",
       "    </tr>\n",
       "    <tr>\n",
       "      <th>1848</th>\n",
       "      <td>1</td>\n",
       "    </tr>\n",
       "    <tr>\n",
       "      <th>1231</th>\n",
       "      <td>1</td>\n",
       "    </tr>\n",
       "  </tbody>\n",
       "</table>\n",
       "<p>2136 rows × 1 columns</p>\n",
       "</div>"
      ],
      "text/plain": [
       "      Labels\n",
       "1643       1\n",
       "582       -1\n",
       "1018      -1\n",
       "2086       1\n",
       "842       -1\n",
       "...      ...\n",
       "2416       1\n",
       "48        -1\n",
       "772        1\n",
       "1848       1\n",
       "1231       1\n",
       "\n",
       "[2136 rows x 1 columns]"
      ]
     },
     "execution_count": 35,
     "metadata": {},
     "output_type": "execute_result"
    }
   ],
   "source": [
    "label_resampled_train"
   ]
  },
  {
   "cell_type": "code",
   "execution_count": 52,
   "metadata": {},
   "outputs": [
    {
     "name": "stdout",
     "output_type": "stream",
     "text": [
      "[[ 2.16071399e-01  1.89512064e-01 -5.60240591e-02 -4.57826650e-02\n",
      "   3.33096126e-02  9.15017129e-01 -4.14164584e-01  3.96088191e-02\n",
      "   1.69253911e-01  2.89758213e-01  2.42672717e-01  2.53686122e-03\n",
      "   7.38304515e-02  1.92138995e-02  1.52678135e-01 -9.79943854e-03\n",
      "  -2.80580968e-01  1.98235290e-01 -1.05031324e-01  1.59448141e-01\n",
      "   1.09851663e-01 -2.26622158e-01  4.34214808e-01  1.44450083e-01\n",
      "  -3.28070572e-01]\n",
      " [ 7.74890348e-03 -1.67949177e-01  3.24618289e-01 -7.19477693e-02\n",
      "   3.10062744e-01 -1.49240767e-01  2.76188296e-01 -6.78293513e-02\n",
      "   2.86724457e-01 -2.21548729e-01 -1.72679437e-02 -7.98113779e-02\n",
      "   2.05758743e-01  2.11448663e-01 -6.57406882e-02  2.41349953e-01\n",
      "   4.07690351e-01 -2.10692073e-01 -3.27392611e-01 -2.55303891e-01\n",
      "  -1.98380436e-02 -2.97713176e-01 -3.69223389e-01 -7.11437692e-02\n",
      "   4.90032824e-02]\n",
      " [ 5.19370835e-01 -1.03536793e-02  2.69169749e-01 -4.65114999e-01\n",
      "  -7.78577804e-02 -2.85065873e-03  2.57146025e-01 -6.72020815e-03\n",
      "  -2.80193359e-01 -2.24692314e-01 -2.20599160e-01  5.29494848e-01\n",
      "   1.58412123e-01 -3.25888733e-01  5.28763982e-01 -1.78745397e-01\n",
      "   3.47718317e-02  2.09792013e-01 -1.98321753e-01  1.65234472e-01\n",
      "   1.55164377e-01 -1.28393213e-01  3.15043534e-01 -4.89213982e-01\n",
      "  -5.56156331e-01]\n",
      " [-2.31696237e-01 -2.91382509e-01 -6.09334579e-01  1.61044548e-01\n",
      "   3.37808357e-01 -3.50638841e-01  3.55488832e-02 -4.64842847e-01\n",
      "  -1.94548817e-01  3.22076621e-01 -1.49218369e-01 -5.00947192e-01\n",
      "   3.05541019e-02  4.10400336e-01 -3.31405045e-02  3.59707096e-01\n",
      "   2.99603853e-01  7.11597886e-02 -7.84892013e-02  1.24727306e-01\n",
      "   1.30163677e-01  6.94699287e-02  2.26762539e-02 -1.23403405e-01\n",
      "   4.71295239e-01]\n",
      " [-1.94418466e-01 -2.03941027e-01  3.96750796e-01  2.88224898e-01\n",
      "   1.51037369e-01 -3.39148672e-01 -1.12674722e-01 -6.43837800e-01\n",
      "  -5.45722135e-01 -3.39108363e-01  6.73515778e-01 -4.19714499e-01\n",
      "   5.41048655e-02 -8.48835459e-02 -2.06340452e-02 -4.84080913e-01\n",
      "  -5.57309310e-01 -3.59589622e-01 -3.97213011e-01 -1.93966191e-01\n",
      "   3.26778143e-01  1.24780731e-01 -2.17901899e-01  1.62586779e-01\n",
      "   1.96623814e-01]\n",
      " [ 2.08856092e-01  6.25297133e-02  3.41094714e-01 -1.31326808e-01\n",
      "   9.64546066e-02  4.90329671e-01  2.09641317e-01 -1.80628507e-01\n",
      "  -4.25311568e-02 -4.26566288e-02  2.40543704e-01 -4.59408801e-01\n",
      "   8.98919665e-02 -1.59796411e-02  2.05118080e-03 -5.91671624e-02\n",
      "   8.39184680e-02 -6.94270338e-01  3.89859712e-01  3.05065664e-01\n",
      "   3.86641698e-01  4.91539584e-01  3.19323688e-01 -3.07070812e-01\n",
      "  -1.51120182e-01]\n",
      " [-1.92643136e-01  3.92154051e-02 -2.84210894e-01 -4.57603877e-02\n",
      "  -3.02876771e-01  3.90815608e-01 -7.61660170e-02  2.07905819e-01\n",
      "   3.15859138e-01 -3.01337026e-01  8.24339007e-02 -1.97543346e-01\n",
      "  -3.90784903e-01  2.61350643e-01 -1.91748316e-01 -1.79004010e-01\n",
      "  -7.53289878e-02 -4.45483615e-02 -1.33922399e-01  5.36800722e-01\n",
      "   2.41665675e-01 -4.89661658e-01  3.02700160e-01  8.09436673e-02\n",
      "  -2.05465904e-01]\n",
      " [ 1.05026271e-01  2.16532585e-01 -1.18585712e-01  1.68218211e-05\n",
      "  -1.70987599e-01  2.14984357e-01  1.49037040e-01 -1.81983431e-01\n",
      "   8.23351099e-04 -3.88883885e-01  2.40915873e-01 -2.29087784e-01\n",
      "  -1.86410683e-01  2.25344198e-01  1.33848129e-01 -4.71317555e-02\n",
      "  -5.00545885e-02  1.07938646e-01 -5.71524762e-02 -9.86654456e-02\n",
      "  -7.17144748e-01 -4.92372285e-01 -4.94791929e-02  2.26571057e-02\n",
      "   4.43520208e-01]\n",
      " [ 3.55830227e-01  2.71478897e-01 -5.68329131e-02  2.09843777e-01\n",
      "   1.49028694e-01  8.68110995e-02 -3.27142654e-01 -1.24394288e-02\n",
      "   1.93119775e-01  1.89118400e-01 -2.29266843e-01 -3.84047197e-01\n",
      "   5.66967583e-01  5.53550413e-02  9.51947186e-02 -2.62164696e-01\n",
      "  -5.60528891e-01 -1.39246151e-01  3.80253161e-01  4.03894359e-02\n",
      "  -2.65852926e-01  5.12066901e-01 -1.04079533e-01 -4.46282025e-02\n",
      "  -4.87532980e-01]\n",
      " [ 1.67729091e-02  2.72510707e-01  4.22057040e-01  3.09674477e-01\n",
      "   3.81314736e-01 -3.41131811e-01 -4.12181180e-01 -2.96336218e-01\n",
      "   3.79425534e-01 -3.75738795e-02  9.19790429e-02 -1.77596414e-02\n",
      "   3.74807152e-01 -2.50974589e-01 -5.53318011e-03  6.61771358e-01\n",
      "  -4.74247961e-01 -9.44838775e-02  3.76479950e-01 -1.62961372e-01\n",
      "   2.55633242e-01 -3.13541537e-01  3.49635936e-01 -1.11622992e-01\n",
      "  -1.97354289e-01]\n",
      " [-2.56869345e-01  1.39480965e-01  1.29114843e-01 -3.52836222e-01\n",
      "  -2.51036940e-01 -3.60972290e-01 -1.84853115e-01 -2.64293702e-01\n",
      "   1.21694696e-02  1.14583014e-01  4.68453877e-01  5.41364692e-01\n",
      "  -7.51728816e-04  1.07558831e-01  2.13799676e-01  3.71487462e-01\n",
      "   1.10274249e-01 -3.65547755e-02  1.57542306e-01 -3.35416143e-01\n",
      "  -1.69692849e-02 -5.67172689e-02 -1.18265324e-01  1.87878063e-01\n",
      "   4.76916219e-02]\n",
      " [ 2.97301475e-01  5.16511315e-01 -1.04961813e-03  3.24490246e-01\n",
      "  -6.13009538e-02  3.27264526e-01 -7.10667248e-01  2.02010225e-01\n",
      "   1.57368325e-01  2.80511496e-01  4.41999103e-01 -1.39097232e-01\n",
      "   2.80276754e-01  1.15455294e-01  1.74224816e-01  3.25617217e-01\n",
      "  -3.57995340e-02 -2.31849983e-02  5.94676346e-02 -1.71202059e-01\n",
      "   1.46577883e-01  7.98246220e-02 -2.11250374e-01  1.97160370e-01\n",
      "  -3.22358605e-02]\n",
      " [-3.50332026e-01  1.78373582e-02  5.44656913e-02  7.82926678e-02\n",
      "   2.97107651e-01  8.10642472e-02  2.18112357e-01 -5.87367660e-02\n",
      "   1.29207080e-01  5.74010633e-01  5.16998864e-02  3.73684225e-02\n",
      "   1.91623259e-01 -2.88547831e-01  6.65455943e-02  1.44216214e-02\n",
      "   1.98040604e-01  3.98674753e-01 -1.16718498e-01  2.73685543e-02\n",
      "  -1.24331468e-01 -1.44579567e-01  2.72186420e-01 -2.98117487e-01\n",
      "  -7.91945076e-02]\n",
      " [ 6.78346319e-01 -2.16588443e-01  4.15462790e-01  2.89967533e-02\n",
      "  -1.05316671e-02  4.34804842e-01  6.19447407e-01 -5.94596417e-01\n",
      "   1.93072995e-02  3.00311986e-02 -3.54228878e-01 -3.73370664e-02\n",
      "   1.45220229e-01  1.51575663e-01 -2.40800286e-01 -4.12726586e-01\n",
      "   2.07954001e-01  5.77690508e-01  1.46315742e-01  6.81201485e-01\n",
      "   4.40418470e-01  2.17910868e-01 -1.37431363e-02 -6.05080260e-01\n",
      "   3.07372346e-02]\n",
      " [ 7.10309940e-02 -9.44324308e-02  2.68608340e-01  1.62387912e-01\n",
      "  -4.46804084e-01 -1.91607320e-02  1.34832719e-01  2.18485264e-01\n",
      "   7.62845232e-02  2.04864477e-01  2.04989838e-01 -1.64134172e-01\n",
      "  -5.83220631e-01  2.17454191e-01 -9.81927745e-02  3.31689819e-01\n",
      "  -2.50093107e-01  3.70226751e-01 -5.38684204e-01 -7.18069340e-01\n",
      "  -2.71116495e-01  9.60817288e-02  4.41219166e-01  2.40548570e-01\n",
      "   1.31771782e-02]\n",
      " [ 1.38294535e-01 -4.11298167e-01  1.71410822e-01 -4.39576459e-02\n",
      "   1.48943477e-01 -5.79944715e-01  3.32822733e-01  2.49583295e-01\n",
      "  -5.77028999e-02 -3.76287740e-01  3.83199894e-01 -1.81056079e-01\n",
      "  -3.25121918e-01  5.86690573e-01 -2.47941172e-02 -1.62363041e-01\n",
      "   6.42023005e-01  7.77050947e-03  3.64450765e-03 -1.43924964e-01\n",
      "   4.80175623e-01 -1.32713816e-02  8.05804330e-02  5.25211660e-01\n",
      "   7.01556178e-02]\n",
      " [ 1.72046041e-01  1.83802965e-01 -6.72091996e-02  2.13301103e-01\n",
      "   2.05224805e-01  2.13082721e-01  2.72951480e-01  2.78670687e-01\n",
      "  -3.35344642e-01  3.81462107e-01  8.37357411e-03 -2.84048456e-01\n",
      "   5.88021776e-02  2.36247902e-02  2.41210451e-01  2.22278154e-01\n",
      "  -3.95277412e-02  3.35473310e-01 -1.72624316e-01  1.37782854e-02\n",
      "  -3.77358763e-01  4.30211903e-02  2.73616485e-01  2.40522576e-01\n",
      "  -2.09544056e-03]\n",
      " [-2.83592099e-01  2.18542404e-01  3.31034642e-01 -6.95793139e-02\n",
      "   4.75352483e-01  1.16461375e-01 -3.27406975e-01  1.78109040e-01\n",
      "  -3.93999976e-03 -2.19065171e-01 -2.27346143e-01  1.08130486e-01\n",
      "   9.70742524e-02 -3.51681060e-01 -2.09224727e-01 -4.30423075e-02\n",
      "   1.52081148e-01  1.54363582e-01  5.75584003e-01 -1.44689843e-01\n",
      "  -5.00977576e-01  1.02671946e-01  2.05509009e-01  2.34889614e-01\n",
      "   1.04656284e-01]]\n",
      "[[-0.34618304 -0.03915765  0.35908006  0.15647019 -0.11979577  0.06463396\n",
      "   0.35271406  0.21076274  0.32787758 -0.07704604 -0.30945443  0.44051462\n",
      "   0.31065475 -0.44988135 -0.14809554 -0.10868404  0.09723745  0.40829824]]\n"
     ]
    }
   ],
   "source": [
    "import numpy as np\n",
    "import scipy.special\n",
    "\n",
    "class NeuralNetwork:\n",
    "    \n",
    "    def __init__(self, inputnodes, hiddennodes, outputnodes, learningrate, lambda_reg):\n",
    "        # Set number of nodes in each input, hidden, output layer\n",
    "        self.inodes = inputnodes\n",
    "        self.hnodes = hiddennodes\n",
    "        self.onodes = outputnodes\n",
    "\n",
    "        # Initialize weights with a normal distribution\n",
    "        self.wih = np.random.normal(0.0, np.sqrt(2.0 / self.inodes), (self.hnodes, self.inodes))\n",
    "        self.who = np.random.normal(0.0, pow(self.hnodes, -0.5), (self.onodes, self.hnodes))\n",
    "\n",
    "        print(self.wih)\n",
    "        print(self.who)\n",
    "\n",
    "        # Learning ratek\n",
    "        self.lr = learningrate\n",
    "        \n",
    "        # Activation functions\n",
    "        self.activation_function_hidden = lambda x: np.maximum(0, x)  # ReLU for hidden layers\n",
    "        self.activation_function_output = lambda x: scipy.special.expit(x)  # Sigmoid for output layer\n",
    "\n",
    "        # Regularizing parameter\n",
    "        self.lambda_reg = lambda_reg\n",
    "\n",
    "        pass\n",
    "\n",
    "    def sigmoid(self, x):\n",
    "        # Modified sigmoid function with input clipping\n",
    "        return 1 / (1 + np.exp(-np.clip(x, -500, 500)))\n",
    "\n",
    "    def train(self, inputs_list, targets_list):\n",
    "        # Convert inputs list to 2d array\n",
    "        inputs = np.array(inputs_list, ndmin=2).T\n",
    "        # Adjust targets from -1 to 0, keep 1 as is\n",
    "        targets = np.array([(0 if t == -1 else 1) for t in targets_list], ndmin=2).T\n",
    "\n",
    "        # Forward pass\n",
    "        hidden_inputs = np.dot(self.wih, inputs)\n",
    "        hidden_outputs = self.activation_function_hidden(hidden_inputs)\n",
    "        \n",
    "        final_inputs = np.dot(self.who, hidden_outputs)\n",
    "        final_outputs = self.sigmoid(final_inputs)\n",
    "\n",
    "        # Error calculation\n",
    "        output_errors = targets - final_outputs\n",
    "        hidden_errors = np.dot(self.who.T, output_errors)\n",
    "\n",
    "        # Gradient for output layer\n",
    "        output_gradient = output_errors * final_outputs * (1.0 - final_outputs)\n",
    "\n",
    "        # Gradient clipping for output layer\n",
    "        max_gradient = 1.0  # Set your desired maximum gradient value\n",
    "        output_gradient = np.clip(output_gradient, -max_gradient, max_gradient)\n",
    "\n",
    "        # Update output layer weights\n",
    "        # self.who += self.lr * (np.dot(output_gradient, np.transpose(hidden_outputs)) + self.lambda_reg * self.who)\n",
    "        self.who += self.lr * (np.dot(output_gradient, np.transpose(hidden_outputs)) - self.lambda_reg * self.who)\n",
    "\n",
    "        # Gradient for hidden layer (considering ReLU derivative)\n",
    "        hidden_gradient = hidden_errors * (hidden_outputs > 0)\n",
    "        # Gradient clipping for hidden layer\n",
    "        hidden_gradient = np.clip(hidden_gradient, -max_gradient, max_gradient)\n",
    "\n",
    "        # Update hidden layer weights\n",
    "        self.wih += self.lr * (np.dot(hidden_gradient, np.transpose(inputs)) - self.lambda_reg * self.wih)\n",
    "        \n",
    "        pass\n",
    "\n",
    "    def query(self, inputs_list):\n",
    "        # Convert inputs list to 2d array\n",
    "        inputs = np.array(inputs_list, ndmin=2).T\n",
    "\n",
    "        # Forward pass\n",
    "        hidden_inputs = np.dot(self.wih, inputs)\n",
    "        hidden_outputs = self.activation_function_hidden(hidden_inputs)\n",
    "        \n",
    "        final_inputs = np.dot(self.who, hidden_outputs)\n",
    "        final_outputs = self.sigmoid(final_inputs)\n",
    "        \n",
    "        return final_outputs\n",
    "\n",
    "# Example: Creating a Neural Network\n",
    "input_nodes = 25\n",
    "hidden_nodes = 18   # Adjust as needed\n",
    "output_nodes = 1\n",
    "learning_rate = 0.09\n",
    "lambda_reg = 0.000\n",
    "\n",
    "nn = NeuralNetwork(input_nodes, hidden_nodes, output_nodes, learning_rate, lambda_reg)\n"
   ]
  },
  {
   "cell_type": "code",
   "execution_count": 53,
   "metadata": {},
   "outputs": [],
   "source": [
    "def mean_squared_error(targets, predictions):\n",
    "    return np.mean((targets - predictions) ** 2)"
   ]
  },
  {
   "cell_type": "code",
   "execution_count": 54,
   "metadata": {},
   "outputs": [
    {
     "data": {
      "text/plain": [
       "array([[0.56278113]])"
      ]
     },
     "execution_count": 54,
     "metadata": {},
     "output_type": "execute_result"
    }
   ],
   "source": [
    "predictions = nn.query(df_resampled_train.iloc[1].values)\n",
    "\n",
    "predictions"
   ]
  },
  {
   "cell_type": "code",
   "execution_count": 55,
   "metadata": {},
   "outputs": [
    {
     "name": "stdout",
     "output_type": "stream",
     "text": [
      "Epoch 1/100, Loss: 0.2902621722846442\n",
      "Epoch 2/100, Loss: 0.16292134831460675\n",
      "Epoch 3/100, Loss: 0.11423220973782772\n",
      "Epoch 4/100, Loss: 0.08426966292134831\n",
      "Epoch 5/100, Loss: 0.08801498127340825\n",
      "Epoch 6/100, Loss: 0.05805243445692884\n",
      "Epoch 7/100, Loss: 0.0449438202247191\n",
      "Epoch 8/100, Loss: 0.05805243445692884\n",
      "Epoch 9/100, Loss: 0.04307116104868914\n",
      "Epoch 10/100, Loss: 0.020599250936329586\n",
      "Epoch 11/100, Loss: 0.009363295880149813\n",
      "Epoch 12/100, Loss: 0.009363295880149813\n",
      "Epoch 13/100, Loss: 0.00749063670411985\n",
      "Epoch 14/100, Loss: 0.011235955056179775\n",
      "Epoch 15/100, Loss: 0.00749063670411985\n",
      "Epoch 16/100, Loss: 0.0056179775280898875\n",
      "Epoch 17/100, Loss: 0.0056179775280898875\n",
      "Epoch 18/100, Loss: 0.0056179775280898875\n",
      "Epoch 19/100, Loss: 0.003745318352059925\n",
      "Epoch 20/100, Loss: 0.003745318352059925\n",
      "Epoch 21/100, Loss: 0.003745318352059925\n",
      "Epoch 22/100, Loss: 0.003745318352059925\n",
      "Epoch 23/100, Loss: 0.003745318352059925\n",
      "Epoch 24/100, Loss: 0.003745318352059925\n",
      "Epoch 25/100, Loss: 0.0018726591760299626\n",
      "Epoch 26/100, Loss: 0.0056179775280898875\n",
      "Epoch 27/100, Loss: 0.0018726591760299626\n",
      "Epoch 28/100, Loss: 0.003745318352059925\n",
      "Epoch 29/100, Loss: 0.0018726591760299626\n",
      "Epoch 30/100, Loss: 0.0018726591760299626\n",
      "Epoch 31/100, Loss: 0.009363295880149813\n",
      "Epoch 32/100, Loss: 0.028089887640449437\n",
      "Epoch 33/100, Loss: 0.020599250936329586\n",
      "Epoch 34/100, Loss: 0.0\n",
      "Epoch 35/100, Loss: 0.0\n",
      "Epoch 36/100, Loss: 0.0\n",
      "Epoch 37/100, Loss: 0.0\n",
      "Epoch 38/100, Loss: 0.0\n",
      "Epoch 39/100, Loss: 0.0\n",
      "Epoch 40/100, Loss: 0.0\n",
      "Epoch 41/100, Loss: 0.0\n",
      "Epoch 42/100, Loss: 0.0\n",
      "Epoch 43/100, Loss: 0.0\n",
      "Epoch 44/100, Loss: 0.0\n",
      "Epoch 45/100, Loss: 0.0\n",
      "Epoch 46/100, Loss: 0.0\n",
      "Epoch 47/100, Loss: 0.0\n",
      "Epoch 48/100, Loss: 0.0\n",
      "Epoch 49/100, Loss: 0.0\n",
      "Epoch 50/100, Loss: 0.0\n",
      "Epoch 51/100, Loss: 0.0\n",
      "Epoch 52/100, Loss: 0.0\n",
      "Epoch 53/100, Loss: 0.0\n",
      "Epoch 54/100, Loss: 0.0\n",
      "Epoch 55/100, Loss: 0.0\n",
      "Epoch 56/100, Loss: 0.0\n",
      "Epoch 57/100, Loss: 0.0\n",
      "Epoch 58/100, Loss: 0.0\n",
      "Epoch 59/100, Loss: 0.0\n",
      "Epoch 60/100, Loss: 0.0\n",
      "Epoch 61/100, Loss: 0.0\n",
      "Epoch 62/100, Loss: 0.0\n",
      "Epoch 63/100, Loss: 0.0\n",
      "Epoch 64/100, Loss: 0.0\n",
      "Epoch 65/100, Loss: 0.0\n",
      "Epoch 66/100, Loss: 0.0\n",
      "Epoch 67/100, Loss: 0.0\n",
      "Epoch 68/100, Loss: 0.0\n",
      "Epoch 69/100, Loss: 0.0\n",
      "Epoch 70/100, Loss: 0.0\n",
      "Epoch 71/100, Loss: 0.0\n",
      "Epoch 72/100, Loss: 0.0\n",
      "Epoch 73/100, Loss: 0.0\n",
      "Epoch 74/100, Loss: 0.0\n",
      "Epoch 75/100, Loss: 0.0\n",
      "Epoch 76/100, Loss: 0.0\n",
      "Epoch 77/100, Loss: 0.0\n",
      "Epoch 78/100, Loss: 0.0\n",
      "Epoch 79/100, Loss: 0.0\n",
      "Epoch 80/100, Loss: 0.0\n",
      "Epoch 81/100, Loss: 0.0\n",
      "Epoch 82/100, Loss: 0.0\n",
      "Epoch 83/100, Loss: 0.0\n",
      "Epoch 84/100, Loss: 0.0\n",
      "Epoch 85/100, Loss: 0.0\n",
      "Epoch 86/100, Loss: 0.0\n",
      "Epoch 87/100, Loss: 0.0\n",
      "Epoch 88/100, Loss: 0.009363295880149813\n",
      "Epoch 89/100, Loss: 0.07865168539325842\n",
      "Epoch 90/100, Loss: 0.028089887640449437\n",
      "Epoch 91/100, Loss: 0.016853932584269662\n",
      "Epoch 92/100, Loss: 0.018726591760299626\n",
      "Epoch 93/100, Loss: 0.011235955056179775\n",
      "Epoch 94/100, Loss: 0.0018726591760299626\n",
      "Epoch 95/100, Loss: 0.0\n",
      "Epoch 96/100, Loss: 0.0\n",
      "Epoch 97/100, Loss: 0.0\n",
      "Epoch 98/100, Loss: 0.0\n",
      "Epoch 99/100, Loss: 0.0\n",
      "Epoch 100/100, Loss: 0.0\n"
     ]
    }
   ],
   "source": [
    "epochs = 100\n",
    "losses = []\n",
    "\n",
    "for epoch in range(epochs):\n",
    "    epoch_losses = []\n",
    "    for i in range(len(df_resampled_train)):\n",
    "        inputs = df_resampled_train.iloc[i].values\n",
    "        targets = label_resampled_train.iloc[i].values\n",
    "\n",
    "        output = nn.query(inputs)\n",
    "        # predictions = np.array(predictions)\n",
    "\n",
    "        # Convert sigmoid output to -1 or 1\n",
    "        predicted_label = 1 if output[0] >= 0.5 else -1\n",
    "\n",
    "        nn.train(inputs, targets)\n",
    "\n",
    "        sample_loss = mean_squared_error(targets, predicted_label)\n",
    "        epoch_losses.append(sample_loss)\n",
    "\n",
    "        nn.train(inputs, targets)\n",
    "\n",
    "    epoch_loss = np.mean(epoch_losses)\n",
    "    losses.append(epoch_loss)\n",
    "\n",
    "    # Print the loss for this epoch (optional)\n",
    "    print(f\"Epoch {epoch+1}/{epochs}, Loss: {epoch_loss}\")\n",
    "\n",
    "    # # Log the weights\n",
    "    # print(f\"Weights between input and hidden layer (Mean, Std): {np.mean(nn.wih)}, {np.std(nn.wih)}\")\n",
    "    # print(f\"Weights between hidden and output layer (Mean, Std): {np.mean(nn.who)}, {np.std(nn.who)}\")\n",
    "\n"
   ]
  },
  {
   "cell_type": "code",
   "execution_count": 56,
   "metadata": {},
   "outputs": [
    {
     "data": {
      "image/png": "[encoded data removed]",
      "text/plain": [
       "<Figure size 1000x600 with 1 Axes>"
      ]
     },
     "metadata": {},
     "output_type": "display_data"
    }
   ],
   "source": [
    "import matplotlib.pyplot as plt\n",
    "\n",
    "# Plot the training loss\n",
    "plt.figure(figsize=(10, 6))\n",
    "plt.plot(range(1, epochs + 1), losses, label='Training Loss')\n",
    "plt.xlabel('Epochs')\n",
    "plt.ylabel('Loss')\n",
    "plt.title('Training Loss Over Epochs')\n",
    "plt.legend()\n",
    "plt.grid(True)\n",
    "plt.show()"
   ]
  },
  {
   "cell_type": "code",
   "execution_count": 57,
   "metadata": {},
   "outputs": [
    {
     "name": "stdout",
     "output_type": "stream",
     "text": [
      "Labels\n",
      "-1        1086\n",
      " 1        1050\n",
      "Name: count, dtype: int64\n"
     ]
    }
   ],
   "source": [
    "# print(df_resampled_train.value_counts())\n",
    "print(label_resampled_train.value_counts())"
   ]
  },
  {
   "cell_type": "code",
   "execution_count": 58,
   "metadata": {},
   "outputs": [
    {
     "data": {
      "text/plain": [
       "1"
      ]
     },
     "execution_count": 58,
     "metadata": {},
     "output_type": "execute_result"
    }
   ],
   "source": [
    "label_resampled_train.iloc[0,0]"
   ]
  },
  {
   "cell_type": "code",
   "execution_count": 59,
   "metadata": {},
   "outputs": [],
   "source": [
    "def calculate_mcc(y_true, y_pred):\n",
    "    tp = np.sum((y_true == 1) & (y_pred == 1))\n",
    "    tn = np.sum((y_true == -1) & (y_pred == -1))\n",
    "    fp = np.sum((y_true == -1) & (y_pred == 1))\n",
    "    fn = np.sum((y_true == 1) & (y_pred == -1))\n",
    "\n",
    "    numerator = (tp * tn) - (fp * fn)\n",
    "    denominator = np.sqrt((tp + fp) * (tp + fn) * (tn + fp) * (tn + fn))\n",
    "    return numerator / (denominator + np.finfo(float).eps)"
   ]
  },
  {
   "cell_type": "code",
   "execution_count": 60,
   "metadata": {},
   "outputs": [
    {
     "name": "stdout",
     "output_type": "stream",
     "text": [
      " 1    382\n",
      "-1    330\n",
      "Name: count, dtype: int64\n",
      "MCC on Validation Set: 0.9776935260471772\n"
     ]
    }
   ],
   "source": [
    "def evaluate_model(nn, X_val, y_val):\n",
    "    predictions = []\n",
    "\n",
    "    for i in range(len(X_val)):\n",
    "        inputs = X_val.iloc[i].values  # Convert DataFrame row to NumPy array\n",
    "        output = nn.query(inputs)\n",
    "        predicted_label = 1 if output[0] >= 0.5 else -1\n",
    "        predictions.append(predicted_label)\n",
    "\n",
    "    predictions = np.array(predictions)\n",
    "    print(pd.DataFrame(predictions).value_counts())\n",
    "\n",
    "    if isinstance(y_val, (pd.DataFrame, pd.Series)):\n",
    "        y_val = y_val.values.flatten()\n",
    "    mcc_score = calculate_mcc(y_val, predictions)\n",
    "    return mcc_score\n",
    "\n",
    "# Calculate MCC for the validation set\n",
    "mcc_validation = evaluate_model(nn, df_resampled_val, label_resampled_val)\n",
    "print(f\"MCC on Validation Set: {mcc_validation}\")"
   ]
  },
  {
   "cell_type": "code",
   "execution_count": 61,
   "metadata": {},
   "outputs": [
    {
     "data": {
      "text/html": [
       "<div>\n",
       "<style scoped>\n",
       "    .dataframe tbody tr th:only-of-type {\n",
       "        vertical-align: middle;\n",
       "    }\n",
       "\n",
       "    .dataframe tbody tr th {\n",
       "        vertical-align: top;\n",
       "    }\n",
       "\n",
       "    .dataframe thead th {\n",
       "        text-align: right;\n",
       "    }\n",
       "</style>\n",
       "<table border=\"1\" class=\"dataframe\">\n",
       "  <thead>\n",
       "    <tr style=\"text-align: right;\">\n",
       "      <th></th>\n",
       "      <th>0</th>\n",
       "      <th>1</th>\n",
       "      <th>2</th>\n",
       "      <th>3</th>\n",
       "      <th>4</th>\n",
       "      <th>5</th>\n",
       "      <th>6</th>\n",
       "      <th>7</th>\n",
       "      <th>8</th>\n",
       "      <th>9</th>\n",
       "      <th>...</th>\n",
       "      <th>15</th>\n",
       "      <th>16</th>\n",
       "      <th>17</th>\n",
       "      <th>18</th>\n",
       "      <th>19</th>\n",
       "      <th>20</th>\n",
       "      <th>21</th>\n",
       "      <th>22</th>\n",
       "      <th>23</th>\n",
       "      <th>24</th>\n",
       "    </tr>\n",
       "  </thead>\n",
       "  <tbody>\n",
       "    <tr>\n",
       "      <th>513</th>\n",
       "      <td>3.000000</td>\n",
       "      <td>0.0</td>\n",
       "      <td>0.000000</td>\n",
       "      <td>1.000000</td>\n",
       "      <td>4.000000</td>\n",
       "      <td>3.000000</td>\n",
       "      <td>2.000000</td>\n",
       "      <td>1.000000</td>\n",
       "      <td>0.000000</td>\n",
       "      <td>0.0</td>\n",
       "      <td>...</td>\n",
       "      <td>0.000000</td>\n",
       "      <td>0.000000</td>\n",
       "      <td>3.000000</td>\n",
       "      <td>3.000000</td>\n",
       "      <td>4.000000</td>\n",
       "      <td>0.0</td>\n",
       "      <td>1.000000</td>\n",
       "      <td>0.0</td>\n",
       "      <td>0.0</td>\n",
       "      <td>0.0</td>\n",
       "    </tr>\n",
       "    <tr>\n",
       "      <th>1362</th>\n",
       "      <td>1.000000</td>\n",
       "      <td>0.0</td>\n",
       "      <td>0.000000</td>\n",
       "      <td>1.000000</td>\n",
       "      <td>0.000000</td>\n",
       "      <td>0.000000</td>\n",
       "      <td>0.000000</td>\n",
       "      <td>0.000000</td>\n",
       "      <td>1.000000</td>\n",
       "      <td>0.0</td>\n",
       "      <td>...</td>\n",
       "      <td>1.000000</td>\n",
       "      <td>0.000000</td>\n",
       "      <td>0.000000</td>\n",
       "      <td>1.000000</td>\n",
       "      <td>0.000000</td>\n",
       "      <td>0.0</td>\n",
       "      <td>3.000000</td>\n",
       "      <td>0.0</td>\n",
       "      <td>0.0</td>\n",
       "      <td>1.0</td>\n",
       "    </tr>\n",
       "    <tr>\n",
       "      <th>1584</th>\n",
       "      <td>1.327633</td>\n",
       "      <td>0.0</td>\n",
       "      <td>0.000000</td>\n",
       "      <td>0.000000</td>\n",
       "      <td>0.000000</td>\n",
       "      <td>0.655265</td>\n",
       "      <td>1.000000</td>\n",
       "      <td>0.000000</td>\n",
       "      <td>1.344735</td>\n",
       "      <td>0.0</td>\n",
       "      <td>...</td>\n",
       "      <td>0.000000</td>\n",
       "      <td>0.000000</td>\n",
       "      <td>0.000000</td>\n",
       "      <td>1.000000</td>\n",
       "      <td>0.000000</td>\n",
       "      <td>0.0</td>\n",
       "      <td>0.000000</td>\n",
       "      <td>0.0</td>\n",
       "      <td>0.0</td>\n",
       "      <td>0.0</td>\n",
       "    </tr>\n",
       "    <tr>\n",
       "      <th>2099</th>\n",
       "      <td>0.000000</td>\n",
       "      <td>0.0</td>\n",
       "      <td>0.000000</td>\n",
       "      <td>0.000000</td>\n",
       "      <td>0.000000</td>\n",
       "      <td>0.000000</td>\n",
       "      <td>0.000000</td>\n",
       "      <td>0.000000</td>\n",
       "      <td>2.000000</td>\n",
       "      <td>0.0</td>\n",
       "      <td>...</td>\n",
       "      <td>0.000000</td>\n",
       "      <td>1.000000</td>\n",
       "      <td>3.633322</td>\n",
       "      <td>0.000000</td>\n",
       "      <td>0.000000</td>\n",
       "      <td>0.0</td>\n",
       "      <td>2.633322</td>\n",
       "      <td>2.0</td>\n",
       "      <td>0.0</td>\n",
       "      <td>0.0</td>\n",
       "    </tr>\n",
       "    <tr>\n",
       "      <th>2770</th>\n",
       "      <td>0.000000</td>\n",
       "      <td>0.0</td>\n",
       "      <td>1.254639</td>\n",
       "      <td>0.254639</td>\n",
       "      <td>0.745361</td>\n",
       "      <td>0.000000</td>\n",
       "      <td>0.745361</td>\n",
       "      <td>0.254639</td>\n",
       "      <td>0.000000</td>\n",
       "      <td>0.0</td>\n",
       "      <td>...</td>\n",
       "      <td>0.254639</td>\n",
       "      <td>0.745361</td>\n",
       "      <td>0.745361</td>\n",
       "      <td>0.254639</td>\n",
       "      <td>0.254639</td>\n",
       "      <td>0.0</td>\n",
       "      <td>0.745361</td>\n",
       "      <td>0.0</td>\n",
       "      <td>0.0</td>\n",
       "      <td>0.0</td>\n",
       "    </tr>\n",
       "  </tbody>\n",
       "</table>\n",
       "<p>5 rows × 25 columns</p>\n",
       "</div>"
      ],
      "text/plain": [
       "            0    1         2         3         4         5         6   \\\n",
       "513   3.000000  0.0  0.000000  1.000000  4.000000  3.000000  2.000000   \n",
       "1362  1.000000  0.0  0.000000  1.000000  0.000000  0.000000  0.000000   \n",
       "1584  1.327633  0.0  0.000000  0.000000  0.000000  0.655265  1.000000   \n",
       "2099  0.000000  0.0  0.000000  0.000000  0.000000  0.000000  0.000000   \n",
       "2770  0.000000  0.0  1.254639  0.254639  0.745361  0.000000  0.745361   \n",
       "\n",
       "            7         8    9   ...        15        16        17        18  \\\n",
       "513   1.000000  0.000000  0.0  ...  0.000000  0.000000  3.000000  3.000000   \n",
       "1362  0.000000  1.000000  0.0  ...  1.000000  0.000000  0.000000  1.000000   \n",
       "1584  0.000000  1.344735  0.0  ...  0.000000  0.000000  0.000000  1.000000   \n",
       "2099  0.000000  2.000000  0.0  ...  0.000000  1.000000  3.633322  0.000000   \n",
       "2770  0.254639  0.000000  0.0  ...  0.254639  0.745361  0.745361  0.254639   \n",
       "\n",
       "            19   20        21   22   23   24  \n",
       "513   4.000000  0.0  1.000000  0.0  0.0  0.0  \n",
       "1362  0.000000  0.0  3.000000  0.0  0.0  1.0  \n",
       "1584  0.000000  0.0  0.000000  0.0  0.0  0.0  \n",
       "2099  0.000000  0.0  2.633322  2.0  0.0  0.0  \n",
       "2770  0.254639  0.0  0.745361  0.0  0.0  0.0  \n",
       "\n",
       "[5 rows x 25 columns]"
      ]
     },
     "execution_count": 61,
     "metadata": {},
     "output_type": "execute_result"
    }
   ],
   "source": [
    "df_resampled_val.head()"
   ]
  },
  {
   "cell_type": "code",
   "execution_count": 62,
   "metadata": {},
   "outputs": [],
   "source": [
    "test_aa_frequencies = calculate_amino_acid_frequencies(test_data['Sequence'])\n",
    "test_freq_array = np.array(test_aa_frequencies)"
   ]
  },
  {
   "cell_type": "code",
   "execution_count": 63,
   "metadata": {},
   "outputs": [
    {
     "data": {
      "text/plain": [
       "array([[4., 0., 1., ..., 0., 0., 1.],\n",
       "       [4., 0., 0., ..., 0., 0., 1.],\n",
       "       [0., 0., 0., ..., 0., 0., 0.],\n",
       "       ...,\n",
       "       [7., 0., 1., ..., 0., 0., 0.],\n",
       "       [2., 0., 0., ..., 0., 0., 1.],\n",
       "       [4., 0., 1., ..., 0., 0., 0.]])"
      ]
     },
     "execution_count": 63,
     "metadata": {},
     "output_type": "execute_result"
    }
   ],
   "source": [
    "test_freq_array"
   ]
  },
  {
   "cell_type": "code",
   "execution_count": 64,
   "metadata": {},
   "outputs": [
    {
     "data": {
      "text/html": [
       "<div>\n",
       "<style scoped>\n",
       "    .dataframe tbody tr th:only-of-type {\n",
       "        vertical-align: middle;\n",
       "    }\n",
       "\n",
       "    .dataframe tbody tr th {\n",
       "        vertical-align: top;\n",
       "    }\n",
       "\n",
       "    .dataframe thead th {\n",
       "        text-align: right;\n",
       "    }\n",
       "</style>\n",
       "<table border=\"1\" class=\"dataframe\">\n",
       "  <thead>\n",
       "    <tr style=\"text-align: right;\">\n",
       "      <th></th>\n",
       "      <th>0</th>\n",
       "      <th>1</th>\n",
       "      <th>2</th>\n",
       "      <th>3</th>\n",
       "      <th>4</th>\n",
       "      <th>5</th>\n",
       "      <th>6</th>\n",
       "      <th>7</th>\n",
       "      <th>8</th>\n",
       "      <th>9</th>\n",
       "      <th>...</th>\n",
       "      <th>15</th>\n",
       "      <th>16</th>\n",
       "      <th>17</th>\n",
       "      <th>18</th>\n",
       "      <th>19</th>\n",
       "      <th>20</th>\n",
       "      <th>21</th>\n",
       "      <th>22</th>\n",
       "      <th>23</th>\n",
       "      <th>24</th>\n",
       "    </tr>\n",
       "  </thead>\n",
       "  <tbody>\n",
       "    <tr>\n",
       "      <th>0</th>\n",
       "      <td>4.0</td>\n",
       "      <td>0.0</td>\n",
       "      <td>1.0</td>\n",
       "      <td>1.0</td>\n",
       "      <td>3.0</td>\n",
       "      <td>1.0</td>\n",
       "      <td>1.0</td>\n",
       "      <td>1.0</td>\n",
       "      <td>1.0</td>\n",
       "      <td>0.0</td>\n",
       "      <td>...</td>\n",
       "      <td>1.0</td>\n",
       "      <td>1.0</td>\n",
       "      <td>1.0</td>\n",
       "      <td>2.0</td>\n",
       "      <td>2.0</td>\n",
       "      <td>0.0</td>\n",
       "      <td>1.0</td>\n",
       "      <td>0.0</td>\n",
       "      <td>0.0</td>\n",
       "      <td>1.0</td>\n",
       "    </tr>\n",
       "    <tr>\n",
       "      <th>1</th>\n",
       "      <td>4.0</td>\n",
       "      <td>0.0</td>\n",
       "      <td>0.0</td>\n",
       "      <td>4.0</td>\n",
       "      <td>3.0</td>\n",
       "      <td>1.0</td>\n",
       "      <td>3.0</td>\n",
       "      <td>0.0</td>\n",
       "      <td>1.0</td>\n",
       "      <td>0.0</td>\n",
       "      <td>...</td>\n",
       "      <td>2.0</td>\n",
       "      <td>1.0</td>\n",
       "      <td>2.0</td>\n",
       "      <td>1.0</td>\n",
       "      <td>3.0</td>\n",
       "      <td>0.0</td>\n",
       "      <td>1.0</td>\n",
       "      <td>0.0</td>\n",
       "      <td>0.0</td>\n",
       "      <td>1.0</td>\n",
       "    </tr>\n",
       "    <tr>\n",
       "      <th>2</th>\n",
       "      <td>0.0</td>\n",
       "      <td>0.0</td>\n",
       "      <td>0.0</td>\n",
       "      <td>1.0</td>\n",
       "      <td>1.0</td>\n",
       "      <td>1.0</td>\n",
       "      <td>0.0</td>\n",
       "      <td>0.0</td>\n",
       "      <td>2.0</td>\n",
       "      <td>0.0</td>\n",
       "      <td>...</td>\n",
       "      <td>1.0</td>\n",
       "      <td>1.0</td>\n",
       "      <td>4.0</td>\n",
       "      <td>1.0</td>\n",
       "      <td>1.0</td>\n",
       "      <td>0.0</td>\n",
       "      <td>2.0</td>\n",
       "      <td>0.0</td>\n",
       "      <td>0.0</td>\n",
       "      <td>0.0</td>\n",
       "    </tr>\n",
       "    <tr>\n",
       "      <th>3</th>\n",
       "      <td>3.0</td>\n",
       "      <td>0.0</td>\n",
       "      <td>0.0</td>\n",
       "      <td>0.0</td>\n",
       "      <td>1.0</td>\n",
       "      <td>0.0</td>\n",
       "      <td>1.0</td>\n",
       "      <td>0.0</td>\n",
       "      <td>0.0</td>\n",
       "      <td>0.0</td>\n",
       "      <td>...</td>\n",
       "      <td>1.0</td>\n",
       "      <td>1.0</td>\n",
       "      <td>2.0</td>\n",
       "      <td>1.0</td>\n",
       "      <td>0.0</td>\n",
       "      <td>0.0</td>\n",
       "      <td>1.0</td>\n",
       "      <td>1.0</td>\n",
       "      <td>0.0</td>\n",
       "      <td>1.0</td>\n",
       "    </tr>\n",
       "    <tr>\n",
       "      <th>4</th>\n",
       "      <td>4.0</td>\n",
       "      <td>0.0</td>\n",
       "      <td>0.0</td>\n",
       "      <td>1.0</td>\n",
       "      <td>2.0</td>\n",
       "      <td>2.0</td>\n",
       "      <td>2.0</td>\n",
       "      <td>0.0</td>\n",
       "      <td>1.0</td>\n",
       "      <td>0.0</td>\n",
       "      <td>...</td>\n",
       "      <td>0.0</td>\n",
       "      <td>2.0</td>\n",
       "      <td>4.0</td>\n",
       "      <td>1.0</td>\n",
       "      <td>0.0</td>\n",
       "      <td>0.0</td>\n",
       "      <td>0.0</td>\n",
       "      <td>0.0</td>\n",
       "      <td>0.0</td>\n",
       "      <td>0.0</td>\n",
       "    </tr>\n",
       "  </tbody>\n",
       "</table>\n",
       "<p>5 rows × 25 columns</p>\n",
       "</div>"
      ],
      "text/plain": [
       "    0    1    2    3    4    5    6    7    8    9   ...   15   16   17   18  \\\n",
       "0  4.0  0.0  1.0  1.0  3.0  1.0  1.0  1.0  1.0  0.0  ...  1.0  1.0  1.0  2.0   \n",
       "1  4.0  0.0  0.0  4.0  3.0  1.0  3.0  0.0  1.0  0.0  ...  2.0  1.0  2.0  1.0   \n",
       "2  0.0  0.0  0.0  1.0  1.0  1.0  0.0  0.0  2.0  0.0  ...  1.0  1.0  4.0  1.0   \n",
       "3  3.0  0.0  0.0  0.0  1.0  0.0  1.0  0.0  0.0  0.0  ...  1.0  1.0  2.0  1.0   \n",
       "4  4.0  0.0  0.0  1.0  2.0  2.0  2.0  0.0  1.0  0.0  ...  0.0  2.0  4.0  1.0   \n",
       "\n",
       "    19   20   21   22   23   24  \n",
       "0  2.0  0.0  1.0  0.0  0.0  1.0  \n",
       "1  3.0  0.0  1.0  0.0  0.0  1.0  \n",
       "2  1.0  0.0  2.0  0.0  0.0  0.0  \n",
       "3  0.0  0.0  1.0  1.0  0.0  1.0  \n",
       "4  0.0  0.0  0.0  0.0  0.0  0.0  \n",
       "\n",
       "[5 rows x 25 columns]"
      ]
     },
     "execution_count": 64,
     "metadata": {},
     "output_type": "execute_result"
    }
   ],
   "source": [
    "test_vectorized_df = pd.DataFrame(test_freq_array)\n",
    "test_vectorized_df.head()"
   ]
  },
  {
   "cell_type": "code",
   "execution_count": 65,
   "metadata": {},
   "outputs": [
    {
     "name": "stdout",
     "output_type": "stream",
     "text": [
      "<class 'numpy.ndarray'>\n"
     ]
    }
   ],
   "source": [
    "def predict_model(nn, X_test):\n",
    "    predictions = []\n",
    "\n",
    "    for i in range(len(X_test)):\n",
    "        inputs = X_test.iloc[i].values  # Convert DataFrame row to NumPy array\n",
    "        output = nn.query(inputs)\n",
    "        predicted_label = 1 if output[0] >= 0.5 else -1\n",
    "        predictions.append(predicted_label)\n",
    "\n",
    "    predictions = np.array(predictions)\n",
    "    return predictions\n",
    "\n",
    "# Calculate MCC for the validation set\n",
    "predictions = predict_model(nn, test_vectorized_df)\n",
    "print(type(predictions))"
   ]
  },
  {
   "cell_type": "code",
   "execution_count": 67,
   "metadata": {},
   "outputs": [
    {
     "data": {
      "text/plain": [
       "(392,)"
      ]
     },
     "execution_count": 67,
     "metadata": {},
     "output_type": "execute_result"
    }
   ],
   "source": [
    "np.savetxt('format_4.txt', predictions, fmt='%d')\n",
    "predictions.shape"
   ]
  },
  {
   "cell_type": "code",
   "execution_count": 94,
   "metadata": {},
   "outputs": [
    {
     "name": "stdout",
     "output_type": "stream",
     "text": [
      "['-1\\n', '-1\\n', '-1\\n', '-1\\n', '-1\\n', '-1\\n', '1\\n', '-1\\n', '-1\\n', '1\\n', '-1\\n', '1\\n', '-1\\n', '-1\\n', '-1\\n', '1\\n', '-1\\n', '-1\\n', '-1\\n', '-1\\n', '-1\\n', '-1\\n', '-1\\n', '-1\\n', '-1\\n', '1\\n', '-1\\n', '-1\\n', '-1\\n', '-1\\n', '-1\\n', '-1\\n', '-1\\n', '-1\\n', '-1\\n', '-1\\n', '-1\\n', '-1\\n', '-1\\n', '-1\\n', '-1\\n', '-1\\n', '-1\\n', '-1\\n', '-1\\n', '-1\\n', '-1\\n', '-1\\n', '-1\\n', '1\\n', '-1\\n', '-1\\n', '-1\\n', '-1\\n', '-1\\n', '-1\\n', '-1\\n', '-1\\n', '-1\\n', '-1\\n', '-1\\n', '-1\\n', '1\\n', '-1\\n', '-1\\n', '-1\\n', '-1\\n', '-1\\n', '-1\\n', '-1\\n', '1\\n', '-1\\n', '-1\\n', '-1\\n', '-1\\n', '-1\\n', '-1\\n', '-1\\n', '-1\\n', '-1\\n', '1\\n', '-1\\n', '-1\\n', '-1\\n', '-1\\n', '-1\\n', '1\\n', '-1\\n', '-1\\n', '-1\\n', '-1\\n', '-1\\n', '-1\\n', '-1\\n', '-1\\n', '-1\\n', '-1\\n', '-1\\n', '-1\\n', '-1\\n', '-1\\n', '-1\\n', '-1\\n', '-1\\n', '-1\\n', '-1\\n', '-1\\n', '1\\n', '-1\\n', '-1\\n', '-1\\n', '-1\\n', '-1\\n', '-1\\n', '-1\\n', '-1\\n', '-1\\n', '-1\\n', '-1\\n', '-1\\n', '-1\\n', '-1\\n', '-1\\n', '-1\\n', '-1\\n', '-1\\n', '-1\\n', '-1\\n', '-1\\n', '1\\n', '-1\\n', '-1\\n', '-1\\n', '-1\\n', '-1\\n', '-1\\n', '-1\\n', '-1\\n', '-1\\n', '-1\\n', '-1\\n', '-1\\n', '-1\\n', '-1\\n', '-1\\n', '-1\\n', '-1\\n', '-1\\n', '-1\\n', '-1\\n', '-1\\n', '-1\\n', '-1\\n', '-1\\n', '-1\\n', '-1\\n', '-1\\n', '-1\\n', '-1\\n', '-1\\n', '-1\\n', '-1\\n', '-1\\n', '-1\\n', '-1\\n', '1\\n', '-1\\n', '-1\\n', '-1\\n', '-1\\n', '-1\\n', '-1\\n', '-1\\n', '-1\\n', '-1\\n', '-1\\n', '1\\n', '-1\\n', '-1\\n', '-1\\n', '-1\\n', '-1\\n', '-1\\n', '-1\\n', '-1\\n', '-1\\n', '-1\\n', '-1\\n', '-1\\n', '-1\\n', '-1\\n', '-1\\n', '1\\n', '-1\\n', '-1\\n', '-1\\n', '1\\n', '-1\\n', '1\\n', '-1\\n', '-1\\n', '-1\\n', '-1\\n', '-1\\n', '-1\\n', '1\\n', '-1\\n', '1\\n', '-1\\n', '-1\\n', '1\\n', '-1\\n', '1\\n', '-1\\n', '-1\\n', '-1\\n', '-1\\n', '-1\\n', '-1\\n', '-1\\n', '-1\\n', '-1\\n', '-1\\n', '-1\\n', '-1\\n', '-1\\n', '-1\\n', '-1\\n', '-1\\n', '-1\\n', '-1\\n', '-1\\n', '-1\\n', '1\\n', '-1\\n', '-1\\n', '-1\\n', '-1\\n', '-1\\n', '-1\\n', '-1\\n', '-1\\n', '-1\\n', '-1\\n', '-1\\n', '-1\\n', '-1\\n', '-1\\n', '-1\\n', '-1\\n', '-1\\n', '-1\\n', '-1\\n', '-1\\n', '1\\n', '-1\\n', '-1\\n', '-1\\n', '-1\\n', '1\\n', '-1\\n', '-1\\n', '-1\\n', '-1\\n', '-1\\n', '-1\\n', '-1\\n', '-1\\n', '-1\\n', '-1\\n', '-1\\n', '-1\\n', '-1\\n', '1\\n', '1\\n', '-1\\n', '-1\\n', '-1\\n', '-1\\n', '-1\\n', '-1\\n', '-1\\n', '-1\\n', '-1\\n', '-1\\n', '-1\\n', '1\\n', '-1\\n', '-1\\n', '-1\\n', '-1\\n', '-1\\n', '-1\\n', '-1\\n', '-1\\n', '-1\\n', '-1\\n', '-1\\n', '-1\\n', '-1\\n', '-1\\n', '-1\\n', '-1\\n', '-1\\n', '-1\\n', '-1\\n', '-1\\n', '-1\\n', '-1\\n', '-1\\n', '-1\\n', '-1\\n', '-1\\n', '-1\\n', '-1\\n', '-1\\n', '-1\\n', '-1\\n', '-1\\n', '1\\n', '-1\\n', '-1\\n', '-1\\n', '-1\\n', '-1\\n', '-1\\n', '-1\\n', '-1\\n', '-1\\n', '-1\\n', '-1\\n', '-1\\n', '-1\\n', '-1\\n', '-1\\n', '1\\n', '-1\\n', '1\\n', '1\\n', '-1\\n', '-1\\n', '-1\\n', '1\\n', '-1\\n', '-1\\n', '-1\\n', '-1\\n', '-1\\n', '-1\\n', '-1\\n', '-1\\n', '-1\\n', '-1\\n', '-1\\n', '-1\\n', '-1\\n', '-1\\n', '-1\\n', '-1\\n', '-1\\n', '-1\\n', '-1\\n', '-1\\n', '-1\\n', '-1\\n', '-1\\n', '-1\\n', '-1\\n', '-1\\n', '-1\\n', '-1\\n', '-1\\n', '-1\\n', '-1\\n', '-1\\n', '-1\\n', '-1\\n', '-1\\n', '-1\\n', '-1\\n', '-1\\n', '-1\\n', '-1\\n', '-1\\n', '-1\\n', '-1\\n', '-1\\n', '-1\\n', '-1\\n', '-1\\n', '-1\\n', '-1\\n']\n"
     ]
    }
   ],
   "source": [
    "file = open(\"Sadwi/W1651395/format.txt\", \"r\")\n",
    "content=file.readlines()\n",
    "print(content)\n",
    "file.close()"
   ]
  },
  {
   "cell_type": "code",
   "execution_count": 95,
   "metadata": {},
   "outputs": [
    {
     "data": {
      "text/plain": [
       "(391, 1)"
      ]
     },
     "execution_count": 95,
     "metadata": {},
     "output_type": "execute_result"
    }
   ],
   "source": [
    "result = pd.read_csv('Sadwi/W1651395/format.txt')\n",
    "result.shape"
   ]
  },
  {
   "cell_type": "code",
   "execution_count": 97,
   "metadata": {},
   "outputs": [],
   "source": [
    "results = result.values.ravel()\n",
    "np.savetxt('result.dat', results, delimiter='\\t', fmt='%d')"
   ]
  },
  {
   "cell_type": "code",
   "execution_count": null,
   "metadata": {},
   "outputs": [],
   "source": []
  }
 ],
 "metadata": {
  "kernelspec": {
   "display_name": "dl_a",
   "language": "python",
   "name": "python3"
  },
  "language_info": {
   "codemirror_mode": {
    "name": "ipython",
    "version": 3
   },
   "file_extension": ".py",
   "mimetype": "text/x-python",
   "name": "python",
   "nbconvert_exporter": "python",
   "pygments_lexer": "ipython3",
   "version": "3.11.7"
  }
 },
 "nbformat": 4,
 "nbformat_minor": 2
}

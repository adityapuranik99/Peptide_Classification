{
 "cells": [
  {
   "cell_type": "code",
   "execution_count": 1,
   "metadata": {},
   "outputs": [],
   "source": [
    "import pandas as pd\n",
    "import numpy as np\n",
    "import matplotlib.pyplot as plt\n",
    "import traceback as tb"
   ]
  },
  {
   "cell_type": "code",
   "execution_count": 2,
   "metadata": {},
   "outputs": [],
   "source": [
    "df = pd.read_csv('train.dat', delimiter='\\t', header=None)"
   ]
  },
  {
   "cell_type": "code",
   "execution_count": 3,
   "metadata": {},
   "outputs": [
    {
     "data": {
      "text/html": [
       "<div>\n",
       "<style scoped>\n",
       "    .dataframe tbody tr th:only-of-type {\n",
       "        vertical-align: middle;\n",
       "    }\n",
       "\n",
       "    .dataframe tbody tr th {\n",
       "        vertical-align: top;\n",
       "    }\n",
       "\n",
       "    .dataframe thead th {\n",
       "        text-align: right;\n",
       "    }\n",
       "</style>\n",
       "<table border=\"1\" class=\"dataframe\">\n",
       "  <thead>\n",
       "    <tr style=\"text-align: right;\">\n",
       "      <th></th>\n",
       "      <th>0</th>\n",
       "      <th>1</th>\n",
       "    </tr>\n",
       "  </thead>\n",
       "  <tbody>\n",
       "    <tr>\n",
       "      <th>0</th>\n",
       "      <td>-1</td>\n",
       "      <td>DVELDLVEISPNALP</td>\n",
       "    </tr>\n",
       "    <tr>\n",
       "      <th>1</th>\n",
       "      <td>-1</td>\n",
       "      <td>KADEELFNKLFFGT</td>\n",
       "    </tr>\n",
       "    <tr>\n",
       "      <th>2</th>\n",
       "      <td>-1</td>\n",
       "      <td>FLVALHLGTAFALLWYFRKRWCALVRGFFASFGGRRNDDAHMM</td>\n",
       "    </tr>\n",
       "    <tr>\n",
       "      <th>3</th>\n",
       "      <td>-1</td>\n",
       "      <td>RDQMRARIADITGVAISRIA</td>\n",
       "    </tr>\n",
       "    <tr>\n",
       "      <th>4</th>\n",
       "      <td>-1</td>\n",
       "      <td>RKRLQLLLL</td>\n",
       "    </tr>\n",
       "  </tbody>\n",
       "</table>\n",
       "</div>"
      ],
      "text/plain": [
       "   0                                            1\n",
       "0 -1                              DVELDLVEISPNALP\n",
       "1 -1                               KADEELFNKLFFGT\n",
       "2 -1  FLVALHLGTAFALLWYFRKRWCALVRGFFASFGGRRNDDAHMM\n",
       "3 -1                         RDQMRARIADITGVAISRIA\n",
       "4 -1                                    RKRLQLLLL"
      ]
     },
     "execution_count": 3,
     "metadata": {},
     "output_type": "execute_result"
    }
   ],
   "source": [
    "df.head()"
   ]
  },
  {
   "cell_type": "code",
   "execution_count": 4,
   "metadata": {},
   "outputs": [],
   "source": [
    "df_results = df[0]"
   ]
  },
  {
   "cell_type": "code",
   "execution_count": 5,
   "metadata": {},
   "outputs": [],
   "source": [
    "df_results.columns = ['Labels']"
   ]
  },
  {
   "cell_type": "code",
   "execution_count": 6,
   "metadata": {},
   "outputs": [
    {
     "data": {
      "text/plain": [
       "0      -1\n",
       "1      -1\n",
       "2      -1\n",
       "3      -1\n",
       "4      -1\n",
       "       ..\n",
       "1561   -1\n",
       "1562    1\n",
       "1563    1\n",
       "1564   -1\n",
       "1565   -1\n",
       "Name: 0, Length: 1566, dtype: int64"
      ]
     },
     "execution_count": 6,
     "metadata": {},
     "output_type": "execute_result"
    }
   ],
   "source": [
    "df_results"
   ]
  },
  {
   "cell_type": "code",
   "execution_count": 7,
   "metadata": {},
   "outputs": [],
   "source": [
    "df_seq = df[[1]]"
   ]
  },
  {
   "cell_type": "code",
   "execution_count": 8,
   "metadata": {},
   "outputs": [],
   "source": [
    "df_seq.columns = ['Sequence']"
   ]
  },
  {
   "cell_type": "code",
   "execution_count": 9,
   "metadata": {},
   "outputs": [
    {
     "data": {
      "text/html": [
       "<div>\n",
       "<style scoped>\n",
       "    .dataframe tbody tr th:only-of-type {\n",
       "        vertical-align: middle;\n",
       "    }\n",
       "\n",
       "    .dataframe tbody tr th {\n",
       "        vertical-align: top;\n",
       "    }\n",
       "\n",
       "    .dataframe thead th {\n",
       "        text-align: right;\n",
       "    }\n",
       "</style>\n",
       "<table border=\"1\" class=\"dataframe\">\n",
       "  <thead>\n",
       "    <tr style=\"text-align: right;\">\n",
       "      <th></th>\n",
       "      <th>Sequence</th>\n",
       "    </tr>\n",
       "  </thead>\n",
       "  <tbody>\n",
       "    <tr>\n",
       "      <th>0</th>\n",
       "      <td>DVELDLVEISPNALP</td>\n",
       "    </tr>\n",
       "    <tr>\n",
       "      <th>1</th>\n",
       "      <td>KADEELFNKLFFGT</td>\n",
       "    </tr>\n",
       "    <tr>\n",
       "      <th>2</th>\n",
       "      <td>FLVALHLGTAFALLWYFRKRWCALVRGFFASFGGRRNDDAHMM</td>\n",
       "    </tr>\n",
       "    <tr>\n",
       "      <th>3</th>\n",
       "      <td>RDQMRARIADITGVAISRIA</td>\n",
       "    </tr>\n",
       "    <tr>\n",
       "      <th>4</th>\n",
       "      <td>RKRLQLLLL</td>\n",
       "    </tr>\n",
       "  </tbody>\n",
       "</table>\n",
       "</div>"
      ],
      "text/plain": [
       "                                      Sequence\n",
       "0                              DVELDLVEISPNALP\n",
       "1                               KADEELFNKLFFGT\n",
       "2  FLVALHLGTAFALLWYFRKRWCALVRGFFASFGGRRNDDAHMM\n",
       "3                         RDQMRARIADITGVAISRIA\n",
       "4                                    RKRLQLLLL"
      ]
     },
     "execution_count": 9,
     "metadata": {},
     "output_type": "execute_result"
    }
   ],
   "source": [
    "df_seq.head()"
   ]
  },
  {
   "cell_type": "code",
   "execution_count": 10,
   "metadata": {},
   "outputs": [],
   "source": [
    "def dna_k_mers_generation(dna_sequence, k_mers_length):\n",
    "    k_mers_list = []\n",
    "    try:\n",
    "        for i in range(len(dna_sequence) - k_mers_length + 1):\n",
    "            k_mer_substring = dna_sequence[i : i + k_mers_length]\n",
    "            k_mers_list.append(k_mer_substring)\n",
    "    except Exception as e:\n",
    "        tb.print_exc()\n",
    "    return k_mers_list"
   ]
  },
  {
   "cell_type": "code",
   "execution_count": 11,
   "metadata": {},
   "outputs": [],
   "source": [
    "# Assuming you have a function to load and preprocess your test dataset\n",
    "# and your trained neural network 'nn' is available\n",
    "\n",
    "# Load your test dataset\n",
    "test_data = pd.read_csv('test.dat', delimiter='\\t', header=None)\n",
    "test_data.columns = ['Sequence']\n"
   ]
  },
  {
   "cell_type": "code",
   "execution_count": 12,
   "metadata": {},
   "outputs": [
    {
     "data": {
      "text/plain": [
       "(1566, 1)"
      ]
     },
     "execution_count": 12,
     "metadata": {},
     "output_type": "execute_result"
    }
   ],
   "source": [
    "df_seq.head()\n",
    "df_seq.shape"
   ]
  },
  {
   "cell_type": "code",
   "execution_count": 13,
   "metadata": {},
   "outputs": [
    {
     "data": {
      "text/plain": [
       "(392, 1)"
      ]
     },
     "execution_count": 13,
     "metadata": {},
     "output_type": "execute_result"
    }
   ],
   "source": [
    "test_data.shape"
   ]
  },
  {
   "cell_type": "code",
   "execution_count": 14,
   "metadata": {},
   "outputs": [],
   "source": [
    "def calculate_amino_acid_frequencies(sequences):\n",
    "    amino_acids = 'ABCDEFGHIJKLMNOPQRSTUVWYZ'\n",
    "    frequencies = np.zeros((len(sequences), len(amino_acids)))\n",
    "\n",
    "    for i, sequence in enumerate(sequences):\n",
    "        for aa in sequence:\n",
    "            if aa in amino_acids:\n",
    "                aa_index = amino_acids.index(aa)\n",
    "                frequencies[i, aa_index] += 1\n",
    "\n",
    "    return frequencies\n",
    "\n",
    "# Example usage:\n",
    "train_sequences = df_seq  # Replace with your actual training sequences\n",
    "train_aa_frequencies = calculate_amino_acid_frequencies(train_sequences['Sequence'])\n",
    "\n",
    "# Convert the frequencies to a numpy array or another suitable format for further processing\n",
    "import numpy as np\n",
    "train_freq_array = np.array(train_aa_frequencies)"
   ]
  },
  {
   "cell_type": "code",
   "execution_count": 15,
   "metadata": {},
   "outputs": [
    {
     "data": {
      "text/plain": [
       "(1566, 25)"
      ]
     },
     "execution_count": 15,
     "metadata": {},
     "output_type": "execute_result"
    }
   ],
   "source": [
    "train_freq_array.shape"
   ]
  },
  {
   "cell_type": "code",
   "execution_count": 16,
   "metadata": {},
   "outputs": [],
   "source": [
    "# from sklearn.feature_extraction.text import CountVectorizer\n",
    "\n",
    "# # Combine training and testing sequences\n",
    "# combined_sequences = pd.concat([df_seq, test_data], axis=0)\n",
    "# combined_sequences.shape\n",
    "\n",
    "# # Initialize CountVectorizer for k-mer features\n",
    "# vectorizer = CountVectorizer(analyzer='char', ngram_range=(1, 1))\n",
    "\n",
    "# # Apply CountVectorizer to the combined sequences\n",
    "# vectorized_data = vectorizer.fit_transform(combined_sequences['Sequence']).toarray()\n",
    "\n",
    "# # Split the vectorized data back into training and testing sets\n",
    "# train_vectorized = vectorized_data[:len(df_seq)]\n",
    "# test_vectorized = vectorized_data[len(df_seq):]\n",
    "\n",
    "# # Verify the shapes of the vectorized datasets\n",
    "# train_vectorized.shape, test_vectorized.shape\n"
   ]
  },
  {
   "cell_type": "code",
   "execution_count": 17,
   "metadata": {},
   "outputs": [],
   "source": [
    "# from sklearn.feature_extraction.text import CountVectorizer\n",
    "\n",
    "# vectorizer = CountVectorizer(analyzer='char', ngram_range=(1, 3))\n",
    "# X = vectorizer.fit_transform(df_seq['Sequence']).toarray()\n",
    "X = train_freq_array"
   ]
  },
  {
   "cell_type": "code",
   "execution_count": 18,
   "metadata": {},
   "outputs": [
    {
     "data": {
      "text/plain": [
       "(1566, 25)"
      ]
     },
     "execution_count": 18,
     "metadata": {},
     "output_type": "execute_result"
    }
   ],
   "source": [
    "X.shape"
   ]
  },
  {
   "cell_type": "code",
   "execution_count": 19,
   "metadata": {},
   "outputs": [],
   "source": [
    "# k_mers_list = []# Range of k-mer lengths (e.g., 2 to 5)\n",
    "# for k in range(2, 6):\n",
    "#     df_seq[f'kmers_{k}'] = df_seq['Sequence'].apply(lambda x: dna_k_mers_generation(x, k))"
   ]
  },
  {
   "cell_type": "code",
   "execution_count": 20,
   "metadata": {},
   "outputs": [
    {
     "data": {
      "text/plain": [
       "(1566,)"
      ]
     },
     "execution_count": 20,
     "metadata": {},
     "output_type": "execute_result"
    }
   ],
   "source": [
    "df_results.shape"
   ]
  },
  {
   "cell_type": "code",
   "execution_count": 21,
   "metadata": {},
   "outputs": [],
   "source": [
    "from imblearn.over_sampling import SMOTE\n",
    "\n",
    "y = df_results\n",
    "\n",
    "smote = SMOTE()\n",
    "X_resampled, y_resampled = smote.fit_resample(X, y)"
   ]
  },
  {
   "cell_type": "code",
   "execution_count": 22,
   "metadata": {},
   "outputs": [],
   "source": [
    "# Check the balance of the classes\n",
    "# print(pd.Series(y_resampled).value_counts()).to_clipboard()"
   ]
  },
  {
   "cell_type": "code",
   "execution_count": 23,
   "metadata": {},
   "outputs": [
    {
     "data": {
      "text/plain": [
       "0   -1\n",
       "1   -1\n",
       "2   -1\n",
       "3   -1\n",
       "4   -1\n",
       "Name: 0, dtype: int64"
      ]
     },
     "execution_count": 23,
     "metadata": {},
     "output_type": "execute_result"
    }
   ],
   "source": [
    "df_results.head()"
   ]
  },
  {
   "cell_type": "code",
   "execution_count": 24,
   "metadata": {},
   "outputs": [
    {
     "data": {
      "text/plain": [
       "0\n",
       "-1    1424\n",
       " 1     142\n",
       "Name: count, dtype: int64"
      ]
     },
     "execution_count": 24,
     "metadata": {},
     "output_type": "execute_result"
    }
   ],
   "source": [
    "df_results.value_counts()"
   ]
  },
  {
   "cell_type": "code",
   "execution_count": 25,
   "metadata": {},
   "outputs": [],
   "source": [
    "df_resampled = pd.DataFrame(X_resampled)\n",
    "# df_resampled.to_clipboard(index=False)"
   ]
  },
  {
   "cell_type": "code",
   "execution_count": 26,
   "metadata": {},
   "outputs": [
    {
     "data": {
      "text/html": [
       "<div>\n",
       "<style scoped>\n",
       "    .dataframe tbody tr th:only-of-type {\n",
       "        vertical-align: middle;\n",
       "    }\n",
       "\n",
       "    .dataframe tbody tr th {\n",
       "        vertical-align: top;\n",
       "    }\n",
       "\n",
       "    .dataframe thead th {\n",
       "        text-align: right;\n",
       "    }\n",
       "</style>\n",
       "<table border=\"1\" class=\"dataframe\">\n",
       "  <thead>\n",
       "    <tr style=\"text-align: right;\">\n",
       "      <th></th>\n",
       "      <th>0</th>\n",
       "      <th>1</th>\n",
       "      <th>2</th>\n",
       "      <th>3</th>\n",
       "      <th>4</th>\n",
       "      <th>5</th>\n",
       "      <th>6</th>\n",
       "      <th>7</th>\n",
       "      <th>8</th>\n",
       "      <th>9</th>\n",
       "      <th>...</th>\n",
       "      <th>15</th>\n",
       "      <th>16</th>\n",
       "      <th>17</th>\n",
       "      <th>18</th>\n",
       "      <th>19</th>\n",
       "      <th>20</th>\n",
       "      <th>21</th>\n",
       "      <th>22</th>\n",
       "      <th>23</th>\n",
       "      <th>24</th>\n",
       "    </tr>\n",
       "  </thead>\n",
       "  <tbody>\n",
       "    <tr>\n",
       "      <th>0</th>\n",
       "      <td>1.0</td>\n",
       "      <td>0.0</td>\n",
       "      <td>0.0</td>\n",
       "      <td>2.0</td>\n",
       "      <td>2.0</td>\n",
       "      <td>0.0</td>\n",
       "      <td>0.0</td>\n",
       "      <td>0.0</td>\n",
       "      <td>1.0</td>\n",
       "      <td>0.0</td>\n",
       "      <td>...</td>\n",
       "      <td>2.0</td>\n",
       "      <td>0.0</td>\n",
       "      <td>0.0</td>\n",
       "      <td>1.0</td>\n",
       "      <td>0.0</td>\n",
       "      <td>0.0</td>\n",
       "      <td>2.0</td>\n",
       "      <td>0.0</td>\n",
       "      <td>0.0</td>\n",
       "      <td>0.0</td>\n",
       "    </tr>\n",
       "    <tr>\n",
       "      <th>1</th>\n",
       "      <td>1.0</td>\n",
       "      <td>0.0</td>\n",
       "      <td>0.0</td>\n",
       "      <td>1.0</td>\n",
       "      <td>2.0</td>\n",
       "      <td>3.0</td>\n",
       "      <td>1.0</td>\n",
       "      <td>0.0</td>\n",
       "      <td>0.0</td>\n",
       "      <td>0.0</td>\n",
       "      <td>...</td>\n",
       "      <td>0.0</td>\n",
       "      <td>0.0</td>\n",
       "      <td>0.0</td>\n",
       "      <td>0.0</td>\n",
       "      <td>1.0</td>\n",
       "      <td>0.0</td>\n",
       "      <td>0.0</td>\n",
       "      <td>0.0</td>\n",
       "      <td>0.0</td>\n",
       "      <td>0.0</td>\n",
       "    </tr>\n",
       "    <tr>\n",
       "      <th>2</th>\n",
       "      <td>6.0</td>\n",
       "      <td>0.0</td>\n",
       "      <td>1.0</td>\n",
       "      <td>2.0</td>\n",
       "      <td>0.0</td>\n",
       "      <td>6.0</td>\n",
       "      <td>4.0</td>\n",
       "      <td>2.0</td>\n",
       "      <td>0.0</td>\n",
       "      <td>0.0</td>\n",
       "      <td>...</td>\n",
       "      <td>0.0</td>\n",
       "      <td>0.0</td>\n",
       "      <td>5.0</td>\n",
       "      <td>1.0</td>\n",
       "      <td>1.0</td>\n",
       "      <td>0.0</td>\n",
       "      <td>2.0</td>\n",
       "      <td>2.0</td>\n",
       "      <td>1.0</td>\n",
       "      <td>0.0</td>\n",
       "    </tr>\n",
       "    <tr>\n",
       "      <th>3</th>\n",
       "      <td>4.0</td>\n",
       "      <td>0.0</td>\n",
       "      <td>0.0</td>\n",
       "      <td>2.0</td>\n",
       "      <td>0.0</td>\n",
       "      <td>0.0</td>\n",
       "      <td>1.0</td>\n",
       "      <td>0.0</td>\n",
       "      <td>4.0</td>\n",
       "      <td>0.0</td>\n",
       "      <td>...</td>\n",
       "      <td>0.0</td>\n",
       "      <td>1.0</td>\n",
       "      <td>4.0</td>\n",
       "      <td>1.0</td>\n",
       "      <td>1.0</td>\n",
       "      <td>0.0</td>\n",
       "      <td>1.0</td>\n",
       "      <td>0.0</td>\n",
       "      <td>0.0</td>\n",
       "      <td>0.0</td>\n",
       "    </tr>\n",
       "    <tr>\n",
       "      <th>4</th>\n",
       "      <td>0.0</td>\n",
       "      <td>0.0</td>\n",
       "      <td>0.0</td>\n",
       "      <td>0.0</td>\n",
       "      <td>0.0</td>\n",
       "      <td>0.0</td>\n",
       "      <td>0.0</td>\n",
       "      <td>0.0</td>\n",
       "      <td>0.0</td>\n",
       "      <td>0.0</td>\n",
       "      <td>...</td>\n",
       "      <td>0.0</td>\n",
       "      <td>1.0</td>\n",
       "      <td>2.0</td>\n",
       "      <td>0.0</td>\n",
       "      <td>0.0</td>\n",
       "      <td>0.0</td>\n",
       "      <td>0.0</td>\n",
       "      <td>0.0</td>\n",
       "      <td>0.0</td>\n",
       "      <td>0.0</td>\n",
       "    </tr>\n",
       "  </tbody>\n",
       "</table>\n",
       "<p>5 rows × 25 columns</p>\n",
       "</div>"
      ],
      "text/plain": [
       "    0    1    2    3    4    5    6    7    8    9   ...   15   16   17   18  \\\n",
       "0  1.0  0.0  0.0  2.0  2.0  0.0  0.0  0.0  1.0  0.0  ...  2.0  0.0  0.0  1.0   \n",
       "1  1.0  0.0  0.0  1.0  2.0  3.0  1.0  0.0  0.0  0.0  ...  0.0  0.0  0.0  0.0   \n",
       "2  6.0  0.0  1.0  2.0  0.0  6.0  4.0  2.0  0.0  0.0  ...  0.0  0.0  5.0  1.0   \n",
       "3  4.0  0.0  0.0  2.0  0.0  0.0  1.0  0.0  4.0  0.0  ...  0.0  1.0  4.0  1.0   \n",
       "4  0.0  0.0  0.0  0.0  0.0  0.0  0.0  0.0  0.0  0.0  ...  0.0  1.0  2.0  0.0   \n",
       "\n",
       "    19   20   21   22   23   24  \n",
       "0  0.0  0.0  2.0  0.0  0.0  0.0  \n",
       "1  1.0  0.0  0.0  0.0  0.0  0.0  \n",
       "2  1.0  0.0  2.0  2.0  1.0  0.0  \n",
       "3  1.0  0.0  1.0  0.0  0.0  0.0  \n",
       "4  0.0  0.0  0.0  0.0  0.0  0.0  \n",
       "\n",
       "[5 rows x 25 columns]"
      ]
     },
     "execution_count": 26,
     "metadata": {},
     "output_type": "execute_result"
    }
   ],
   "source": [
    "df_resampled.head()"
   ]
  },
  {
   "cell_type": "code",
   "execution_count": 27,
   "metadata": {},
   "outputs": [],
   "source": [
    "# df_resampled.to_clipboard()"
   ]
  },
  {
   "cell_type": "code",
   "execution_count": 28,
   "metadata": {},
   "outputs": [],
   "source": [
    "df_resampled.to_csv('features_resampled_dict_count.csv')\n",
    "features_resampled = pd.DataFrame(y_resampled)\n",
    "features_resampled.to_csv('labels_resampled_dict_count.csv')"
   ]
  },
  {
   "cell_type": "code",
   "execution_count": 29,
   "metadata": {},
   "outputs": [
    {
     "data": {
      "text/plain": [
       "(2848, 25)"
      ]
     },
     "execution_count": 29,
     "metadata": {},
     "output_type": "execute_result"
    }
   ],
   "source": [
    "df_resampled.shape"
   ]
  },
  {
   "cell_type": "code",
   "execution_count": 30,
   "metadata": {},
   "outputs": [
    {
     "data": {
      "text/plain": [
       "(2848,)"
      ]
     },
     "execution_count": 30,
     "metadata": {},
     "output_type": "execute_result"
    }
   ],
   "source": [
    "y_resampled.shape"
   ]
  },
  {
   "cell_type": "code",
   "execution_count": 31,
   "metadata": {},
   "outputs": [],
   "source": [
    "features_resampled.columns = ['Labels']"
   ]
  },
  {
   "cell_type": "code",
   "execution_count": 32,
   "metadata": {},
   "outputs": [
    {
     "data": {
      "text/plain": [
       "(2848, 26)"
      ]
     },
     "execution_count": 32,
     "metadata": {},
     "output_type": "execute_result"
    }
   ],
   "source": [
    "## Validation test creation\n",
    "combined_df_resampled = pd.concat([df_resampled, features_resampled], axis= 1)\n",
    "combined_df_resampled.shape"
   ]
  },
  {
   "cell_type": "code",
   "execution_count": 33,
   "metadata": {},
   "outputs": [],
   "source": [
    "from sklearn.model_selection import train_test_split\n",
    "\n",
    "df_resampled_train, df_resampled_val, label_resampled_train, label_resampled_val = train_test_split(df_resampled, features_resampled, test_size= 0.3, random_state=42)"
   ]
  },
  {
   "cell_type": "code",
   "execution_count": 34,
   "metadata": {},
   "outputs": [
    {
     "name": "stdout",
     "output_type": "stream",
     "text": [
      "(1993, 25)\n",
      "(855, 25)\n",
      "(1993, 1)\n",
      "(855, 1)\n"
     ]
    }
   ],
   "source": [
    "print(df_resampled_train.shape)\n",
    "print(df_resampled_val.shape)\n",
    "print(label_resampled_train.shape)\n",
    "print(label_resampled_val.shape)"
   ]
  },
  {
   "cell_type": "code",
   "execution_count": 35,
   "metadata": {},
   "outputs": [
    {
     "data": {
      "text/html": [
       "<div>\n",
       "<style scoped>\n",
       "    .dataframe tbody tr th:only-of-type {\n",
       "        vertical-align: middle;\n",
       "    }\n",
       "\n",
       "    .dataframe tbody tr th {\n",
       "        vertical-align: top;\n",
       "    }\n",
       "\n",
       "    .dataframe thead th {\n",
       "        text-align: right;\n",
       "    }\n",
       "</style>\n",
       "<table border=\"1\" class=\"dataframe\">\n",
       "  <thead>\n",
       "    <tr style=\"text-align: right;\">\n",
       "      <th></th>\n",
       "      <th>Labels</th>\n",
       "    </tr>\n",
       "  </thead>\n",
       "  <tbody>\n",
       "    <tr>\n",
       "      <th>1650</th>\n",
       "      <td>1</td>\n",
       "    </tr>\n",
       "    <tr>\n",
       "      <th>1398</th>\n",
       "      <td>-1</td>\n",
       "    </tr>\n",
       "    <tr>\n",
       "      <th>1972</th>\n",
       "      <td>1</td>\n",
       "    </tr>\n",
       "    <tr>\n",
       "      <th>1725</th>\n",
       "      <td>1</td>\n",
       "    </tr>\n",
       "    <tr>\n",
       "      <th>1128</th>\n",
       "      <td>-1</td>\n",
       "    </tr>\n",
       "    <tr>\n",
       "      <th>...</th>\n",
       "      <td>...</td>\n",
       "    </tr>\n",
       "    <tr>\n",
       "      <th>1638</th>\n",
       "      <td>1</td>\n",
       "    </tr>\n",
       "    <tr>\n",
       "      <th>1095</th>\n",
       "      <td>-1</td>\n",
       "    </tr>\n",
       "    <tr>\n",
       "      <th>1130</th>\n",
       "      <td>-1</td>\n",
       "    </tr>\n",
       "    <tr>\n",
       "      <th>1294</th>\n",
       "      <td>-1</td>\n",
       "    </tr>\n",
       "    <tr>\n",
       "      <th>860</th>\n",
       "      <td>-1</td>\n",
       "    </tr>\n",
       "  </tbody>\n",
       "</table>\n",
       "<p>1993 rows × 1 columns</p>\n",
       "</div>"
      ],
      "text/plain": [
       "      Labels\n",
       "1650       1\n",
       "1398      -1\n",
       "1972       1\n",
       "1725       1\n",
       "1128      -1\n",
       "...      ...\n",
       "1638       1\n",
       "1095      -1\n",
       "1130      -1\n",
       "1294      -1\n",
       "860       -1\n",
       "\n",
       "[1993 rows x 1 columns]"
      ]
     },
     "execution_count": 35,
     "metadata": {},
     "output_type": "execute_result"
    }
   ],
   "source": [
    "label_resampled_train"
   ]
  },
  {
   "cell_type": "code",
   "execution_count": 36,
   "metadata": {},
   "outputs": [
    {
     "name": "stdout",
     "output_type": "stream",
     "text": [
      "[[-5.34357491e-02 -3.37798038e-02  1.38593633e-01 -1.59827699e-01\n",
      "   6.18686110e-01  6.18330202e-01 -1.87145382e-01  2.75115512e-01\n",
      "  -3.94539387e-01  2.85033445e-01 -3.90685199e-01 -7.95946893e-02\n",
      "   3.28359924e-01 -2.18835969e-02 -3.16327125e-01  1.34503595e-01\n",
      "   9.06522060e-02  5.01239384e-01  2.68475284e-01  5.87483983e-02\n",
      "  -2.31333055e-01 -2.42628742e-01  2.66508173e-01 -1.72520470e-01\n",
      "   2.21498380e-02]\n",
      " [-9.87078536e-02  1.56078379e-01 -2.31823856e-01 -7.35274188e-02\n",
      "   4.60262591e-02  4.04456759e-01 -3.30584716e-02 -5.16925439e-01\n",
      "  -3.60372225e-02  4.48691360e-01  3.25096608e-01 -5.36345454e-01\n",
      "  -4.06064358e-02 -1.32419843e-01 -4.33774195e-01  5.23893987e-01\n",
      "   5.34190195e-01 -2.54942297e-01  4.06231629e-02 -1.29059224e-02\n",
      "  -2.30278160e-03 -5.21669222e-01  4.49982134e-01 -9.11383359e-02\n",
      "  -1.21806756e-01]\n",
      " [ 2.63845206e-01 -3.17841847e-01 -3.60080319e-01 -2.20922395e-01\n",
      "   2.00091178e-01 -2.13681996e-01  2.04687954e-01 -3.64289539e-01\n",
      "   3.06440259e-01 -6.11021269e-02  3.03755202e-02 -1.77085305e-01\n",
      "   1.84084301e-01  2.36902565e-01  3.94446316e-01 -2.87127737e-01\n",
      "   1.34599200e-01  2.71185065e-01  2.70042397e-01 -1.05586908e-02\n",
      "   2.55613338e-01 -1.58690872e-03 -9.56422199e-02  2.19511482e-02\n",
      "  -7.43332462e-01]\n",
      " [ 2.32182907e-01  1.82947411e-01 -9.44379066e-02  1.24165588e-01\n",
      "  -3.97143415e-01 -1.77129472e-01  4.21185836e-03 -1.87007414e-01\n",
      "  -1.71110430e-01 -1.16140704e-01  1.38735009e-01  1.16936691e-01\n",
      "   1.02488748e-02 -3.36396869e-01 -3.98111779e-01  9.58234882e-02\n",
      "   8.51446126e-02 -1.87451299e-01 -1.85681350e-03 -4.78406545e-01\n",
      "   1.39891858e-01  1.49064919e-01 -5.17181129e-01  1.50090646e-01\n",
      "   1.37755174e-01]\n",
      " [ 3.89775012e-01  3.96648427e-02  1.29083817e-01  3.21802134e-01\n",
      "   3.73529083e-02 -1.63598391e-01 -7.90021478e-01 -2.87594927e-01\n",
      "   1.00805644e-01  1.27035982e-01  1.01381868e-01 -5.34156595e-02\n",
      "  -1.33394235e-01 -7.62549247e-02  8.24025482e-01  1.06217702e-01\n",
      "  -2.76213141e-02  2.69209842e-01 -3.64928649e-01 -2.90418916e-02\n",
      "   4.04825944e-01  4.47410207e-02 -2.00486342e-01  9.89163334e-02\n",
      "  -1.07146555e-01]\n",
      " [-1.37301764e-01  5.14919079e-01 -2.06229739e-01  1.18489249e-01\n",
      "  -3.58078973e-02 -3.96996085e-01 -2.89735804e-01  4.29852996e-01\n",
      "  -2.16619703e-02  1.38903168e-01 -2.78655140e-02  1.83746459e-01\n",
      "   4.26205121e-01  8.94652761e-01 -9.57910876e-02 -1.42844634e-01\n",
      "  -9.01384088e-02 -3.23476624e-01 -1.45755155e-01  4.42839363e-01\n",
      "  -1.61824185e-01 -1.17748819e-01  2.94830405e-01 -3.07778347e-02\n",
      "  -9.41721569e-02]\n",
      " [-2.28148708e-01 -6.82454688e-02 -6.11434495e-01 -2.05094991e-01\n",
      "  -1.78374056e-01 -2.50906996e-01 -3.12672975e-02 -5.52934040e-01\n",
      "  -4.51464166e-01  2.63606048e-01 -2.19844971e-01 -6.67936554e-01\n",
      "   5.30652276e-01 -7.13841807e-02 -1.25322584e-01  8.30808844e-02\n",
      "  -1.62176811e-01 -7.18881437e-02 -8.34799780e-02 -1.98456492e-01\n",
      "   6.49825616e-01  2.39890009e-01 -3.42383100e-01 -3.53770740e-01\n",
      "  -4.73001031e-02]\n",
      " [-3.70310262e-01 -5.64893764e-01 -4.61350242e-01  8.18919886e-02\n",
      "  -3.01776370e-01 -5.02958731e-01 -1.53910600e-01  2.04401510e-01\n",
      "   7.13136156e-02 -3.87978669e-01  1.91306095e-01 -7.83890819e-02\n",
      "  -1.34799078e-01  1.67949246e-01 -7.24217276e-02 -2.83848411e-01\n",
      "  -5.90889967e-01  2.30834106e-01  4.41196881e-01 -2.54656673e-03\n",
      "   4.29061488e-01 -4.26504162e-01  2.24964875e-01  6.34630848e-02\n",
      "  -4.92889362e-01]\n",
      " [ 2.74004879e-03 -4.88151940e-02 -1.90055382e-01 -5.28214707e-01\n",
      "  -1.63633026e-02  3.09684861e-01  2.47460307e-01 -4.15282663e-01\n",
      "  -6.90228240e-01 -2.40727403e-01 -2.69891045e-01  4.16754657e-01\n",
      "   2.07091320e-02  2.71232285e-01  2.60993220e-02 -5.41703562e-01\n",
      "   8.55434145e-02 -6.68237840e-02  2.46850191e-01  5.64615417e-01\n",
      "  -4.56383713e-01  4.07062433e-02 -2.38352541e-01 -5.30066481e-01\n",
      "  -1.38511616e-01]\n",
      " [-1.32240657e-01  1.95431748e-01 -2.04971748e-01 -3.42429934e-01\n",
      "  -1.55887006e-01 -1.82061267e-01 -3.57476674e-01 -1.07602214e-01\n",
      "   3.36851552e-01  2.21253063e-01  8.13357822e-01  5.11795314e-01\n",
      "  -9.87007564e-02 -2.72673044e-01 -1.60938672e-01  5.41686996e-01\n",
      "  -3.22821262e-02 -8.38743932e-02  1.57798663e-01  2.80355059e-01\n",
      "  -1.04507450e+00 -8.19159218e-01  5.97619531e-02  2.12544349e-02\n",
      "   4.44702283e-02]\n",
      " [-9.75465659e-02  5.92403805e-02  3.13993315e-01  1.99294303e-01\n",
      "  -2.88787507e-01 -3.77300523e-01 -7.72383230e-02 -1.04926325e-01\n",
      "   2.36319950e-01  1.60214763e-01 -1.58918347e-01 -1.17121037e-01\n",
      "   7.72578428e-01 -2.81399215e-01 -5.38677337e-01 -5.78346020e-02\n",
      "   1.01855973e-01 -1.43939189e-01 -1.19689666e-01 -2.19971413e-01\n",
      "  -5.70924473e-01  6.55047945e-02 -1.53246682e-01  2.10111452e-01\n",
      "   2.61449069e-01]\n",
      " [ 2.67968248e-03  1.21667909e-01 -2.65863789e-01  6.18163735e-03\n",
      "   1.64637385e-04  8.62721830e-01 -1.60571799e-02  1.46145247e-01\n",
      "  -6.19327525e-02 -1.49423702e-01  1.37355149e-01 -3.21046775e-01\n",
      "  -4.80138777e-01 -3.25826653e-01  3.77482970e-01 -3.68017819e-01\n",
      "  -1.47123079e-01 -1.87687076e-01 -8.86170411e-02 -5.30812143e-01\n",
      "   2.73017612e-01 -2.30721970e-01 -2.62323487e-01  7.34466630e-02\n",
      "  -1.09033478e-01]]\n",
      "[[ 0.27882603  0.0300191  -0.11663055 -0.31585683  0.24286036  0.34713799\n",
      "  -0.22515316  0.29917722 -0.10586304  0.17892626 -0.17632952 -0.1774473 ]]\n"
     ]
    }
   ],
   "source": [
    "import numpy as np\n",
    "import scipy.special\n",
    "\n",
    "class NeuralNetwork:\n",
    "    \n",
    "    def __init__(self, inputnodes, hiddennodes, outputnodes, learningrate, lambda_reg):\n",
    "        # Set number of nodes in each input, hidden, output layer\n",
    "        self.inodes = inputnodes\n",
    "        self.hnodes = hiddennodes\n",
    "        self.onodes = outputnodes\n",
    "\n",
    "        # Initialize weights with a normal distribution\n",
    "        self.wih = np.random.normal(0.0, np.sqrt(2.0 / self.inodes), (self.hnodes, self.inodes))\n",
    "        # self.wih = np.random.normal(0.0, pow(self.inodes, -0.5), (self.hnodes, self.inodes))\n",
    "        self.who = np.random.normal(0.0, pow(self.hnodes, -0.5), (self.onodes, self.hnodes))\n",
    "\n",
    "        print(self.wih)\n",
    "        print(self.who)\n",
    "\n",
    "        # Learning ratek\n",
    "        self.lr = learningrate\n",
    "        \n",
    "        # Activation functions\n",
    "        self.activation_function_hidden = lambda x: np.maximum(0, x)  # ReLU for hidden layers\n",
    "        self.activation_function_output = lambda x: scipy.special.expit(x)  # Sigmoid for output layer\n",
    "\n",
    "        # Regularizing parameter\n",
    "        self.lambda_reg = lambda_reg\n",
    "\n",
    "        pass\n",
    "\n",
    "    def sigmoid(self, x):\n",
    "        # Modified sigmoid function with input clipping\n",
    "        return 1 / (1 + np.exp(-np.clip(x, -500, 500)))\n",
    "    \n",
    "\n",
    "    def train(self, inputs_list, targets_list):\n",
    "        # Convert inputs list to 2d array\n",
    "        inputs = np.array(inputs_list, ndmin=2).T\n",
    "        # Adjust targets from -1 to 0, keep 1 as is\n",
    "        targets = np.array([(0 if t == -1 else 1) for t in targets_list], ndmin=2).T\n",
    "\n",
    "        # Forward pass\n",
    "        hidden_inputs = np.dot(self.wih, inputs)\n",
    "        hidden_outputs = self.activation_function_hidden(hidden_inputs)\n",
    "        \n",
    "        final_inputs = np.dot(self.who, hidden_outputs)\n",
    "        final_outputs = self.sigmoid(final_inputs)\n",
    "\n",
    "        # Error calculation\n",
    "        output_errors = targets - final_outputs\n",
    "        hidden_errors = np.dot(self.who.T, output_errors)\n",
    "\n",
    "        # Gradient for output layer\n",
    "        output_gradient = output_errors * final_outputs * (1.0 - final_outputs)\n",
    "\n",
    "        # Gradient clipping for output layer\n",
    "        max_gradient = 1.0  # Set your desired maximum gradient value\n",
    "        output_gradient = np.clip(output_gradient, -max_gradient, max_gradient)\n",
    "\n",
    "        # Update output layer weights\n",
    "        # self.who += self.lr * (np.dot(output_gradient, np.transpose(hidden_outputs)) + self.lambda_reg * self.who)\n",
    "        self.who += self.lr * (np.dot(output_gradient, np.transpose(hidden_outputs)) - self.lambda_reg * self.who)\n",
    "\n",
    "        # Gradient for hidden layer (considering ReLU derivative)\n",
    "        hidden_gradient = hidden_errors * (hidden_outputs > 0)\n",
    "        # Gradient clipping for hidden layer\n",
    "        hidden_gradient = np.clip(hidden_gradient, -max_gradient, max_gradient)\n",
    "\n",
    "        # Update hidden layer weights\n",
    "        self.wih += self.lr * (np.dot(hidden_gradient, np.transpose(inputs)) - self.lambda_reg * self.wih)\n",
    "        \n",
    "        pass\n",
    "\n",
    "    def query(self, inputs_list):\n",
    "        # Convert inputs list to 2d array\n",
    "        inputs = np.array(inputs_list, ndmin=2).T\n",
    "\n",
    "        # Forward pass\n",
    "        hidden_inputs = np.dot(self.wih, inputs)\n",
    "        hidden_outputs = self.activation_function_hidden(hidden_inputs)\n",
    "        \n",
    "        final_inputs = np.dot(self.who, hidden_outputs)\n",
    "        final_outputs = self.sigmoid(final_inputs)\n",
    "        \n",
    "        return final_outputs\n",
    "\n",
    "# Example: Creating a Neural Network\n",
    "input_nodes = 25\n",
    "hidden_nodes = 12   # Adjust as needed\n",
    "output_nodes = 1\n",
    "learning_rate = 0.07\n",
    "lambda_reg = 0.000\n",
    "\n",
    "nn = NeuralNetwork(input_nodes, hidden_nodes, output_nodes, learning_rate, lambda_reg)\n"
   ]
  },
  {
   "cell_type": "code",
   "execution_count": 37,
   "metadata": {},
   "outputs": [],
   "source": [
    "def mean_squared_error(targets, predictions):\n",
    "    return np.mean((targets - predictions) ** 2)"
   ]
  },
  {
   "cell_type": "code",
   "execution_count": 38,
   "metadata": {},
   "outputs": [
    {
     "data": {
      "text/plain": [
       "array([[0.63970421]])"
      ]
     },
     "execution_count": 38,
     "metadata": {},
     "output_type": "execute_result"
    }
   ],
   "source": [
    "predictions = nn.query(df_resampled_train.iloc[1].values)\n",
    "\n",
    "predictions"
   ]
  },
  {
   "cell_type": "code",
   "execution_count": 39,
   "metadata": {},
   "outputs": [
    {
     "name": "stdout",
     "output_type": "stream",
     "text": [
      "Epoch 1/100, Loss: 0.3552433517310587\n",
      "Epoch 2/100, Loss: 0.25489212242849973\n",
      "Epoch 3/100, Loss: 0.20672353236327146\n",
      "Epoch 4/100, Loss: 0.17461113898645259\n",
      "Epoch 5/100, Loss: 0.1445057701956849\n",
      "Epoch 6/100, Loss: 0.1244355243351731\n",
      "Epoch 7/100, Loss: 0.11038635223281486\n",
      "Epoch 8/100, Loss: 0.10235825388861014\n",
      "Epoch 9/100, Loss: 0.08830908178625188\n",
      "Epoch 10/100, Loss: 0.06623181133968892\n",
      "Epoch 11/100, Loss: 0.0481685900652283\n",
      "Epoch 12/100, Loss: 0.042147516307074764\n",
      "Epoch 13/100, Loss: 0.03411941796287005\n",
      "Epoch 14/100, Loss: 0.030105368790767688\n",
      "Epoch 15/100, Loss: 0.02609131961866533\n",
      "Epoch 16/100, Loss: 0.02609131961866533\n",
      "Epoch 17/100, Loss: 0.02609131961866533\n",
      "Epoch 18/100, Loss: 0.02007024586051179\n",
      "Epoch 19/100, Loss: 0.01806322127446061\n",
      "Epoch 20/100, Loss: 0.016056196688409432\n",
      "Epoch 21/100, Loss: 0.01806322127446061\n",
      "Epoch 22/100, Loss: 0.014049172102358254\n",
      "Epoch 23/100, Loss: 0.016056196688409432\n",
      "Epoch 24/100, Loss: 0.010035122930255895\n",
      "Epoch 25/100, Loss: 0.008028098344204716\n",
      "Epoch 26/100, Loss: 0.006021073758153537\n",
      "Epoch 27/100, Loss: 0.010035122930255895\n",
      "Epoch 28/100, Loss: 0.006021073758153537\n",
      "Epoch 29/100, Loss: 0.006021073758153537\n",
      "Epoch 30/100, Loss: 0.006021073758153537\n",
      "Epoch 31/100, Loss: 0.006021073758153537\n",
      "Epoch 32/100, Loss: 0.010035122930255895\n",
      "Epoch 33/100, Loss: 0.01806322127446061\n",
      "Epoch 34/100, Loss: 0.006021073758153537\n",
      "Epoch 35/100, Loss: 0.008028098344204716\n",
      "Epoch 36/100, Loss: 0.014049172102358254\n",
      "Epoch 37/100, Loss: 0.006021073758153537\n",
      "Epoch 38/100, Loss: 0.004014049172102358\n",
      "Epoch 39/100, Loss: 0.004014049172102358\n",
      "Epoch 40/100, Loss: 0.004014049172102358\n",
      "Epoch 41/100, Loss: 0.004014049172102358\n",
      "Epoch 42/100, Loss: 0.004014049172102358\n",
      "Epoch 43/100, Loss: 0.002007024586051179\n",
      "Epoch 44/100, Loss: 0.004014049172102358\n",
      "Epoch 45/100, Loss: 0.004014049172102358\n",
      "Epoch 46/100, Loss: 0.004014049172102358\n",
      "Epoch 47/100, Loss: 0.002007024586051179\n",
      "Epoch 48/100, Loss: 0.002007024586051179\n",
      "Epoch 49/100, Loss: 0.002007024586051179\n",
      "Epoch 50/100, Loss: 0.002007024586051179\n",
      "Epoch 51/100, Loss: 0.002007024586051179\n",
      "Epoch 52/100, Loss: 0.002007024586051179\n",
      "Epoch 53/100, Loss: 0.002007024586051179\n",
      "Epoch 54/100, Loss: 0.002007024586051179\n",
      "Epoch 55/100, Loss: 0.002007024586051179\n",
      "Epoch 56/100, Loss: 0.002007024586051179\n",
      "Epoch 57/100, Loss: 0.002007024586051179\n",
      "Epoch 58/100, Loss: 0.002007024586051179\n",
      "Epoch 59/100, Loss: 0.002007024586051179\n",
      "Epoch 60/100, Loss: 0.002007024586051179\n",
      "Epoch 61/100, Loss: 0.002007024586051179\n",
      "Epoch 62/100, Loss: 0.002007024586051179\n",
      "Epoch 63/100, Loss: 0.002007024586051179\n",
      "Epoch 64/100, Loss: 0.002007024586051179\n",
      "Epoch 65/100, Loss: 0.002007024586051179\n",
      "Epoch 66/100, Loss: 0.002007024586051179\n",
      "Epoch 67/100, Loss: 0.002007024586051179\n",
      "Epoch 68/100, Loss: 0.002007024586051179\n",
      "Epoch 69/100, Loss: 0.002007024586051179\n",
      "Epoch 70/100, Loss: 0.002007024586051179\n",
      "Epoch 71/100, Loss: 0.002007024586051179\n",
      "Epoch 72/100, Loss: 0.002007024586051179\n",
      "Epoch 73/100, Loss: 0.002007024586051179\n",
      "Epoch 74/100, Loss: 0.002007024586051179\n",
      "Epoch 75/100, Loss: 0.004014049172102358\n",
      "Epoch 76/100, Loss: 0.004014049172102358\n",
      "Epoch 77/100, Loss: 0.004014049172102358\n",
      "Epoch 78/100, Loss: 0.004014049172102358\n",
      "Epoch 79/100, Loss: 0.004014049172102358\n",
      "Epoch 80/100, Loss: 0.004014049172102358\n",
      "Epoch 81/100, Loss: 0.004014049172102358\n",
      "Epoch 82/100, Loss: 0.004014049172102358\n",
      "Epoch 83/100, Loss: 0.004014049172102358\n",
      "Epoch 84/100, Loss: 0.004014049172102358\n",
      "Epoch 85/100, Loss: 0.004014049172102358\n",
      "Epoch 86/100, Loss: 0.004014049172102358\n",
      "Epoch 87/100, Loss: 0.002007024586051179\n",
      "Epoch 88/100, Loss: 0.002007024586051179\n",
      "Epoch 89/100, Loss: 0.002007024586051179\n",
      "Epoch 90/100, Loss: 0.002007024586051179\n",
      "Epoch 91/100, Loss: 0.002007024586051179\n",
      "Epoch 92/100, Loss: 0.002007024586051179\n",
      "Epoch 93/100, Loss: 0.002007024586051179\n",
      "Epoch 94/100, Loss: 0.002007024586051179\n",
      "Epoch 95/100, Loss: 0.002007024586051179\n",
      "Epoch 96/100, Loss: 0.002007024586051179\n",
      "Epoch 97/100, Loss: 0.002007024586051179\n",
      "Epoch 98/100, Loss: 0.002007024586051179\n",
      "Epoch 99/100, Loss: 0.002007024586051179\n",
      "Epoch 100/100, Loss: 0.002007024586051179\n"
     ]
    }
   ],
   "source": [
    "epochs = 100\n",
    "losses = []\n",
    "\n",
    "for epoch in range(epochs):\n",
    "    epoch_losses = []\n",
    "    for i in range(len(df_resampled_train)):\n",
    "        inputs = df_resampled_train.iloc[i].values\n",
    "        targets = label_resampled_train.iloc[i].values\n",
    "\n",
    "        output = nn.query(inputs)\n",
    "        # predictions = np.array(predictions)\n",
    "\n",
    "        # Convert sigmoid output to -1 or 1\n",
    "        predicted_label = 1 if output[0] >= 0.8 else -1\n",
    "\n",
    "        nn.train(inputs, targets)\n",
    "\n",
    "        sample_loss = mean_squared_error(targets, predicted_label)\n",
    "        epoch_losses.append(sample_loss)\n",
    "\n",
    "        nn.train(inputs, targets)\n",
    "\n",
    "    epoch_loss = np.mean(epoch_losses)\n",
    "    losses.append(epoch_loss)\n",
    "\n",
    "    # Print the loss for this epoch (optional)\n",
    "    print(f\"Epoch {epoch+1}/{epochs}, Loss: {epoch_loss}\")\n",
    "\n",
    "    # # Log the weights\n",
    "    # print(f\"Weights between input and hidden layer (Mean, Std): {np.mean(nn.wih)}, {np.std(nn.wih)}\")\n",
    "    # print(f\"Weights between hidden and output layer (Mean, Std): {np.mean(nn.who)}, {np.std(nn.who)}\")\n",
    "\n"
   ]
  },
  {
   "cell_type": "code",
   "execution_count": 40,
   "metadata": {},
   "outputs": [
    {
     "data": {
      "image/png": "[encoded data removed]",
      "text/plain": [
       "<Figure size 1000x600 with 1 Axes>"
      ]
     },
     "metadata": {},
     "output_type": "display_data"
    }
   ],
   "source": [
    "import matplotlib.pyplot as plt\n",
    "\n",
    "# Plot the training loss\n",
    "plt.figure(figsize=(10, 6))\n",
    "plt.plot(range(1, epochs + 1), losses, label='Training Loss')\n",
    "plt.xlabel('Epochs')\n",
    "plt.ylabel('Loss')\n",
    "plt.title('Training Loss Over Epochs')\n",
    "plt.legend()\n",
    "plt.grid(True)\n",
    "plt.show()"
   ]
  },
  {
   "cell_type": "code",
   "execution_count": 41,
   "metadata": {},
   "outputs": [
    {
     "name": "stdout",
     "output_type": "stream",
     "text": [
      "Labels\n",
      " 1        997\n",
      "-1        996\n",
      "Name: count, dtype: int64\n"
     ]
    }
   ],
   "source": [
    "# print(df_resampled_train.value_counts())\n",
    "print(label_resampled_train.value_counts())"
   ]
  },
  {
   "cell_type": "code",
   "execution_count": 42,
   "metadata": {},
   "outputs": [
    {
     "data": {
      "text/plain": [
       "1"
      ]
     },
     "execution_count": 42,
     "metadata": {},
     "output_type": "execute_result"
    }
   ],
   "source": [
    "label_resampled_train.iloc[0,0]"
   ]
  },
  {
   "cell_type": "code",
   "execution_count": 43,
   "metadata": {},
   "outputs": [],
   "source": [
    "def calculate_mcc(y_true, y_pred):\n",
    "    tp = np.sum((y_true == 1) & (y_pred == 1))\n",
    "    tn = np.sum((y_true == -1) & (y_pred == -1))\n",
    "    fp = np.sum((y_true == -1) & (y_pred == 1))\n",
    "    fn = np.sum((y_true == 1) & (y_pred == -1))\n",
    "\n",
    "    numerator = (tp * tn) - (fp * fn)\n",
    "    denominator = np.sqrt((tp + fp) * (tp + fn) * (tn + fp) * (tn + fn))\n",
    "    return numerator / (denominator + np.finfo(float).eps)"
   ]
  },
  {
   "cell_type": "code",
   "execution_count": 44,
   "metadata": {},
   "outputs": [
    {
     "name": "stdout",
     "output_type": "stream",
     "text": [
      " 1    440\n",
      "-1    415\n",
      "Name: count, dtype: int64\n",
      "MCC on Validation Set: 0.9700402684141235\n"
     ]
    }
   ],
   "source": [
    "def evaluate_model(nn, X_val, y_val):\n",
    "    predictions = []\n",
    "\n",
    "    for i in range(len(X_val)):\n",
    "        inputs = X_val.iloc[i].values  # Convert DataFrame row to NumPy array\n",
    "        output = nn.query(inputs)\n",
    "        predicted_label = 1 if output[0] >= 0.8 else -1\n",
    "        predictions.append(predicted_label)\n",
    "\n",
    "    predictions = np.array(predictions)\n",
    "    print(pd.DataFrame(predictions).value_counts())\n",
    "\n",
    "    if isinstance(y_val, (pd.DataFrame, pd.Series)):\n",
    "        y_val = y_val.values.flatten()\n",
    "    mcc_score = calculate_mcc(y_val, predictions)\n",
    "    return mcc_score\n",
    "\n",
    "# Calculate MCC for the validation set\n",
    "mcc_validation = evaluate_model(nn, df_resampled_val, label_resampled_val)\n",
    "print(f\"MCC on Validation Set: {mcc_validation}\")"
   ]
  },
  {
   "cell_type": "code",
   "execution_count": 45,
   "metadata": {},
   "outputs": [
    {
     "data": {
      "text/html": [
       "<div>\n",
       "<style scoped>\n",
       "    .dataframe tbody tr th:only-of-type {\n",
       "        vertical-align: middle;\n",
       "    }\n",
       "\n",
       "    .dataframe tbody tr th {\n",
       "        vertical-align: top;\n",
       "    }\n",
       "\n",
       "    .dataframe thead th {\n",
       "        text-align: right;\n",
       "    }\n",
       "</style>\n",
       "<table border=\"1\" class=\"dataframe\">\n",
       "  <thead>\n",
       "    <tr style=\"text-align: right;\">\n",
       "      <th></th>\n",
       "      <th>0</th>\n",
       "      <th>1</th>\n",
       "      <th>2</th>\n",
       "      <th>3</th>\n",
       "      <th>4</th>\n",
       "      <th>5</th>\n",
       "      <th>6</th>\n",
       "      <th>7</th>\n",
       "      <th>8</th>\n",
       "      <th>9</th>\n",
       "      <th>...</th>\n",
       "      <th>15</th>\n",
       "      <th>16</th>\n",
       "      <th>17</th>\n",
       "      <th>18</th>\n",
       "      <th>19</th>\n",
       "      <th>20</th>\n",
       "      <th>21</th>\n",
       "      <th>22</th>\n",
       "      <th>23</th>\n",
       "      <th>24</th>\n",
       "    </tr>\n",
       "  </thead>\n",
       "  <tbody>\n",
       "    <tr>\n",
       "      <th>1576</th>\n",
       "      <td>1.804878</td>\n",
       "      <td>0.0</td>\n",
       "      <td>0.000000</td>\n",
       "      <td>0.0</td>\n",
       "      <td>0.000000</td>\n",
       "      <td>0.0</td>\n",
       "      <td>0.000000</td>\n",
       "      <td>0.0</td>\n",
       "      <td>1.195122</td>\n",
       "      <td>0.0</td>\n",
       "      <td>...</td>\n",
       "      <td>0.00000</td>\n",
       "      <td>0.000000</td>\n",
       "      <td>4.000000</td>\n",
       "      <td>0.00000</td>\n",
       "      <td>0.0</td>\n",
       "      <td>0.0</td>\n",
       "      <td>3.000000</td>\n",
       "      <td>1.000000</td>\n",
       "      <td>0.00000</td>\n",
       "      <td>0.0</td>\n",
       "    </tr>\n",
       "    <tr>\n",
       "      <th>324</th>\n",
       "      <td>0.000000</td>\n",
       "      <td>0.0</td>\n",
       "      <td>0.000000</td>\n",
       "      <td>0.0</td>\n",
       "      <td>0.000000</td>\n",
       "      <td>0.0</td>\n",
       "      <td>1.000000</td>\n",
       "      <td>0.0</td>\n",
       "      <td>0.000000</td>\n",
       "      <td>0.0</td>\n",
       "      <td>...</td>\n",
       "      <td>0.00000</td>\n",
       "      <td>0.000000</td>\n",
       "      <td>0.000000</td>\n",
       "      <td>0.00000</td>\n",
       "      <td>0.0</td>\n",
       "      <td>0.0</td>\n",
       "      <td>1.000000</td>\n",
       "      <td>1.000000</td>\n",
       "      <td>1.00000</td>\n",
       "      <td>0.0</td>\n",
       "    </tr>\n",
       "    <tr>\n",
       "      <th>2123</th>\n",
       "      <td>0.897279</td>\n",
       "      <td>0.0</td>\n",
       "      <td>0.102721</td>\n",
       "      <td>0.0</td>\n",
       "      <td>0.102721</td>\n",
       "      <td>0.0</td>\n",
       "      <td>0.102721</td>\n",
       "      <td>0.0</td>\n",
       "      <td>0.897279</td>\n",
       "      <td>0.0</td>\n",
       "      <td>...</td>\n",
       "      <td>0.00000</td>\n",
       "      <td>0.102721</td>\n",
       "      <td>2.794559</td>\n",
       "      <td>0.00000</td>\n",
       "      <td>0.0</td>\n",
       "      <td>0.0</td>\n",
       "      <td>1.897279</td>\n",
       "      <td>0.000000</td>\n",
       "      <td>0.00000</td>\n",
       "      <td>0.0</td>\n",
       "    </tr>\n",
       "    <tr>\n",
       "      <th>2514</th>\n",
       "      <td>0.000000</td>\n",
       "      <td>0.0</td>\n",
       "      <td>0.000000</td>\n",
       "      <td>0.0</td>\n",
       "      <td>0.000000</td>\n",
       "      <td>0.0</td>\n",
       "      <td>1.000000</td>\n",
       "      <td>0.0</td>\n",
       "      <td>0.000000</td>\n",
       "      <td>0.0</td>\n",
       "      <td>...</td>\n",
       "      <td>0.48643</td>\n",
       "      <td>0.486430</td>\n",
       "      <td>1.540711</td>\n",
       "      <td>0.51357</td>\n",
       "      <td>0.0</td>\n",
       "      <td>0.0</td>\n",
       "      <td>0.486430</td>\n",
       "      <td>4.972859</td>\n",
       "      <td>0.48643</td>\n",
       "      <td>0.0</td>\n",
       "    </tr>\n",
       "    <tr>\n",
       "      <th>2175</th>\n",
       "      <td>0.000000</td>\n",
       "      <td>0.0</td>\n",
       "      <td>0.000000</td>\n",
       "      <td>0.0</td>\n",
       "      <td>0.000000</td>\n",
       "      <td>0.0</td>\n",
       "      <td>0.000000</td>\n",
       "      <td>0.0</td>\n",
       "      <td>2.000000</td>\n",
       "      <td>0.0</td>\n",
       "      <td>...</td>\n",
       "      <td>0.00000</td>\n",
       "      <td>1.000000</td>\n",
       "      <td>3.588774</td>\n",
       "      <td>0.00000</td>\n",
       "      <td>0.0</td>\n",
       "      <td>0.0</td>\n",
       "      <td>2.588774</td>\n",
       "      <td>2.000000</td>\n",
       "      <td>0.00000</td>\n",
       "      <td>0.0</td>\n",
       "    </tr>\n",
       "  </tbody>\n",
       "</table>\n",
       "<p>5 rows × 25 columns</p>\n",
       "</div>"
      ],
      "text/plain": [
       "            0    1         2    3         4    5         6    7         8   \\\n",
       "1576  1.804878  0.0  0.000000  0.0  0.000000  0.0  0.000000  0.0  1.195122   \n",
       "324   0.000000  0.0  0.000000  0.0  0.000000  0.0  1.000000  0.0  0.000000   \n",
       "2123  0.897279  0.0  0.102721  0.0  0.102721  0.0  0.102721  0.0  0.897279   \n",
       "2514  0.000000  0.0  0.000000  0.0  0.000000  0.0  1.000000  0.0  0.000000   \n",
       "2175  0.000000  0.0  0.000000  0.0  0.000000  0.0  0.000000  0.0  2.000000   \n",
       "\n",
       "       9   ...       15        16        17       18   19   20        21  \\\n",
       "1576  0.0  ...  0.00000  0.000000  4.000000  0.00000  0.0  0.0  3.000000   \n",
       "324   0.0  ...  0.00000  0.000000  0.000000  0.00000  0.0  0.0  1.000000   \n",
       "2123  0.0  ...  0.00000  0.102721  2.794559  0.00000  0.0  0.0  1.897279   \n",
       "2514  0.0  ...  0.48643  0.486430  1.540711  0.51357  0.0  0.0  0.486430   \n",
       "2175  0.0  ...  0.00000  1.000000  3.588774  0.00000  0.0  0.0  2.588774   \n",
       "\n",
       "            22       23   24  \n",
       "1576  1.000000  0.00000  0.0  \n",
       "324   1.000000  1.00000  0.0  \n",
       "2123  0.000000  0.00000  0.0  \n",
       "2514  4.972859  0.48643  0.0  \n",
       "2175  2.000000  0.00000  0.0  \n",
       "\n",
       "[5 rows x 25 columns]"
      ]
     },
     "execution_count": 45,
     "metadata": {},
     "output_type": "execute_result"
    }
   ],
   "source": [
    "df_resampled_val.head()"
   ]
  },
  {
   "cell_type": "code",
   "execution_count": 46,
   "metadata": {},
   "outputs": [],
   "source": [
    "test_aa_frequencies = calculate_amino_acid_frequencies(test_data['Sequence'])\n",
    "test_freq_array = np.array(test_aa_frequencies)"
   ]
  },
  {
   "cell_type": "code",
   "execution_count": 47,
   "metadata": {},
   "outputs": [
    {
     "data": {
      "text/plain": [
       "array([[4., 0., 1., ..., 0., 1., 0.],\n",
       "       [4., 0., 0., ..., 0., 1., 0.],\n",
       "       [0., 0., 0., ..., 0., 0., 0.],\n",
       "       ...,\n",
       "       [7., 0., 1., ..., 0., 0., 0.],\n",
       "       [2., 0., 0., ..., 0., 1., 0.],\n",
       "       [4., 0., 1., ..., 0., 0., 0.]])"
      ]
     },
     "execution_count": 47,
     "metadata": {},
     "output_type": "execute_result"
    }
   ],
   "source": [
    "test_freq_array"
   ]
  },
  {
   "cell_type": "code",
   "execution_count": 48,
   "metadata": {},
   "outputs": [
    {
     "data": {
      "text/html": [
       "<div>\n",
       "<style scoped>\n",
       "    .dataframe tbody tr th:only-of-type {\n",
       "        vertical-align: middle;\n",
       "    }\n",
       "\n",
       "    .dataframe tbody tr th {\n",
       "        vertical-align: top;\n",
       "    }\n",
       "\n",
       "    .dataframe thead th {\n",
       "        text-align: right;\n",
       "    }\n",
       "</style>\n",
       "<table border=\"1\" class=\"dataframe\">\n",
       "  <thead>\n",
       "    <tr style=\"text-align: right;\">\n",
       "      <th></th>\n",
       "      <th>0</th>\n",
       "      <th>1</th>\n",
       "      <th>2</th>\n",
       "      <th>3</th>\n",
       "      <th>4</th>\n",
       "      <th>5</th>\n",
       "      <th>6</th>\n",
       "      <th>7</th>\n",
       "      <th>8</th>\n",
       "      <th>9</th>\n",
       "      <th>...</th>\n",
       "      <th>15</th>\n",
       "      <th>16</th>\n",
       "      <th>17</th>\n",
       "      <th>18</th>\n",
       "      <th>19</th>\n",
       "      <th>20</th>\n",
       "      <th>21</th>\n",
       "      <th>22</th>\n",
       "      <th>23</th>\n",
       "      <th>24</th>\n",
       "    </tr>\n",
       "  </thead>\n",
       "  <tbody>\n",
       "    <tr>\n",
       "      <th>0</th>\n",
       "      <td>4.0</td>\n",
       "      <td>0.0</td>\n",
       "      <td>1.0</td>\n",
       "      <td>1.0</td>\n",
       "      <td>3.0</td>\n",
       "      <td>1.0</td>\n",
       "      <td>1.0</td>\n",
       "      <td>1.0</td>\n",
       "      <td>1.0</td>\n",
       "      <td>0.0</td>\n",
       "      <td>...</td>\n",
       "      <td>1.0</td>\n",
       "      <td>1.0</td>\n",
       "      <td>1.0</td>\n",
       "      <td>2.0</td>\n",
       "      <td>2.0</td>\n",
       "      <td>0.0</td>\n",
       "      <td>1.0</td>\n",
       "      <td>0.0</td>\n",
       "      <td>1.0</td>\n",
       "      <td>0.0</td>\n",
       "    </tr>\n",
       "    <tr>\n",
       "      <th>1</th>\n",
       "      <td>4.0</td>\n",
       "      <td>0.0</td>\n",
       "      <td>0.0</td>\n",
       "      <td>4.0</td>\n",
       "      <td>3.0</td>\n",
       "      <td>1.0</td>\n",
       "      <td>3.0</td>\n",
       "      <td>0.0</td>\n",
       "      <td>1.0</td>\n",
       "      <td>0.0</td>\n",
       "      <td>...</td>\n",
       "      <td>2.0</td>\n",
       "      <td>1.0</td>\n",
       "      <td>2.0</td>\n",
       "      <td>1.0</td>\n",
       "      <td>3.0</td>\n",
       "      <td>0.0</td>\n",
       "      <td>1.0</td>\n",
       "      <td>0.0</td>\n",
       "      <td>1.0</td>\n",
       "      <td>0.0</td>\n",
       "    </tr>\n",
       "    <tr>\n",
       "      <th>2</th>\n",
       "      <td>0.0</td>\n",
       "      <td>0.0</td>\n",
       "      <td>0.0</td>\n",
       "      <td>1.0</td>\n",
       "      <td>1.0</td>\n",
       "      <td>1.0</td>\n",
       "      <td>0.0</td>\n",
       "      <td>0.0</td>\n",
       "      <td>2.0</td>\n",
       "      <td>0.0</td>\n",
       "      <td>...</td>\n",
       "      <td>1.0</td>\n",
       "      <td>1.0</td>\n",
       "      <td>4.0</td>\n",
       "      <td>1.0</td>\n",
       "      <td>1.0</td>\n",
       "      <td>0.0</td>\n",
       "      <td>2.0</td>\n",
       "      <td>0.0</td>\n",
       "      <td>0.0</td>\n",
       "      <td>0.0</td>\n",
       "    </tr>\n",
       "    <tr>\n",
       "      <th>3</th>\n",
       "      <td>3.0</td>\n",
       "      <td>0.0</td>\n",
       "      <td>0.0</td>\n",
       "      <td>0.0</td>\n",
       "      <td>1.0</td>\n",
       "      <td>0.0</td>\n",
       "      <td>1.0</td>\n",
       "      <td>0.0</td>\n",
       "      <td>0.0</td>\n",
       "      <td>0.0</td>\n",
       "      <td>...</td>\n",
       "      <td>1.0</td>\n",
       "      <td>1.0</td>\n",
       "      <td>2.0</td>\n",
       "      <td>1.0</td>\n",
       "      <td>0.0</td>\n",
       "      <td>0.0</td>\n",
       "      <td>1.0</td>\n",
       "      <td>1.0</td>\n",
       "      <td>1.0</td>\n",
       "      <td>0.0</td>\n",
       "    </tr>\n",
       "    <tr>\n",
       "      <th>4</th>\n",
       "      <td>4.0</td>\n",
       "      <td>0.0</td>\n",
       "      <td>0.0</td>\n",
       "      <td>1.0</td>\n",
       "      <td>2.0</td>\n",
       "      <td>2.0</td>\n",
       "      <td>2.0</td>\n",
       "      <td>0.0</td>\n",
       "      <td>1.0</td>\n",
       "      <td>0.0</td>\n",
       "      <td>...</td>\n",
       "      <td>0.0</td>\n",
       "      <td>2.0</td>\n",
       "      <td>4.0</td>\n",
       "      <td>1.0</td>\n",
       "      <td>0.0</td>\n",
       "      <td>0.0</td>\n",
       "      <td>0.0</td>\n",
       "      <td>0.0</td>\n",
       "      <td>0.0</td>\n",
       "      <td>0.0</td>\n",
       "    </tr>\n",
       "  </tbody>\n",
       "</table>\n",
       "<p>5 rows × 25 columns</p>\n",
       "</div>"
      ],
      "text/plain": [
       "    0    1    2    3    4    5    6    7    8    9   ...   15   16   17   18  \\\n",
       "0  4.0  0.0  1.0  1.0  3.0  1.0  1.0  1.0  1.0  0.0  ...  1.0  1.0  1.0  2.0   \n",
       "1  4.0  0.0  0.0  4.0  3.0  1.0  3.0  0.0  1.0  0.0  ...  2.0  1.0  2.0  1.0   \n",
       "2  0.0  0.0  0.0  1.0  1.0  1.0  0.0  0.0  2.0  0.0  ...  1.0  1.0  4.0  1.0   \n",
       "3  3.0  0.0  0.0  0.0  1.0  0.0  1.0  0.0  0.0  0.0  ...  1.0  1.0  2.0  1.0   \n",
       "4  4.0  0.0  0.0  1.0  2.0  2.0  2.0  0.0  1.0  0.0  ...  0.0  2.0  4.0  1.0   \n",
       "\n",
       "    19   20   21   22   23   24  \n",
       "0  2.0  0.0  1.0  0.0  1.0  0.0  \n",
       "1  3.0  0.0  1.0  0.0  1.0  0.0  \n",
       "2  1.0  0.0  2.0  0.0  0.0  0.0  \n",
       "3  0.0  0.0  1.0  1.0  1.0  0.0  \n",
       "4  0.0  0.0  0.0  0.0  0.0  0.0  \n",
       "\n",
       "[5 rows x 25 columns]"
      ]
     },
     "execution_count": 48,
     "metadata": {},
     "output_type": "execute_result"
    }
   ],
   "source": [
    "test_vectorized_df = pd.DataFrame(test_freq_array)\n",
    "test_vectorized_df.head()"
   ]
  },
  {
   "cell_type": "code",
   "execution_count": 49,
   "metadata": {},
   "outputs": [
    {
     "name": "stdout",
     "output_type": "stream",
     "text": [
      "<class 'numpy.ndarray'>\n"
     ]
    }
   ],
   "source": [
    "def predict_model(nn, X_test):\n",
    "    predictions = []\n",
    "\n",
    "    for i in range(len(X_test)):\n",
    "        inputs = X_test.iloc[i].values  # Convert DataFrame row to NumPy array\n",
    "        output = nn.query(inputs)\n",
    "        predicted_label = 1 if output[0] >= 0.8 else -1\n",
    "        predictions.append(predicted_label)\n",
    "\n",
    "    predictions = np.array(predictions)\n",
    "    return predictions\n",
    "\n",
    "# Calculate MCC for the validation set\n",
    "predictions = predict_model(nn, test_vectorized_df)\n",
    "print(type(predictions))"
   ]
  },
  {
   "cell_type": "code",
   "execution_count": 52,
   "metadata": {},
   "outputs": [],
   "source": [
    "# np.savetxt('format_16_0.1_0.8.txt', predictions, fmt='%d')\n",
    "predictions_df = pd.DataFrame(predictions)\n",
    "predictions_df.to_clipboard(index=False)"
   ]
  },
  {
   "cell_type": "code",
   "execution_count": null,
   "metadata": {},
   "outputs": [],
   "source": []
  }
 ],
 "metadata": {
  "kernelspec": {
   "display_name": "dl_a",
   "language": "python",
   "name": "python3"
  },
  "language_info": {
   "codemirror_mode": {
    "name": "ipython",
    "version": 3
   },
   "file_extension": ".py",
   "mimetype": "text/x-python",
   "name": "python",
   "nbconvert_exporter": "python",
   "pygments_lexer": "ipython3",
   "version": "3.11.7"
  }
 },
 "nbformat": 4,
 "nbformat_minor": 2
}
